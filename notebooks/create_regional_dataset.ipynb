{
 "cells": [
  {
   "cell_type": "code",
   "execution_count": 22,
   "id": "f1d158d9-5068-427e-ad89-6cd9741cee43",
   "metadata": {},
   "outputs": [],
   "source": [
    "import os, sys\n",
    "sys.path.insert(1, os.path.abspath('..'))\n",
    "\n",
    "from eustats import *"
   ]
  },
  {
   "cell_type": "code",
   "execution_count": 23,
   "id": "b380d28d-7e6e-4f5b-82e3-e1d9d2ec214a",
   "metadata": {},
   "outputs": [],
   "source": [
    "# Create a dictionary with EU NUTS2 regions\n",
    "regions = {}\n",
    "for item in countries.values():\n",
    "    regions.update(codes[item])"
   ]
  },
  {
   "cell_type": "code",
   "execution_count": 24,
   "id": "dd5d63ab-9317-4aa0-a366-7f412cfd4cf4",
   "metadata": {},
   "outputs": [],
   "source": [
    "# Get Regional GDP\n",
    "def get_gdp_region():\n",
    "    params = {'unit': 'MIO_EUR', 'geo': list(regions.keys()), 'time': 2020}\n",
    "    df = client.get_dataset('nama_10r_2gdp', params).to_dataframe()\n",
    "    df.dropna(inplace = True)\n",
    "    df['region_name'] = df['geo'].apply(lambda x: regions[x])\n",
    "    df.set_index('region_name', inplace=True) \n",
    "    df.rename(columns = {'values': 'GDP'}, inplace = True)\n",
    "    df['GDP'] = df['GDP'] / 1000\n",
    "    df = df[['GDP']]\n",
    "\n",
    "    return df"
   ]
  },
  {
   "cell_type": "code",
   "execution_count": 25,
   "id": "ff71efcc-e4a6-4dce-9881-f431ddda628f",
   "metadata": {},
   "outputs": [],
   "source": [
    "# Get regional GDP per capita\n",
    "def get_gdp_capita_region():\n",
    "    params = {'unit': 'EUR_HAB', 'time': 2020,\n",
    "              'geo': list(regions.keys())}\n",
    "    df = client.get_dataset('nama_10r_2gdp', params).to_dataframe()\n",
    "    df.dropna(inplace = True)\n",
    "    df['region_name'] = df['geo'].apply(lambda x: regions[x])\n",
    "    df.set_index('region_name', inplace=True) \n",
    "    df.rename(columns = {'values': 'GDP per Capita'}, inplace = True)\n",
    "    df = df[['GDP per Capita']]\n",
    "    \n",
    "    return df\n"
   ]
  },
  {
   "cell_type": "code",
   "execution_count": 26,
   "id": "7c9a96ad-052a-49b0-b364-cea1adb39312",
   "metadata": {},
   "outputs": [],
   "source": [
    "# Get regional Unemployment\n",
    "def get_unemployment_region():\n",
    "    params = {'sex': 'T', 'geo': list(regions.keys()), 'time': 2021,\n",
    "              'age': 'Y15-74', 'isced11': 'TOTAL'} \n",
    "    df = client.get_dataset('lfst_r_lfu3rt', params).to_dataframe()\n",
    "    df.dropna(inplace = True)\n",
    "    df['region_name'] = df['geo'].apply(lambda x: regions[x])\n",
    "    df.rename(columns = {'values': 'Unemployment %'}, inplace = True)\n",
    "    df.set_index('region_name', inplace=True) \n",
    "    df = df[['Unemployment %']]\n",
    "    \n",
    "    return df\n"
   ]
  },
  {
   "cell_type": "code",
   "execution_count": 27,
   "id": "d88a8821-1ff9-4081-90a5-710b11b03e1a",
   "metadata": {
    "tags": []
   },
   "outputs": [],
   "source": [
    "# Get life expectancy\n",
    "def get_life_expectancy():\n",
    "    params = {'sex': 'T', 'geo': list(regions.keys()), 'time': 2020}\n",
    "    df = client.get_dataset('tgs00101', params).to_dataframe()\n",
    "    df.dropna(inplace = True)\n",
    "    df['region_name'] = df['geo'].apply(lambda x: regions[x])\n",
    "    df.rename(columns = {'values': 'Life Expectancy'}, inplace = True)\n",
    "    df.set_index('region_name', inplace=True) \n",
    "    df = df[['Life Expectancy']]\n",
    "    \n",
    "    return df"
   ]
  },
  {
   "cell_type": "code",
   "execution_count": 28,
   "id": "8d9569f3-7ce7-429e-b22a-4abf7a5032bb",
   "metadata": {},
   "outputs": [],
   "source": [
    "# Tertiary Educational attainment\n",
    "\n",
    "def get_tertiary_education():\n",
    "    params = {'sex': 'T', 'geo': list(regions.keys()), 'time': 2020}\n",
    "    df = client.get_dataset('tgs00109', params).to_dataframe()\n",
    "    df.dropna(inplace = True)\n",
    "    df['region_name'] = df['geo'].apply(lambda x: regions[x])\n",
    "    df.rename(columns = {'values': 'Tertiary Educational Attainment %'}, inplace = True)\n",
    "    df.set_index('region_name', inplace=True) \n",
    "    df = df[['Tertiary Educational Attainment %']]\n",
    "    \n",
    "    return df"
   ]
  },
  {
   "cell_type": "code",
   "execution_count": 29,
   "id": "2eb66c5f-229b-41c4-adf3-db0ed0cb9589",
   "metadata": {},
   "outputs": [],
   "source": [
    "# Get Poverty Risk\n",
    "\n",
    "def get_poverty_risk():\n",
    "    params = {'geo': list(regions.keys()), 'time': 2019}\n",
    "    df = client.get_dataset('ilc_peps11', params).to_dataframe()\n",
    "    df.dropna(inplace = True)\n",
    "    df['region_name'] = df['geo'].apply(lambda x: regions[x])\n",
    "    df.rename(columns = {'values': 'People at Risk of Poverty %'}, inplace = True)\n",
    "    df.set_index('region_name', inplace=True) \n",
    "    df = df[['People at Risk of Poverty %']]\n",
    "    \n",
    "    return df\n"
   ]
  },
  {
   "cell_type": "code",
   "execution_count": 30,
   "id": "757f2be5-2e42-4075-bda1-294d238f5aed",
   "metadata": {},
   "outputs": [],
   "source": [
    "# Get regional availability of doctors\n",
    "\n",
    "def get_doctors():\n",
    "    params = {'geo': list(regions.keys()), 'time': 2019,'unit': 'P_HTHAB',\n",
    "              'isco08': 'OC221' }\n",
    "    df = client.get_dataset('hlth_rs_prsrg', params).to_dataframe()\n",
    "    df.dropna(inplace = True)\n",
    "    df['region_name'] = df['geo'].apply(lambda x: regions[x])\n",
    "    df.rename(columns = {'values': 'Doctors per 100000'}, inplace = True)\n",
    "    df.set_index('region_name', inplace=True) \n",
    "    df = df[['Doctors per 100000']]\n",
    "    \n",
    "    return df\n"
   ]
  },
  {
   "cell_type": "code",
   "execution_count": 31,
   "id": "f8c52f1a-a7ca-4a0c-8b29-fa22ecc32f47",
   "metadata": {},
   "outputs": [],
   "source": [
    "# Deaths in road accidents\n",
    "\n",
    "def get_fatal_road_accidents():\n",
    "    params = {'victim': 'KIL', 'geo': list(regions.keys()), 'time': 2020,\n",
    "              'unit': 'P_MHAB'}\n",
    "    df = client.get_dataset('tran_r_acci', params).to_dataframe()\n",
    "    df.dropna(inplace = True)\n",
    "    df['region_name'] = df['geo'].apply(lambda x: regions[x])\n",
    "    df.rename(columns = {'values': 'Fatal Road Accidents per Million'}, inplace = True)\n",
    "    df.set_index('region_name', inplace=True) \n",
    "    df = df[['Fatal Road Accidents per Million']]\n",
    "    \n",
    "    return df\n"
   ]
  },
  {
   "cell_type": "code",
   "execution_count": 32,
   "id": "efc48ba6-062d-4e0a-86c1-0df22c6238ff",
   "metadata": {},
   "outputs": [],
   "source": [
    "# Get Regular Internet Users\n",
    "\n",
    "def get_regular_internet_users():\n",
    "    params = {'indic_is': 'I_IDAY', 'geo': list(regions.keys()), 'time': 2021,\n",
    "              'unit': 'PC_IND'}\n",
    "    df = client.get_dataset('isoc_r_iuse_i', params).to_dataframe()\n",
    "    df.dropna(inplace = True)\n",
    "    df['region_name'] = df['geo'].apply(lambda x: regions[x])\n",
    "    df.rename(columns = {'values': 'Regular Internet Users %'}, inplace = True)\n",
    "    df.set_index('region_name', inplace=True) \n",
    "    df = df[['Regular Internet Users %']]\n",
    "    \n",
    "    return df\n"
   ]
  },
  {
   "cell_type": "code",
   "execution_count": 33,
   "id": "d7b173c5-aa6c-4b21-b1a1-c642b18184ee",
   "metadata": {
    "tags": []
   },
   "outputs": [],
   "source": [
    "df = get_gdp_region()\n",
    "df = df.join(get_gdp_capita_region())\n",
    "df = df.join(get_unemployment_region())\n",
    "df = df.join(get_life_expectancy())\n",
    "df = df.join(get_tertiary_education())\n",
    "df = df.join(get_poverty_risk())\n",
    "df = df.join(get_doctors())\n",
    "df = df.join(get_fatal_road_accidents())\n",
    "df = df.join(get_regular_internet_users())\n",
    "df.dropna(thresh = 2, inplace = True)\n"
   ]
  },
  {
   "cell_type": "code",
   "execution_count": 34,
   "id": "478f421c-49e8-4334-ad2d-65cafd5b380f",
   "metadata": {},
   "outputs": [
    {
     "name": "stdout",
     "output_type": "stream",
     "text": [
      "<class 'pandas.core.frame.DataFrame'>\n",
      "Index: 242 entries, Abruzzo to Южен централен (Yuzhen tsentralen)\n",
      "Data columns (total 9 columns):\n",
      " #   Column                             Non-Null Count  Dtype  \n",
      "---  ------                             --------------  -----  \n",
      " 0   GDP                                242 non-null    float64\n",
      " 1   GDP per Capita                     242 non-null    float64\n",
      " 2   Unemployment %                     238 non-null    float64\n",
      " 3   Life Expectancy                    238 non-null    float64\n",
      " 4   Tertiary Educational Attainment %  238 non-null    float64\n",
      " 5   People at Risk of Poverty %        183 non-null    float64\n",
      " 6   Doctors per 100000                 173 non-null    float64\n",
      " 7   Fatal Road Accidents per Million   239 non-null    float64\n",
      " 8   Regular Internet Users %           169 non-null    float64\n",
      "dtypes: float64(9)\n",
      "memory usage: 18.9+ KB\n"
     ]
    }
   ],
   "source": [
    "df.info()"
   ]
  },
  {
   "cell_type": "code",
   "execution_count": 35,
   "id": "f3caca5d-ac13-4347-a6bf-e1f8de360cc8",
   "metadata": {},
   "outputs": [
    {
     "data": {
      "application/vnd.plotly.v1+json": {
       "config": {
        "plotlyServerURL": "https://plot.ly"
       },
       "data": [
        {
         "hovertemplate": "People at Risk of Poverty %=%{x}<br>Unemployment %=%{y}<extra></extra>",
         "legendgroup": "",
         "marker": {
          "color": "#636efa",
          "symbol": "circle"
         },
         "mode": "markers",
         "name": "",
         "orientation": "v",
         "showlegend": false,
         "type": "scatter",
         "x": [
          25,
          22,
          23.2,
          null,
          37.7,
          null,
          21.1,
          18.5,
          null,
          35.2,
          24.8,
          34.7,
          null,
          19.3,
          null,
          17,
          7.9,
          18.1,
          26.5,
          null,
          14,
          15.6,
          null,
          39.8,
          49.7,
          35,
          19.4,
          16.7,
          30.7,
          18.8,
          null,
          20.4,
          24.4,
          null,
          18.3,
          45.9,
          38.5,
          11.7,
          19,
          27,
          null,
          13.5,
          15.5,
          14.5,
          14.3,
          16.6,
          14.9,
          24.6,
          20.5,
          19,
          null,
          15.5,
          16.3,
          37.7,
          15.8,
          null,
          13.5,
          16.7,
          13.8,
          24.3,
          14.7,
          17.1,
          null,
          23,
          null,
          null,
          23.7,
          17.6,
          null,
          10.1,
          17.5,
          null,
          15.1,
          22,
          12.5,
          9.6,
          14.5,
          15.3,
          19.8,
          23.2,
          null,
          19.7,
          13.5,
          15.2,
          null,
          null,
          null,
          24.8,
          20.2,
          17.6,
          15.3,
          null,
          16.2,
          null,
          28.8,
          14.5,
          null,
          null,
          16.2,
          null,
          19.1,
          null,
          null,
          21.3,
          18.5,
          23.2,
          23.6,
          null,
          16.3,
          18.4,
          38.1,
          14.9,
          18.4,
          null,
          null,
          13.9,
          17,
          47.1,
          null,
          19.3,
          17.7,
          18.3,
          23.2,
          25.4,
          16.3,
          14.8,
          18.7,
          null,
          null,
          17,
          15.8,
          null,
          null,
          14.4,
          19.1,
          null,
          16.7,
          22.3,
          20.8,
          19,
          null,
          15.3,
          7.9,
          24.6,
          null,
          null,
          null,
          null,
          null,
          null,
          null,
          null,
          null,
          null,
          null,
          11.5,
          14,
          37.4,
          32.2,
          36.7,
          31.9,
          16.5,
          null,
          null,
          21.6,
          18.6,
          null,
          28.1,
          20.8,
          16.3,
          12.9,
          21.5,
          48.7,
          null,
          12.3,
          16.4,
          21.2,
          20.4,
          null,
          14.8,
          21.5,
          13.3,
          12.9,
          9.6,
          40.1,
          36.5,
          38.9,
          16.6,
          25.4,
          19.3,
          null,
          18.7,
          21.4,
          14.1,
          13.3,
          17.5,
          15.6,
          8.1,
          11.1,
          21.9,
          28.3,
          null,
          17,
          19.2,
          21.2,
          24.2,
          13.4,
          17.1,
          17.5,
          null,
          17.1,
          11.5,
          14.3,
          19.4,
          11.3,
          17.8,
          null,
          24.2,
          23.9,
          18.7,
          16.6,
          16.5,
          13.8,
          20.7,
          27.6,
          35.5,
          40.9,
          34.8,
          28,
          25.7,
          31.7,
          31.6,
          null,
          34.5,
          36.4,
          29.5,
          35.9,
          41.3,
          34.7,
          22.7,
          36.6,
          37.7
         ],
         "xaxis": "x",
         "y": [
          9.3,
          6.6,
          8.3,
          7.1,
          21.7,
          7.4,
          10.2,
          4.3,
          7,
          18.5,
          11.9,
          8.3,
          6.4,
          5.7,
          7.1,
          3,
          2.6,
          3.8,
          6.9,
          5.8,
          3.5,
          2.9,
          5.1,
          18,
          19.3,
          23.2,
          11.5,
          11.4,
          15.6,
          11.6,
          7.2,
          5.8,
          5.1,
          8.9,
          2.3,
          26.6,
          19.8,
          10.6,
          11.6,
          15.9,
          9.1,
          4.1,
          4.1,
          4,
          3.5,
          3.3,
          4.5,
          4.8,
          4.5,
          6.4,
          6.2,
          5.5,
          7.5,
          19.5,
          4.6,
          7,
          3,
          4.5,
          5.7,
          11.7,
          3.9,
          3.5,
          5.5,
          5.4,
          17.1,
          14.6,
          4.4,
          2.8,
          7.6,
          7.7,
          5.7,
          8,
          14.8,
          9.5,
          2.4,
          2.4,
          3.3,
          2.9,
          2.9,
          4.4,
          5.6,
          4,
          2.1,
          11.5,
          17.9,
          11.4,
          7.6,
          10,
          4.5,
          8.4,
          3.8,
          6.3,
          5.9,
          8.5,
          5.2,
          null,
          5.3,
          7.7,
          3,
          3.5,
          7.1,
          12.8,
          null,
          3.8,
          3.2,
          3.8,
          6.3,
          6.1,
          4.8,
          3.6,
          10.9,
          4.6,
          3.4,
          1.8,
          5.1,
          3.2,
          4.5,
          6.8,
          8.8,
          3.1,
          5,
          9.7,
          6.6,
          5.1,
          2.2,
          2.7,
          3.3,
          2.5,
          3.8,
          2.8,
          3.8,
          9.7,
          6,
          9.8,
          3,
          9.7,
          7.3,
          4.8,
          3.2,
          7.8,
          8.6,
          2.3,
          2.3,
          12.5,
          5.2,
          6.8,
          10.3,
          3.4,
          9.4,
          5.6,
          7.6,
          2.8,
          4,
          3.6,
          8.1,
          3.8,
          4.8,
          14.6,
          8,
          7.2,
          14.3,
          4.4,
          7.2,
          12.4,
          3,
          4.4,
          4.6,
          13.5,
          3.4,
          2.9,
          2.4,
          4.3,
          18.7,
          4.6,
          5,
          7.5,
          4.8,
          6.5,
          4.3,
          8.2,
          7.5,
          3.1,
          2.2,
          2.5,
          6,
          7.7,
          9.2,
          4.4,
          11.2,
          3.3,
          4.8,
          7.5,
          null,
          2.9,
          6.6,
          2.3,
          4,
          7.3,
          5.3,
          3.5,
          8.2,
          4.1,
          5,
          8.4,
          10.9,
          3.5,
          2.1,
          3.4,
          2.2,
          12.1,
          3.5,
          4.5,
          3.6,
          5.1,
          4.7,
          6.8,
          null,
          7.1,
          6.2,
          9.8,
          6.1,
          4.4,
          2.9,
          4.4,
          15.1,
          13.9,
          17.5,
          19.8,
          16.7,
          13.2,
          16.1,
          16.3,
          7.5,
          18.8,
          12.7,
          17.2,
          6.7,
          11.1,
          6.1,
          3.5,
          5.6,
          4
         ],
         "yaxis": "y"
        },
        {
         "hovertemplate": "<b>OLS trendline</b><br>Unemployment % = 0.390385 * People at Risk of Poverty % + -1.27135<br>R<sup>2</sup>=0.464011<br><br>People at Risk of Poverty %=%{x}<br>Unemployment %=%{y} <b>(trend)</b><extra></extra>",
         "legendgroup": "",
         "marker": {
          "color": "#636efa",
          "symbol": "circle"
         },
         "mode": "lines",
         "name": "",
         "showlegend": false,
         "type": "scatter",
         "x": [
          7.9,
          7.9,
          8.1,
          9.6,
          9.6,
          10.1,
          11.1,
          11.3,
          11.5,
          11.5,
          11.7,
          12.3,
          12.5,
          12.9,
          12.9,
          13.3,
          13.3,
          13.4,
          13.5,
          13.5,
          13.5,
          13.8,
          13.8,
          13.9,
          14,
          14,
          14.1,
          14.3,
          14.3,
          14.4,
          14.5,
          14.5,
          14.7,
          14.8,
          14.8,
          14.9,
          14.9,
          15.1,
          15.2,
          15.3,
          15.3,
          15.3,
          15.5,
          15.5,
          15.6,
          15.6,
          15.8,
          15.8,
          16.2,
          16.2,
          16.3,
          16.3,
          16.3,
          16.3,
          16.4,
          16.5,
          16.5,
          16.6,
          16.6,
          16.6,
          16.7,
          16.7,
          16.7,
          17,
          17,
          17,
          17,
          17.1,
          17.1,
          17.1,
          17.5,
          17.5,
          17.5,
          17.6,
          17.6,
          17.7,
          17.8,
          18.1,
          18.3,
          18.3,
          18.4,
          18.4,
          18.5,
          18.5,
          18.6,
          18.7,
          18.7,
          18.7,
          18.8,
          19,
          19,
          19,
          19.1,
          19.1,
          19.2,
          19.3,
          19.3,
          19.3,
          19.4,
          19.4,
          19.7,
          19.8,
          20.2,
          20.4,
          20.4,
          20.5,
          20.7,
          20.8,
          20.8,
          21.1,
          21.2,
          21.2,
          21.3,
          21.5,
          21.5,
          21.6,
          21.9,
          22,
          22,
          22.3,
          22.7,
          23,
          23.2,
          23.2,
          23.2,
          23.2,
          23.6,
          23.7,
          23.9,
          24.2,
          24.2,
          24.3,
          24.4,
          24.6,
          24.6,
          24.8,
          24.8,
          25,
          25.4,
          25.4,
          25.7,
          26.5,
          27,
          27.6,
          28,
          28.1,
          28.3,
          28.8,
          29.5,
          30.7,
          31.6,
          31.7,
          31.9,
          32.2,
          34.5,
          34.7,
          34.7,
          34.8,
          35,
          35.2,
          35.5,
          35.9,
          36.4,
          36.5,
          36.6,
          36.7,
          37.4,
          37.7,
          37.7,
          37.7,
          38.1,
          38.5,
          38.9,
          39.8,
          40.1,
          40.9,
          41.3,
          45.9,
          47.1,
          48.7,
          49.7
         ],
         "xaxis": "x",
         "y": [
          1.812691813454094,
          1.812691813454094,
          1.890768836410778,
          2.476346508585912,
          2.476346508585912,
          2.671539065977623,
          3.0619241807610456,
          3.1400012037177305,
          3.2180782266744146,
          3.2180782266744146,
          3.2961552496310995,
          3.5303863185011535,
          3.6084633414578375,
          3.7646173873712065,
          3.7646173873712065,
          3.9207714332845756,
          3.9207714332845756,
          3.9598099447629176,
          3.9988484562412605,
          3.9988484562412605,
          3.9988484562412605,
          4.1159639906762875,
          4.1159639906762875,
          4.1550025021546295,
          4.1940410136329715,
          4.1940410136329715,
          4.233079525111314,
          4.3111565480679985,
          4.3111565480679985,
          4.350195059546341,
          4.389233571024683,
          4.389233571024683,
          4.467310593981367,
          4.50634910545971,
          4.50634910545971,
          4.545387616938052,
          4.545387616938052,
          4.6234646398947365,
          4.662503151373079,
          4.7015416628514215,
          4.7015416628514215,
          4.7015416628514215,
          4.779618685808106,
          4.779618685808106,
          4.818657197286448,
          4.818657197286448,
          4.8967342202431325,
          4.8967342202431325,
          5.052888266156501,
          5.052888266156501,
          5.091926777634844,
          5.091926777634844,
          5.091926777634844,
          5.091926777634844,
          5.130965289113185,
          5.170003800591528,
          5.170003800591528,
          5.209042312069871,
          5.209042312069871,
          5.209042312069871,
          5.248080823548212,
          5.248080823548212,
          5.248080823548212,
          5.36519635798324,
          5.36519635798324,
          5.36519635798324,
          5.36519635798324,
          5.404234869461582,
          5.404234869461582,
          5.404234869461582,
          5.560388915374951,
          5.560388915374951,
          5.560388915374951,
          5.5994274268532935,
          5.5994274268532935,
          5.638465938331635,
          5.677504449809978,
          5.794619984245005,
          5.872697007201689,
          5.872697007201689,
          5.911735518680031,
          5.911735518680031,
          5.950774030158373,
          5.950774030158373,
          5.989812541636716,
          6.028851053115058,
          6.028851053115058,
          6.028851053115058,
          6.0678895645934,
          6.145966587550085,
          6.145966587550085,
          6.145966587550085,
          6.1850050990284275,
          6.1850050990284275,
          6.224043610506769,
          6.263082121985112,
          6.263082121985112,
          6.263082121985112,
          6.302120633463453,
          6.302120633463453,
          6.41923616789848,
          6.458274679376823,
          6.614428725290191,
          6.692505748246876,
          6.692505748246876,
          6.731544259725218,
          6.809621282681902,
          6.848659794160246,
          6.848659794160246,
          6.965775328595272,
          7.004813840073614,
          7.004813840073614,
          7.043852351551956,
          7.121929374508642,
          7.121929374508642,
          7.160967885986984,
          7.27808342042201,
          7.317121931900352,
          7.317121931900352,
          7.43423746633538,
          7.590391512248748,
          7.707507046683774,
          7.78558406964046,
          7.78558406964046,
          7.78558406964046,
          7.78558406964046,
          7.94173811555383,
          7.98077662703217,
          8.058853649988855,
          8.17596918442388,
          8.17596918442388,
          8.215007695902223,
          8.254046207380565,
          8.332123230337253,
          8.332123230337253,
          8.410200253293937,
          8.410200253293937,
          8.48827727625062,
          8.644431322163989,
          8.644431322163989,
          8.761546856599015,
          9.073854948425755,
          9.269047505817465,
          9.50327857468752,
          9.659432620600889,
          9.69847113207923,
          9.776548155035915,
          9.971740712427625,
          10.245010292776023,
          10.713472430516127,
          11.064819033821209,
          11.103857545299551,
          11.181934568256235,
          11.299050102691265,
          12.196935866693135,
          12.275012889649819,
          12.275012889649819,
          12.314051401128161,
          12.392128424084845,
          12.470205447041533,
          12.587320981476555,
          12.743475027389927,
          12.938667584781637,
          12.977706096259979,
          13.016744607738321,
          13.055783119216667,
          13.329052699565061,
          13.446168234000087,
          13.446168234000087,
          13.446168234000087,
          13.602322279913455,
          13.758476325826823,
          13.914630371740195,
          14.265976975045273,
          14.383092509480303,
          14.695400601307039,
          14.851554647220407,
          16.64732617522415,
          17.11578831296426,
          17.74040449661774,
          18.13078961140116
         ],
         "yaxis": "y"
        }
       ],
       "layout": {
        "autosize": true,
        "legend": {
         "tracegroupgap": 0
        },
        "margin": {
         "t": 60
        },
        "template": {
         "data": {
          "bar": [
           {
            "error_x": {
             "color": "#2a3f5f"
            },
            "error_y": {
             "color": "#2a3f5f"
            },
            "marker": {
             "line": {
              "color": "#E5ECF6",
              "width": 0.5
             },
             "pattern": {
              "fillmode": "overlay",
              "size": 10,
              "solidity": 0.2
             }
            },
            "type": "bar"
           }
          ],
          "barpolar": [
           {
            "marker": {
             "line": {
              "color": "#E5ECF6",
              "width": 0.5
             },
             "pattern": {
              "fillmode": "overlay",
              "size": 10,
              "solidity": 0.2
             }
            },
            "type": "barpolar"
           }
          ],
          "carpet": [
           {
            "aaxis": {
             "endlinecolor": "#2a3f5f",
             "gridcolor": "white",
             "linecolor": "white",
             "minorgridcolor": "white",
             "startlinecolor": "#2a3f5f"
            },
            "baxis": {
             "endlinecolor": "#2a3f5f",
             "gridcolor": "white",
             "linecolor": "white",
             "minorgridcolor": "white",
             "startlinecolor": "#2a3f5f"
            },
            "type": "carpet"
           }
          ],
          "choropleth": [
           {
            "colorbar": {
             "outlinewidth": 0,
             "ticks": ""
            },
            "type": "choropleth"
           }
          ],
          "contour": [
           {
            "colorbar": {
             "outlinewidth": 0,
             "ticks": ""
            },
            "colorscale": [
             [
              0,
              "#0d0887"
             ],
             [
              0.1111111111111111,
              "#46039f"
             ],
             [
              0.2222222222222222,
              "#7201a8"
             ],
             [
              0.3333333333333333,
              "#9c179e"
             ],
             [
              0.4444444444444444,
              "#bd3786"
             ],
             [
              0.5555555555555556,
              "#d8576b"
             ],
             [
              0.6666666666666666,
              "#ed7953"
             ],
             [
              0.7777777777777778,
              "#fb9f3a"
             ],
             [
              0.8888888888888888,
              "#fdca26"
             ],
             [
              1,
              "#f0f921"
             ]
            ],
            "type": "contour"
           }
          ],
          "contourcarpet": [
           {
            "colorbar": {
             "outlinewidth": 0,
             "ticks": ""
            },
            "type": "contourcarpet"
           }
          ],
          "heatmap": [
           {
            "colorbar": {
             "outlinewidth": 0,
             "ticks": ""
            },
            "colorscale": [
             [
              0,
              "#0d0887"
             ],
             [
              0.1111111111111111,
              "#46039f"
             ],
             [
              0.2222222222222222,
              "#7201a8"
             ],
             [
              0.3333333333333333,
              "#9c179e"
             ],
             [
              0.4444444444444444,
              "#bd3786"
             ],
             [
              0.5555555555555556,
              "#d8576b"
             ],
             [
              0.6666666666666666,
              "#ed7953"
             ],
             [
              0.7777777777777778,
              "#fb9f3a"
             ],
             [
              0.8888888888888888,
              "#fdca26"
             ],
             [
              1,
              "#f0f921"
             ]
            ],
            "type": "heatmap"
           }
          ],
          "heatmapgl": [
           {
            "colorbar": {
             "outlinewidth": 0,
             "ticks": ""
            },
            "colorscale": [
             [
              0,
              "#0d0887"
             ],
             [
              0.1111111111111111,
              "#46039f"
             ],
             [
              0.2222222222222222,
              "#7201a8"
             ],
             [
              0.3333333333333333,
              "#9c179e"
             ],
             [
              0.4444444444444444,
              "#bd3786"
             ],
             [
              0.5555555555555556,
              "#d8576b"
             ],
             [
              0.6666666666666666,
              "#ed7953"
             ],
             [
              0.7777777777777778,
              "#fb9f3a"
             ],
             [
              0.8888888888888888,
              "#fdca26"
             ],
             [
              1,
              "#f0f921"
             ]
            ],
            "type": "heatmapgl"
           }
          ],
          "histogram": [
           {
            "marker": {
             "pattern": {
              "fillmode": "overlay",
              "size": 10,
              "solidity": 0.2
             }
            },
            "type": "histogram"
           }
          ],
          "histogram2d": [
           {
            "colorbar": {
             "outlinewidth": 0,
             "ticks": ""
            },
            "colorscale": [
             [
              0,
              "#0d0887"
             ],
             [
              0.1111111111111111,
              "#46039f"
             ],
             [
              0.2222222222222222,
              "#7201a8"
             ],
             [
              0.3333333333333333,
              "#9c179e"
             ],
             [
              0.4444444444444444,
              "#bd3786"
             ],
             [
              0.5555555555555556,
              "#d8576b"
             ],
             [
              0.6666666666666666,
              "#ed7953"
             ],
             [
              0.7777777777777778,
              "#fb9f3a"
             ],
             [
              0.8888888888888888,
              "#fdca26"
             ],
             [
              1,
              "#f0f921"
             ]
            ],
            "type": "histogram2d"
           }
          ],
          "histogram2dcontour": [
           {
            "colorbar": {
             "outlinewidth": 0,
             "ticks": ""
            },
            "colorscale": [
             [
              0,
              "#0d0887"
             ],
             [
              0.1111111111111111,
              "#46039f"
             ],
             [
              0.2222222222222222,
              "#7201a8"
             ],
             [
              0.3333333333333333,
              "#9c179e"
             ],
             [
              0.4444444444444444,
              "#bd3786"
             ],
             [
              0.5555555555555556,
              "#d8576b"
             ],
             [
              0.6666666666666666,
              "#ed7953"
             ],
             [
              0.7777777777777778,
              "#fb9f3a"
             ],
             [
              0.8888888888888888,
              "#fdca26"
             ],
             [
              1,
              "#f0f921"
             ]
            ],
            "type": "histogram2dcontour"
           }
          ],
          "mesh3d": [
           {
            "colorbar": {
             "outlinewidth": 0,
             "ticks": ""
            },
            "type": "mesh3d"
           }
          ],
          "parcoords": [
           {
            "line": {
             "colorbar": {
              "outlinewidth": 0,
              "ticks": ""
             }
            },
            "type": "parcoords"
           }
          ],
          "pie": [
           {
            "automargin": true,
            "type": "pie"
           }
          ],
          "scatter": [
           {
            "fillpattern": {
             "fillmode": "overlay",
             "size": 10,
             "solidity": 0.2
            },
            "type": "scatter"
           }
          ],
          "scatter3d": [
           {
            "line": {
             "colorbar": {
              "outlinewidth": 0,
              "ticks": ""
             }
            },
            "marker": {
             "colorbar": {
              "outlinewidth": 0,
              "ticks": ""
             }
            },
            "type": "scatter3d"
           }
          ],
          "scattercarpet": [
           {
            "marker": {
             "colorbar": {
              "outlinewidth": 0,
              "ticks": ""
             }
            },
            "type": "scattercarpet"
           }
          ],
          "scattergeo": [
           {
            "marker": {
             "colorbar": {
              "outlinewidth": 0,
              "ticks": ""
             }
            },
            "type": "scattergeo"
           }
          ],
          "scattergl": [
           {
            "marker": {
             "colorbar": {
              "outlinewidth": 0,
              "ticks": ""
             }
            },
            "type": "scattergl"
           }
          ],
          "scattermapbox": [
           {
            "marker": {
             "colorbar": {
              "outlinewidth": 0,
              "ticks": ""
             }
            },
            "type": "scattermapbox"
           }
          ],
          "scatterpolar": [
           {
            "marker": {
             "colorbar": {
              "outlinewidth": 0,
              "ticks": ""
             }
            },
            "type": "scatterpolar"
           }
          ],
          "scatterpolargl": [
           {
            "marker": {
             "colorbar": {
              "outlinewidth": 0,
              "ticks": ""
             }
            },
            "type": "scatterpolargl"
           }
          ],
          "scatterternary": [
           {
            "marker": {
             "colorbar": {
              "outlinewidth": 0,
              "ticks": ""
             }
            },
            "type": "scatterternary"
           }
          ],
          "surface": [
           {
            "colorbar": {
             "outlinewidth": 0,
             "ticks": ""
            },
            "colorscale": [
             [
              0,
              "#0d0887"
             ],
             [
              0.1111111111111111,
              "#46039f"
             ],
             [
              0.2222222222222222,
              "#7201a8"
             ],
             [
              0.3333333333333333,
              "#9c179e"
             ],
             [
              0.4444444444444444,
              "#bd3786"
             ],
             [
              0.5555555555555556,
              "#d8576b"
             ],
             [
              0.6666666666666666,
              "#ed7953"
             ],
             [
              0.7777777777777778,
              "#fb9f3a"
             ],
             [
              0.8888888888888888,
              "#fdca26"
             ],
             [
              1,
              "#f0f921"
             ]
            ],
            "type": "surface"
           }
          ],
          "table": [
           {
            "cells": {
             "fill": {
              "color": "#EBF0F8"
             },
             "line": {
              "color": "white"
             }
            },
            "header": {
             "fill": {
              "color": "#C8D4E3"
             },
             "line": {
              "color": "white"
             }
            },
            "type": "table"
           }
          ]
         },
         "layout": {
          "annotationdefaults": {
           "arrowcolor": "#2a3f5f",
           "arrowhead": 0,
           "arrowwidth": 1
          },
          "autotypenumbers": "strict",
          "coloraxis": {
           "colorbar": {
            "outlinewidth": 0,
            "ticks": ""
           }
          },
          "colorscale": {
           "diverging": [
            [
             0,
             "#8e0152"
            ],
            [
             0.1,
             "#c51b7d"
            ],
            [
             0.2,
             "#de77ae"
            ],
            [
             0.3,
             "#f1b6da"
            ],
            [
             0.4,
             "#fde0ef"
            ],
            [
             0.5,
             "#f7f7f7"
            ],
            [
             0.6,
             "#e6f5d0"
            ],
            [
             0.7,
             "#b8e186"
            ],
            [
             0.8,
             "#7fbc41"
            ],
            [
             0.9,
             "#4d9221"
            ],
            [
             1,
             "#276419"
            ]
           ],
           "sequential": [
            [
             0,
             "#0d0887"
            ],
            [
             0.1111111111111111,
             "#46039f"
            ],
            [
             0.2222222222222222,
             "#7201a8"
            ],
            [
             0.3333333333333333,
             "#9c179e"
            ],
            [
             0.4444444444444444,
             "#bd3786"
            ],
            [
             0.5555555555555556,
             "#d8576b"
            ],
            [
             0.6666666666666666,
             "#ed7953"
            ],
            [
             0.7777777777777778,
             "#fb9f3a"
            ],
            [
             0.8888888888888888,
             "#fdca26"
            ],
            [
             1,
             "#f0f921"
            ]
           ],
           "sequentialminus": [
            [
             0,
             "#0d0887"
            ],
            [
             0.1111111111111111,
             "#46039f"
            ],
            [
             0.2222222222222222,
             "#7201a8"
            ],
            [
             0.3333333333333333,
             "#9c179e"
            ],
            [
             0.4444444444444444,
             "#bd3786"
            ],
            [
             0.5555555555555556,
             "#d8576b"
            ],
            [
             0.6666666666666666,
             "#ed7953"
            ],
            [
             0.7777777777777778,
             "#fb9f3a"
            ],
            [
             0.8888888888888888,
             "#fdca26"
            ],
            [
             1,
             "#f0f921"
            ]
           ]
          },
          "colorway": [
           "#636efa",
           "#EF553B",
           "#00cc96",
           "#ab63fa",
           "#FFA15A",
           "#19d3f3",
           "#FF6692",
           "#B6E880",
           "#FF97FF",
           "#FECB52"
          ],
          "font": {
           "color": "#2a3f5f"
          },
          "geo": {
           "bgcolor": "white",
           "lakecolor": "white",
           "landcolor": "#E5ECF6",
           "showlakes": true,
           "showland": true,
           "subunitcolor": "white"
          },
          "hoverlabel": {
           "align": "left"
          },
          "hovermode": "closest",
          "mapbox": {
           "style": "light"
          },
          "paper_bgcolor": "white",
          "plot_bgcolor": "#E5ECF6",
          "polar": {
           "angularaxis": {
            "gridcolor": "white",
            "linecolor": "white",
            "ticks": ""
           },
           "bgcolor": "#E5ECF6",
           "radialaxis": {
            "gridcolor": "white",
            "linecolor": "white",
            "ticks": ""
           }
          },
          "scene": {
           "xaxis": {
            "backgroundcolor": "#E5ECF6",
            "gridcolor": "white",
            "gridwidth": 2,
            "linecolor": "white",
            "showbackground": true,
            "ticks": "",
            "zerolinecolor": "white"
           },
           "yaxis": {
            "backgroundcolor": "#E5ECF6",
            "gridcolor": "white",
            "gridwidth": 2,
            "linecolor": "white",
            "showbackground": true,
            "ticks": "",
            "zerolinecolor": "white"
           },
           "zaxis": {
            "backgroundcolor": "#E5ECF6",
            "gridcolor": "white",
            "gridwidth": 2,
            "linecolor": "white",
            "showbackground": true,
            "ticks": "",
            "zerolinecolor": "white"
           }
          },
          "shapedefaults": {
           "line": {
            "color": "#2a3f5f"
           }
          },
          "ternary": {
           "aaxis": {
            "gridcolor": "white",
            "linecolor": "white",
            "ticks": ""
           },
           "baxis": {
            "gridcolor": "white",
            "linecolor": "white",
            "ticks": ""
           },
           "bgcolor": "#E5ECF6",
           "caxis": {
            "gridcolor": "white",
            "linecolor": "white",
            "ticks": ""
           }
          },
          "title": {
           "x": 0.05
          },
          "xaxis": {
           "automargin": true,
           "gridcolor": "white",
           "linecolor": "white",
           "ticks": "",
           "title": {
            "standoff": 15
           },
           "zerolinecolor": "white",
           "zerolinewidth": 2
          },
          "yaxis": {
           "automargin": true,
           "gridcolor": "white",
           "linecolor": "white",
           "ticks": "",
           "title": {
            "standoff": 15
           },
           "zerolinecolor": "white",
           "zerolinewidth": 2
          }
         }
        },
        "xaxis": {
         "anchor": "y",
         "autorange": true,
         "domain": [
          0,
          1
         ],
         "range": [
          5.251256092988378,
          52.348743907011624
         ],
         "title": {
          "text": "People at Risk of Poverty %"
         },
         "type": "linear"
        },
        "yaxis": {
         "anchor": "x",
         "autorange": true,
         "domain": [
          0,
          1
         ],
         "range": [
          0.0957345971563981,
          28.304265402843605
         ],
         "title": {
          "text": "Unemployment %"
         },
         "type": "linear"
        }
       }
      },
      "image/png": "[encoded data removed]",
      "text/html": [
       "<div>                            <div id=\"77b839fd-89da-4720-9893-bd9a18fd07bd\" class=\"plotly-graph-div\" style=\"height:500px; width:100%;\"></div>            <script type=\"text/javascript\">                require([\"plotly\"], function(Plotly) {                    window.PLOTLYENV=window.PLOTLYENV || {};                                    if (document.getElementById(\"77b839fd-89da-4720-9893-bd9a18fd07bd\")) {                    Plotly.newPlot(                        \"77b839fd-89da-4720-9893-bd9a18fd07bd\",                        [{\"hovertemplate\":\"People at Risk of Poverty %=%{x}<br>Unemployment %=%{y}<extra></extra>\",\"legendgroup\":\"\",\"marker\":{\"color\":\"#636efa\",\"symbol\":\"circle\"},\"mode\":\"markers\",\"name\":\"\",\"orientation\":\"v\",\"showlegend\":false,\"x\":[25.0,22.0,23.2,null,37.7,null,21.1,18.5,null,35.2,24.8,34.7,null,19.3,null,17.0,7.9,18.1,26.5,null,14.0,15.6,null,39.8,49.7,35.0,19.4,16.7,30.7,18.8,null,20.4,24.4,null,18.3,45.9,38.5,11.7,19.0,27.0,null,13.5,15.5,14.5,14.3,16.6,14.9,24.6,20.5,19.0,null,15.5,16.3,37.7,15.8,null,13.5,16.7,13.8,24.3,14.7,17.1,null,23.0,null,null,23.7,17.6,null,10.1,17.5,null,15.1,22.0,12.5,9.6,14.5,15.3,19.8,23.2,null,19.7,13.5,15.2,null,null,null,24.8,20.2,17.6,15.3,null,16.2,null,28.8,14.5,null,null,16.2,null,19.1,null,null,21.3,18.5,23.2,23.6,null,16.3,18.4,38.1,14.9,18.4,null,null,13.9,17.0,47.1,null,19.3,17.7,18.3,23.2,25.4,16.3,14.8,18.7,null,null,17.0,15.8,null,null,14.4,19.1,null,16.7,22.3,20.8,19.0,null,15.3,7.9,24.6,null,null,null,null,null,null,null,null,null,null,null,11.5,14.0,37.4,32.2,36.7,31.9,16.5,null,null,21.6,18.6,null,28.1,20.8,16.3,12.9,21.5,48.7,null,12.3,16.4,21.2,20.4,null,14.8,21.5,13.3,12.9,9.6,40.1,36.5,38.9,16.6,25.4,19.3,null,18.7,21.4,14.1,13.3,17.5,15.6,8.1,11.1,21.9,28.3,null,17.0,19.2,21.2,24.2,13.4,17.1,17.5,null,17.1,11.5,14.3,19.4,11.3,17.8,null,24.2,23.9,18.7,16.6,16.5,13.8,20.7,27.6,35.5,40.9,34.8,28.0,25.7,31.7,31.6,null,34.5,36.4,29.5,35.9,41.3,34.7,22.7,36.6,37.7],\"xaxis\":\"x\",\"y\":[9.3,6.6,8.3,7.1,21.7,7.4,10.2,4.3,7.0,18.5,11.9,8.3,6.4,5.7,7.1,3.0,2.6,3.8,6.9,5.8,3.5,2.9,5.1,18.0,19.3,23.2,11.5,11.4,15.6,11.6,7.2,5.8,5.1,8.9,2.3,26.6,19.8,10.6,11.6,15.9,9.1,4.1,4.1,4.0,3.5,3.3,4.5,4.8,4.5,6.4,6.2,5.5,7.5,19.5,4.6,7.0,3.0,4.5,5.7,11.7,3.9,3.5,5.5,5.4,17.1,14.6,4.4,2.8,7.6,7.7,5.7,8.0,14.8,9.5,2.4,2.4,3.3,2.9,2.9,4.4,5.6,4.0,2.1,11.5,17.9,11.4,7.6,10.0,4.5,8.4,3.8,6.3,5.9,8.5,5.2,null,5.3,7.7,3.0,3.5,7.1,12.8,null,3.8,3.2,3.8,6.3,6.1,4.8,3.6,10.9,4.6,3.4,1.8,5.1,3.2,4.5,6.8,8.8,3.1,5.0,9.7,6.6,5.1,2.2,2.7,3.3,2.5,3.8,2.8,3.8,9.7,6.0,9.8,3.0,9.7,7.3,4.8,3.2,7.8,8.6,2.3,2.3,12.5,5.2,6.8,10.3,3.4,9.4,5.6,7.6,2.8,4.0,3.6,8.1,3.8,4.8,14.6,8.0,7.2,14.3,4.4,7.2,12.4,3.0,4.4,4.6,13.5,3.4,2.9,2.4,4.3,18.7,4.6,5.0,7.5,4.8,6.5,4.3,8.2,7.5,3.1,2.2,2.5,6.0,7.7,9.2,4.4,11.2,3.3,4.8,7.5,null,2.9,6.6,2.3,4.0,7.3,5.3,3.5,8.2,4.1,5.0,8.4,10.9,3.5,2.1,3.4,2.2,12.1,3.5,4.5,3.6,5.1,4.7,6.8,null,7.1,6.2,9.8,6.1,4.4,2.9,4.4,15.1,13.9,17.5,19.8,16.7,13.2,16.1,16.3,7.5,18.8,12.7,17.2,6.7,11.1,6.1,3.5,5.6,4.0],\"yaxis\":\"y\",\"type\":\"scatter\"},{\"hovertemplate\":\"<b>OLS trendline</b><br>Unemployment % = 0.390385 * People at Risk of Poverty % + -1.27135<br>R<sup>2</sup>=0.464011<br><br>People at Risk of Poverty %=%{x}<br>Unemployment %=%{y} <b>(trend)</b><extra></extra>\",\"legendgroup\":\"\",\"marker\":{\"color\":\"#636efa\",\"symbol\":\"circle\"},\"mode\":\"lines\",\"name\":\"\",\"showlegend\":false,\"x\":[7.9,7.9,8.1,9.6,9.6,10.1,11.1,11.3,11.5,11.5,11.7,12.3,12.5,12.9,12.9,13.3,13.3,13.4,13.5,13.5,13.5,13.8,13.8,13.9,14.0,14.0,14.1,14.3,14.3,14.4,14.5,14.5,14.7,14.8,14.8,14.9,14.9,15.1,15.2,15.3,15.3,15.3,15.5,15.5,15.6,15.6,15.8,15.8,16.2,16.2,16.3,16.3,16.3,16.3,16.4,16.5,16.5,16.6,16.6,16.6,16.7,16.7,16.7,17.0,17.0,17.0,17.0,17.1,17.1,17.1,17.5,17.5,17.5,17.6,17.6,17.7,17.8,18.1,18.3,18.3,18.4,18.4,18.5,18.5,18.6,18.7,18.7,18.7,18.8,19.0,19.0,19.0,19.1,19.1,19.2,19.3,19.3,19.3,19.4,19.4,19.7,19.8,20.2,20.4,20.4,20.5,20.7,20.8,20.8,21.1,21.2,21.2,21.3,21.5,21.5,21.6,21.9,22.0,22.0,22.3,22.7,23.0,23.2,23.2,23.2,23.2,23.6,23.7,23.9,24.2,24.2,24.3,24.4,24.6,24.6,24.8,24.8,25.0,25.4,25.4,25.7,26.5,27.0,27.6,28.0,28.1,28.3,28.8,29.5,30.7,31.6,31.7,31.9,32.2,34.5,34.7,34.7,34.8,35.0,35.2,35.5,35.9,36.4,36.5,36.6,36.7,37.4,37.7,37.7,37.7,38.1,38.5,38.9,39.8,40.1,40.9,41.3,45.9,47.1,48.7,49.7],\"xaxis\":\"x\",\"y\":[1.812691813454094,1.812691813454094,1.890768836410778,2.476346508585912,2.476346508585912,2.671539065977623,3.0619241807610456,3.1400012037177305,3.2180782266744146,3.2180782266744146,3.2961552496310995,3.5303863185011535,3.6084633414578375,3.7646173873712065,3.7646173873712065,3.9207714332845756,3.9207714332845756,3.9598099447629176,3.9988484562412605,3.9988484562412605,3.9988484562412605,4.1159639906762875,4.1159639906762875,4.1550025021546295,4.1940410136329715,4.1940410136329715,4.233079525111314,4.3111565480679985,4.3111565480679985,4.350195059546341,4.389233571024683,4.389233571024683,4.467310593981367,4.50634910545971,4.50634910545971,4.545387616938052,4.545387616938052,4.6234646398947365,4.662503151373079,4.7015416628514215,4.7015416628514215,4.7015416628514215,4.779618685808106,4.779618685808106,4.818657197286448,4.818657197286448,4.8967342202431325,4.8967342202431325,5.052888266156501,5.052888266156501,5.091926777634844,5.091926777634844,5.091926777634844,5.091926777634844,5.130965289113185,5.170003800591528,5.170003800591528,5.209042312069871,5.209042312069871,5.209042312069871,5.248080823548212,5.248080823548212,5.248080823548212,5.36519635798324,5.36519635798324,5.36519635798324,5.36519635798324,5.404234869461582,5.404234869461582,5.404234869461582,5.560388915374951,5.560388915374951,5.560388915374951,5.5994274268532935,5.5994274268532935,5.638465938331635,5.677504449809978,5.794619984245005,5.872697007201689,5.872697007201689,5.911735518680031,5.911735518680031,5.950774030158373,5.950774030158373,5.989812541636716,6.028851053115058,6.028851053115058,6.028851053115058,6.0678895645934,6.145966587550085,6.145966587550085,6.145966587550085,6.1850050990284275,6.1850050990284275,6.224043610506769,6.263082121985112,6.263082121985112,6.263082121985112,6.302120633463453,6.302120633463453,6.41923616789848,6.458274679376823,6.614428725290191,6.692505748246876,6.692505748246876,6.731544259725218,6.809621282681902,6.848659794160246,6.848659794160246,6.965775328595272,7.004813840073614,7.004813840073614,7.043852351551956,7.121929374508642,7.121929374508642,7.160967885986984,7.27808342042201,7.317121931900352,7.317121931900352,7.43423746633538,7.590391512248748,7.707507046683774,7.78558406964046,7.78558406964046,7.78558406964046,7.78558406964046,7.94173811555383,7.98077662703217,8.058853649988855,8.17596918442388,8.17596918442388,8.215007695902223,8.254046207380565,8.332123230337253,8.332123230337253,8.410200253293937,8.410200253293937,8.48827727625062,8.644431322163989,8.644431322163989,8.761546856599015,9.073854948425755,9.269047505817465,9.50327857468752,9.659432620600889,9.69847113207923,9.776548155035915,9.971740712427625,10.245010292776023,10.713472430516127,11.064819033821209,11.103857545299551,11.181934568256235,11.299050102691265,12.196935866693135,12.275012889649819,12.275012889649819,12.314051401128161,12.392128424084845,12.470205447041533,12.587320981476555,12.743475027389927,12.938667584781637,12.977706096259979,13.016744607738321,13.055783119216667,13.329052699565061,13.446168234000087,13.446168234000087,13.446168234000087,13.602322279913455,13.758476325826823,13.914630371740195,14.265976975045273,14.383092509480303,14.695400601307039,14.851554647220407,16.64732617522415,17.11578831296426,17.74040449661774,18.13078961140116],\"yaxis\":\"y\",\"type\":\"scatter\"}],                        {\"template\":{\"data\":{\"histogram2dcontour\":[{\"type\":\"histogram2dcontour\",\"colorbar\":{\"outlinewidth\":0,\"ticks\":\"\"},\"colorscale\":[[0.0,\"#0d0887\"],[0.1111111111111111,\"#46039f\"],[0.2222222222222222,\"#7201a8\"],[0.3333333333333333,\"#9c179e\"],[0.4444444444444444,\"#bd3786\"],[0.5555555555555556,\"#d8576b\"],[0.6666666666666666,\"#ed7953\"],[0.7777777777777778,\"#fb9f3a\"],[0.8888888888888888,\"#fdca26\"],[1.0,\"#f0f921\"]]}],\"choropleth\":[{\"type\":\"choropleth\",\"colorbar\":{\"outlinewidth\":0,\"ticks\":\"\"}}],\"histogram2d\":[{\"type\":\"histogram2d\",\"colorbar\":{\"outlinewidth\":0,\"ticks\":\"\"},\"colorscale\":[[0.0,\"#0d0887\"],[0.1111111111111111,\"#46039f\"],[0.2222222222222222,\"#7201a8\"],[0.3333333333333333,\"#9c179e\"],[0.4444444444444444,\"#bd3786\"],[0.5555555555555556,\"#d8576b\"],[0.6666666666666666,\"#ed7953\"],[0.7777777777777778,\"#fb9f3a\"],[0.8888888888888888,\"#fdca26\"],[1.0,\"#f0f921\"]]}],\"heatmap\":[{\"type\":\"heatmap\",\"colorbar\":{\"outlinewidth\":0,\"ticks\":\"\"},\"colorscale\":[[0.0,\"#0d0887\"],[0.1111111111111111,\"#46039f\"],[0.2222222222222222,\"#7201a8\"],[0.3333333333333333,\"#9c179e\"],[0.4444444444444444,\"#bd3786\"],[0.5555555555555556,\"#d8576b\"],[0.6666666666666666,\"#ed7953\"],[0.7777777777777778,\"#fb9f3a\"],[0.8888888888888888,\"#fdca26\"],[1.0,\"#f0f921\"]]}],\"heatmapgl\":[{\"type\":\"heatmapgl\",\"colorbar\":{\"outlinewidth\":0,\"ticks\":\"\"},\"colorscale\":[[0.0,\"#0d0887\"],[0.1111111111111111,\"#46039f\"],[0.2222222222222222,\"#7201a8\"],[0.3333333333333333,\"#9c179e\"],[0.4444444444444444,\"#bd3786\"],[0.5555555555555556,\"#d8576b\"],[0.6666666666666666,\"#ed7953\"],[0.7777777777777778,\"#fb9f3a\"],[0.8888888888888888,\"#fdca26\"],[1.0,\"#f0f921\"]]}],\"contourcarpet\":[{\"type\":\"contourcarpet\",\"colorbar\":{\"outlinewidth\":0,\"ticks\":\"\"}}],\"contour\":[{\"type\":\"contour\",\"colorbar\":{\"outlinewidth\":0,\"ticks\":\"\"},\"colorscale\":[[0.0,\"#0d0887\"],[0.1111111111111111,\"#46039f\"],[0.2222222222222222,\"#7201a8\"],[0.3333333333333333,\"#9c179e\"],[0.4444444444444444,\"#bd3786\"],[0.5555555555555556,\"#d8576b\"],[0.6666666666666666,\"#ed7953\"],[0.7777777777777778,\"#fb9f3a\"],[0.8888888888888888,\"#fdca26\"],[1.0,\"#f0f921\"]]}],\"surface\":[{\"type\":\"surface\",\"colorbar\":{\"outlinewidth\":0,\"ticks\":\"\"},\"colorscale\":[[0.0,\"#0d0887\"],[0.1111111111111111,\"#46039f\"],[0.2222222222222222,\"#7201a8\"],[0.3333333333333333,\"#9c179e\"],[0.4444444444444444,\"#bd3786\"],[0.5555555555555556,\"#d8576b\"],[0.6666666666666666,\"#ed7953\"],[0.7777777777777778,\"#fb9f3a\"],[0.8888888888888888,\"#fdca26\"],[1.0,\"#f0f921\"]]}],\"mesh3d\":[{\"type\":\"mesh3d\",\"colorbar\":{\"outlinewidth\":0,\"ticks\":\"\"}}],\"scatter\":[{\"fillpattern\":{\"fillmode\":\"overlay\",\"size\":10,\"solidity\":0.2},\"type\":\"scatter\"}],\"parcoords\":[{\"type\":\"parcoords\",\"line\":{\"colorbar\":{\"outlinewidth\":0,\"ticks\":\"\"}}}],\"scatterpolargl\":[{\"type\":\"scatterpolargl\",\"marker\":{\"colorbar\":{\"outlinewidth\":0,\"ticks\":\"\"}}}],\"bar\":[{\"error_x\":{\"color\":\"#2a3f5f\"},\"error_y\":{\"color\":\"#2a3f5f\"},\"marker\":{\"line\":{\"color\":\"#E5ECF6\",\"width\":0.5},\"pattern\":{\"fillmode\":\"overlay\",\"size\":10,\"solidity\":0.2}},\"type\":\"bar\"}],\"scattergeo\":[{\"type\":\"scattergeo\",\"marker\":{\"colorbar\":{\"outlinewidth\":0,\"ticks\":\"\"}}}],\"scatterpolar\":[{\"type\":\"scatterpolar\",\"marker\":{\"colorbar\":{\"outlinewidth\":0,\"ticks\":\"\"}}}],\"histogram\":[{\"marker\":{\"pattern\":{\"fillmode\":\"overlay\",\"size\":10,\"solidity\":0.2}},\"type\":\"histogram\"}],\"scattergl\":[{\"type\":\"scattergl\",\"marker\":{\"colorbar\":{\"outlinewidth\":0,\"ticks\":\"\"}}}],\"scatter3d\":[{\"type\":\"scatter3d\",\"line\":{\"colorbar\":{\"outlinewidth\":0,\"ticks\":\"\"}},\"marker\":{\"colorbar\":{\"outlinewidth\":0,\"ticks\":\"\"}}}],\"scattermapbox\":[{\"type\":\"scattermapbox\",\"marker\":{\"colorbar\":{\"outlinewidth\":0,\"ticks\":\"\"}}}],\"scatterternary\":[{\"type\":\"scatterternary\",\"marker\":{\"colorbar\":{\"outlinewidth\":0,\"ticks\":\"\"}}}],\"scattercarpet\":[{\"type\":\"scattercarpet\",\"marker\":{\"colorbar\":{\"outlinewidth\":0,\"ticks\":\"\"}}}],\"carpet\":[{\"aaxis\":{\"endlinecolor\":\"#2a3f5f\",\"gridcolor\":\"white\",\"linecolor\":\"white\",\"minorgridcolor\":\"white\",\"startlinecolor\":\"#2a3f5f\"},\"baxis\":{\"endlinecolor\":\"#2a3f5f\",\"gridcolor\":\"white\",\"linecolor\":\"white\",\"minorgridcolor\":\"white\",\"startlinecolor\":\"#2a3f5f\"},\"type\":\"carpet\"}],\"table\":[{\"cells\":{\"fill\":{\"color\":\"#EBF0F8\"},\"line\":{\"color\":\"white\"}},\"header\":{\"fill\":{\"color\":\"#C8D4E3\"},\"line\":{\"color\":\"white\"}},\"type\":\"table\"}],\"barpolar\":[{\"marker\":{\"line\":{\"color\":\"#E5ECF6\",\"width\":0.5},\"pattern\":{\"fillmode\":\"overlay\",\"size\":10,\"solidity\":0.2}},\"type\":\"barpolar\"}],\"pie\":[{\"automargin\":true,\"type\":\"pie\"}]},\"layout\":{\"autotypenumbers\":\"strict\",\"colorway\":[\"#636efa\",\"#EF553B\",\"#00cc96\",\"#ab63fa\",\"#FFA15A\",\"#19d3f3\",\"#FF6692\",\"#B6E880\",\"#FF97FF\",\"#FECB52\"],\"font\":{\"color\":\"#2a3f5f\"},\"hovermode\":\"closest\",\"hoverlabel\":{\"align\":\"left\"},\"paper_bgcolor\":\"white\",\"plot_bgcolor\":\"#E5ECF6\",\"polar\":{\"bgcolor\":\"#E5ECF6\",\"angularaxis\":{\"gridcolor\":\"white\",\"linecolor\":\"white\",\"ticks\":\"\"},\"radialaxis\":{\"gridcolor\":\"white\",\"linecolor\":\"white\",\"ticks\":\"\"}},\"ternary\":{\"bgcolor\":\"#E5ECF6\",\"aaxis\":{\"gridcolor\":\"white\",\"linecolor\":\"white\",\"ticks\":\"\"},\"baxis\":{\"gridcolor\":\"white\",\"linecolor\":\"white\",\"ticks\":\"\"},\"caxis\":{\"gridcolor\":\"white\",\"linecolor\":\"white\",\"ticks\":\"\"}},\"coloraxis\":{\"colorbar\":{\"outlinewidth\":0,\"ticks\":\"\"}},\"colorscale\":{\"sequential\":[[0.0,\"#0d0887\"],[0.1111111111111111,\"#46039f\"],[0.2222222222222222,\"#7201a8\"],[0.3333333333333333,\"#9c179e\"],[0.4444444444444444,\"#bd3786\"],[0.5555555555555556,\"#d8576b\"],[0.6666666666666666,\"#ed7953\"],[0.7777777777777778,\"#fb9f3a\"],[0.8888888888888888,\"#fdca26\"],[1.0,\"#f0f921\"]],\"sequentialminus\":[[0.0,\"#0d0887\"],[0.1111111111111111,\"#46039f\"],[0.2222222222222222,\"#7201a8\"],[0.3333333333333333,\"#9c179e\"],[0.4444444444444444,\"#bd3786\"],[0.5555555555555556,\"#d8576b\"],[0.6666666666666666,\"#ed7953\"],[0.7777777777777778,\"#fb9f3a\"],[0.8888888888888888,\"#fdca26\"],[1.0,\"#f0f921\"]],\"diverging\":[[0,\"#8e0152\"],[0.1,\"#c51b7d\"],[0.2,\"#de77ae\"],[0.3,\"#f1b6da\"],[0.4,\"#fde0ef\"],[0.5,\"#f7f7f7\"],[0.6,\"#e6f5d0\"],[0.7,\"#b8e186\"],[0.8,\"#7fbc41\"],[0.9,\"#4d9221\"],[1,\"#276419\"]]},\"xaxis\":{\"gridcolor\":\"white\",\"linecolor\":\"white\",\"ticks\":\"\",\"title\":{\"standoff\":15},\"zerolinecolor\":\"white\",\"automargin\":true,\"zerolinewidth\":2},\"yaxis\":{\"gridcolor\":\"white\",\"linecolor\":\"white\",\"ticks\":\"\",\"title\":{\"standoff\":15},\"zerolinecolor\":\"white\",\"automargin\":true,\"zerolinewidth\":2},\"scene\":{\"xaxis\":{\"backgroundcolor\":\"#E5ECF6\",\"gridcolor\":\"white\",\"linecolor\":\"white\",\"showbackground\":true,\"ticks\":\"\",\"zerolinecolor\":\"white\",\"gridwidth\":2},\"yaxis\":{\"backgroundcolor\":\"#E5ECF6\",\"gridcolor\":\"white\",\"linecolor\":\"white\",\"showbackground\":true,\"ticks\":\"\",\"zerolinecolor\":\"white\",\"gridwidth\":2},\"zaxis\":{\"backgroundcolor\":\"#E5ECF6\",\"gridcolor\":\"white\",\"linecolor\":\"white\",\"showbackground\":true,\"ticks\":\"\",\"zerolinecolor\":\"white\",\"gridwidth\":2}},\"shapedefaults\":{\"line\":{\"color\":\"#2a3f5f\"}},\"annotationdefaults\":{\"arrowcolor\":\"#2a3f5f\",\"arrowhead\":0,\"arrowwidth\":1},\"geo\":{\"bgcolor\":\"white\",\"landcolor\":\"#E5ECF6\",\"subunitcolor\":\"white\",\"showland\":true,\"showlakes\":true,\"lakecolor\":\"white\"},\"title\":{\"x\":0.05},\"mapbox\":{\"style\":\"light\"}}},\"xaxis\":{\"anchor\":\"y\",\"domain\":[0.0,1.0],\"title\":{\"text\":\"People at Risk of Poverty %\"}},\"yaxis\":{\"anchor\":\"x\",\"domain\":[0.0,1.0],\"title\":{\"text\":\"Unemployment %\"}},\"legend\":{\"tracegroupgap\":0},\"margin\":{\"t\":60},\"height\":500},                        {\"responsive\": true}                    ).then(function(){\n",
       "                            \n",
       "var gd = document.getElementById('77b839fd-89da-4720-9893-bd9a18fd07bd');\n",
       "var x = new MutationObserver(function (mutations, observer) {{\n",
       "        var display = window.getComputedStyle(gd).display;\n",
       "        if (!display || display === 'none') {{\n",
       "            console.log([gd, 'removed!']);\n",
       "            Plotly.purge(gd);\n",
       "            observer.disconnect();\n",
       "        }}\n",
       "}});\n",
       "\n",
       "// Listen for the removal of the full notebook cells\n",
       "var notebookContainer = gd.closest('#notebook-container');\n",
       "if (notebookContainer) {{\n",
       "    x.observe(notebookContainer, {childList: true});\n",
       "}}\n",
       "\n",
       "// Listen for the clearing of the current output cell\n",
       "var outputEl = gd.closest('.output');\n",
       "if (outputEl) {{\n",
       "    x.observe(outputEl, {childList: true});\n",
       "}}\n",
       "\n",
       "                        })                };                });            </script>        </div>"
      ]
     },
     "metadata": {},
     "output_type": "display_data"
    }
   ],
   "source": [
    "df.plot(kind = 'scatter', backend = 'plotly',\n",
    "        x = 'People at Risk of Poverty %', y = 'Unemployment %',\n",
    "        trendline = 'ols',\n",
    "        height = 500)"
   ]
  },
  {
   "cell_type": "code",
   "execution_count": 36,
   "id": "4addf3b4-1e60-4f2c-b04f-5f02a408900a",
   "metadata": {},
   "outputs": [
    {
     "data": {
      "text/html": [
       "<div>\n",
       "<style scoped>\n",
       "    .dataframe tbody tr th:only-of-type {\n",
       "        vertical-align: middle;\n",
       "    }\n",
       "\n",
       "    .dataframe tbody tr th {\n",
       "        vertical-align: top;\n",
       "    }\n",
       "\n",
       "    .dataframe thead th {\n",
       "        text-align: right;\n",
       "    }\n",
       "</style>\n",
       "<table border=\"1\" class=\"dataframe\">\n",
       "  <thead>\n",
       "    <tr style=\"text-align: right;\">\n",
       "      <th></th>\n",
       "      <th>GDP</th>\n",
       "      <th>GDP per Capita</th>\n",
       "      <th>Unemployment %</th>\n",
       "      <th>Life Expectancy</th>\n",
       "      <th>Tertiary Educational Attainment %</th>\n",
       "      <th>People at Risk of Poverty %</th>\n",
       "      <th>Doctors per 100000</th>\n",
       "      <th>Fatal Road Accidents per Million</th>\n",
       "      <th>Regular Internet Users %</th>\n",
       "    </tr>\n",
       "  </thead>\n",
       "  <tbody>\n",
       "    <tr>\n",
       "      <th>GDP</th>\n",
       "      <td>1.000000</td>\n",
       "      <td>0.480599</td>\n",
       "      <td>-0.085736</td>\n",
       "      <td>0.284876</td>\n",
       "      <td>0.313328</td>\n",
       "      <td>-0.239806</td>\n",
       "      <td>0.079288</td>\n",
       "      <td>-0.380467</td>\n",
       "      <td>0.190661</td>\n",
       "    </tr>\n",
       "    <tr>\n",
       "      <th>GDP per Capita</th>\n",
       "      <td>0.480599</td>\n",
       "      <td>1.000000</td>\n",
       "      <td>-0.261789</td>\n",
       "      <td>0.531489</td>\n",
       "      <td>0.561024</td>\n",
       "      <td>-0.454076</td>\n",
       "      <td>0.190772</td>\n",
       "      <td>-0.546357</td>\n",
       "      <td>0.643841</td>\n",
       "    </tr>\n",
       "    <tr>\n",
       "      <th>Unemployment %</th>\n",
       "      <td>-0.085736</td>\n",
       "      <td>-0.261789</td>\n",
       "      <td>1.000000</td>\n",
       "      <td>0.264385</td>\n",
       "      <td>-0.090360</td>\n",
       "      <td>0.681183</td>\n",
       "      <td>0.213945</td>\n",
       "      <td>0.000372</td>\n",
       "      <td>-0.154073</td>\n",
       "    </tr>\n",
       "    <tr>\n",
       "      <th>Life Expectancy</th>\n",
       "      <td>0.284876</td>\n",
       "      <td>0.531489</td>\n",
       "      <td>0.264385</td>\n",
       "      <td>1.000000</td>\n",
       "      <td>0.331525</td>\n",
       "      <td>-0.165397</td>\n",
       "      <td>0.199542</td>\n",
       "      <td>-0.479153</td>\n",
       "      <td>0.451299</td>\n",
       "    </tr>\n",
       "    <tr>\n",
       "      <th>Tertiary Educational Attainment %</th>\n",
       "      <td>0.313328</td>\n",
       "      <td>0.561024</td>\n",
       "      <td>-0.090360</td>\n",
       "      <td>0.331525</td>\n",
       "      <td>1.000000</td>\n",
       "      <td>-0.380287</td>\n",
       "      <td>0.306468</td>\n",
       "      <td>-0.439905</td>\n",
       "      <td>0.646353</td>\n",
       "    </tr>\n",
       "    <tr>\n",
       "      <th>People at Risk of Poverty %</th>\n",
       "      <td>-0.239806</td>\n",
       "      <td>-0.454076</td>\n",
       "      <td>0.681183</td>\n",
       "      <td>-0.165397</td>\n",
       "      <td>-0.380287</td>\n",
       "      <td>1.000000</td>\n",
       "      <td>0.020383</td>\n",
       "      <td>0.285668</td>\n",
       "      <td>-0.568167</td>\n",
       "    </tr>\n",
       "    <tr>\n",
       "      <th>Doctors per 100000</th>\n",
       "      <td>0.079288</td>\n",
       "      <td>0.190772</td>\n",
       "      <td>0.213945</td>\n",
       "      <td>0.199542</td>\n",
       "      <td>0.306468</td>\n",
       "      <td>0.020383</td>\n",
       "      <td>1.000000</td>\n",
       "      <td>-0.314971</td>\n",
       "      <td>0.212098</td>\n",
       "    </tr>\n",
       "    <tr>\n",
       "      <th>Fatal Road Accidents per Million</th>\n",
       "      <td>-0.380467</td>\n",
       "      <td>-0.546357</td>\n",
       "      <td>0.000372</td>\n",
       "      <td>-0.479153</td>\n",
       "      <td>-0.439905</td>\n",
       "      <td>0.285668</td>\n",
       "      <td>-0.314971</td>\n",
       "      <td>1.000000</td>\n",
       "      <td>-0.581966</td>\n",
       "    </tr>\n",
       "    <tr>\n",
       "      <th>Regular Internet Users %</th>\n",
       "      <td>0.190661</td>\n",
       "      <td>0.643841</td>\n",
       "      <td>-0.154073</td>\n",
       "      <td>0.451299</td>\n",
       "      <td>0.646353</td>\n",
       "      <td>-0.568167</td>\n",
       "      <td>0.212098</td>\n",
       "      <td>-0.581966</td>\n",
       "      <td>1.000000</td>\n",
       "    </tr>\n",
       "  </tbody>\n",
       "</table>\n",
       "</div>"
      ],
      "text/plain": [
       "                                        GDP  GDP per Capita  Unemployment %  \\\n",
       "GDP                                1.000000        0.480599       -0.085736   \n",
       "GDP per Capita                     0.480599        1.000000       -0.261789   \n",
       "Unemployment %                    -0.085736       -0.261789        1.000000   \n",
       "Life Expectancy                    0.284876        0.531489        0.264385   \n",
       "Tertiary Educational Attainment %  0.313328        0.561024       -0.090360   \n",
       "People at Risk of Poverty %       -0.239806       -0.454076        0.681183   \n",
       "Doctors per 100000                 0.079288        0.190772        0.213945   \n",
       "Fatal Road Accidents per Million  -0.380467       -0.546357        0.000372   \n",
       "Regular Internet Users %           0.190661        0.643841       -0.154073   \n",
       "\n",
       "                                   Life Expectancy  \\\n",
       "GDP                                       0.284876   \n",
       "GDP per Capita                            0.531489   \n",
       "Unemployment %                            0.264385   \n",
       "Life Expectancy                           1.000000   \n",
       "Tertiary Educational Attainment %         0.331525   \n",
       "People at Risk of Poverty %              -0.165397   \n",
       "Doctors per 100000                        0.199542   \n",
       "Fatal Road Accidents per Million         -0.479153   \n",
       "Regular Internet Users %                  0.451299   \n",
       "\n",
       "                                   Tertiary Educational Attainment %  \\\n",
       "GDP                                                         0.313328   \n",
       "GDP per Capita                                              0.561024   \n",
       "Unemployment %                                             -0.090360   \n",
       "Life Expectancy                                             0.331525   \n",
       "Tertiary Educational Attainment %                           1.000000   \n",
       "People at Risk of Poverty %                                -0.380287   \n",
       "Doctors per 100000                                          0.306468   \n",
       "Fatal Road Accidents per Million                           -0.439905   \n",
       "Regular Internet Users %                                    0.646353   \n",
       "\n",
       "                                   People at Risk of Poverty %  \\\n",
       "GDP                                                  -0.239806   \n",
       "GDP per Capita                                       -0.454076   \n",
       "Unemployment %                                        0.681183   \n",
       "Life Expectancy                                      -0.165397   \n",
       "Tertiary Educational Attainment %                    -0.380287   \n",
       "People at Risk of Poverty %                           1.000000   \n",
       "Doctors per 100000                                    0.020383   \n",
       "Fatal Road Accidents per Million                      0.285668   \n",
       "Regular Internet Users %                             -0.568167   \n",
       "\n",
       "                                   Doctors per 100000  \\\n",
       "GDP                                          0.079288   \n",
       "GDP per Capita                               0.190772   \n",
       "Unemployment %                               0.213945   \n",
       "Life Expectancy                              0.199542   \n",
       "Tertiary Educational Attainment %            0.306468   \n",
       "People at Risk of Poverty %                  0.020383   \n",
       "Doctors per 100000                           1.000000   \n",
       "Fatal Road Accidents per Million            -0.314971   \n",
       "Regular Internet Users %                     0.212098   \n",
       "\n",
       "                                   Fatal Road Accidents per Million  \\\n",
       "GDP                                                       -0.380467   \n",
       "GDP per Capita                                            -0.546357   \n",
       "Unemployment %                                             0.000372   \n",
       "Life Expectancy                                           -0.479153   \n",
       "Tertiary Educational Attainment %                         -0.439905   \n",
       "People at Risk of Poverty %                                0.285668   \n",
       "Doctors per 100000                                        -0.314971   \n",
       "Fatal Road Accidents per Million                           1.000000   \n",
       "Regular Internet Users %                                  -0.581966   \n",
       "\n",
       "                                   Regular Internet Users %  \n",
       "GDP                                                0.190661  \n",
       "GDP per Capita                                     0.643841  \n",
       "Unemployment %                                    -0.154073  \n",
       "Life Expectancy                                    0.451299  \n",
       "Tertiary Educational Attainment %                  0.646353  \n",
       "People at Risk of Poverty %                       -0.568167  \n",
       "Doctors per 100000                                 0.212098  \n",
       "Fatal Road Accidents per Million                  -0.581966  \n",
       "Regular Internet Users %                           1.000000  "
      ]
     },
     "execution_count": 36,
     "metadata": {},
     "output_type": "execute_result"
    }
   ],
   "source": [
    "df.corr(method = 'pearson')"
   ]
  }
 ],
 "metadata": {
  "kernelspec": {
   "display_name": "Python 3 (ipykernel)",
   "language": "python",
   "name": "python3"
  },
  "language_info": {
   "codemirror_mode": {
    "name": "ipython",
    "version": 3
   },
   "file_extension": ".py",
   "mimetype": "text/x-python",
   "name": "python",
   "nbconvert_exporter": "python",
   "pygments_lexer": "ipython3",
   "version": "3.9.12"
  },
  "vscode": {
   "interpreter": {
    "hash": "b752c36d3c917c5a7a446168fa2a1b2b7e7fa5428956a07ae4bce773ea1b4e40"
   }
  }
 },
 "nbformat": 4,
 "nbformat_minor": 5
}
