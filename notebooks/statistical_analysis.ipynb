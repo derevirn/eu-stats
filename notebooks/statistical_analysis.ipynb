{
 "cells": [
  {
   "cell_type": "code",
   "execution_count": 83,
   "id": "bfc53b8b-2fd3-4213-b4f5-f8d2ee90f575",
   "metadata": {},
   "outputs": [],
   "source": [
    "import pandas as pd\n",
    "import seaborn as sns\n",
    "import matplotlib.pyplot as plt\n",
    "import matplotlib as mpl\n",
    "import plotly.express as px\n",
    "import logging\n",
    "from sklearn.impute import KNNImputer, SimpleImputer\n",
    "from sklearn.decomposition import PCA\n",
    "\n",
    "mpl.rcParams['figure.dpi'] = 150\n",
    "logging.disable(logging.CRITICAL)"
   ]
  },
  {
   "cell_type": "code",
   "execution_count": 84,
   "id": "60a5fb66-834a-41e9-af6d-ebab73de155e",
   "metadata": {
    "tags": []
   },
   "outputs": [
    {
     "data": {
      "text/html": [
       "<div>\n",
       "<style scoped>\n",
       "    .dataframe tbody tr th:only-of-type {\n",
       "        vertical-align: middle;\n",
       "    }\n",
       "\n",
       "    .dataframe tbody tr th {\n",
       "        vertical-align: top;\n",
       "    }\n",
       "\n",
       "    .dataframe thead th {\n",
       "        text-align: right;\n",
       "    }\n",
       "</style>\n",
       "<table border=\"1\" class=\"dataframe\">\n",
       "  <thead>\n",
       "    <tr style=\"text-align: right;\">\n",
       "      <th></th>\n",
       "      <th>GDP</th>\n",
       "      <th>Country</th>\n",
       "      <th>EU Region</th>\n",
       "      <th>GDP per Capita</th>\n",
       "      <th>Unemployment %</th>\n",
       "      <th>Life Expectancy</th>\n",
       "      <th>Doctors per 100000</th>\n",
       "      <th>Fatal Road Accidents per Million</th>\n",
       "      <th>Tertiary Educational Attainment %</th>\n",
       "      <th>Population Density</th>\n",
       "      <th>People at Risk of Poverty %</th>\n",
       "      <th>Regular Internet Users %</th>\n",
       "    </tr>\n",
       "    <tr>\n",
       "      <th>region_name</th>\n",
       "      <th></th>\n",
       "      <th></th>\n",
       "      <th></th>\n",
       "      <th></th>\n",
       "      <th></th>\n",
       "      <th></th>\n",
       "      <th></th>\n",
       "      <th></th>\n",
       "      <th></th>\n",
       "      <th></th>\n",
       "      <th></th>\n",
       "      <th></th>\n",
       "    </tr>\n",
       "  </thead>\n",
       "  <tbody>\n",
       "    <tr>\n",
       "      <th>Abruzzo</th>\n",
       "      <td>30.89</td>\n",
       "      <td>IT</td>\n",
       "      <td>Southern Europe</td>\n",
       "      <td>24000.0</td>\n",
       "      <td>9.3</td>\n",
       "      <td>82.9</td>\n",
       "      <td>435.45</td>\n",
       "      <td>46.0</td>\n",
       "      <td>21.2</td>\n",
       "      <td>120.5</td>\n",
       "      <td>25.0</td>\n",
       "      <td>78.0</td>\n",
       "    </tr>\n",
       "    <tr>\n",
       "      <th>Alentejo</th>\n",
       "      <td>12.44</td>\n",
       "      <td>PT</td>\n",
       "      <td>Southern Europe</td>\n",
       "      <td>17700.0</td>\n",
       "      <td>6.6</td>\n",
       "      <td>80.2</td>\n",
       "      <td>310.06</td>\n",
       "      <td>135.0</td>\n",
       "      <td>21.4</td>\n",
       "      <td>22.7</td>\n",
       "      <td>22.0</td>\n",
       "      <td>70.0</td>\n",
       "    </tr>\n",
       "    <tr>\n",
       "      <th>Algarve</th>\n",
       "      <td>8.71</td>\n",
       "      <td>PT</td>\n",
       "      <td>Southern Europe</td>\n",
       "      <td>19900.0</td>\n",
       "      <td>8.3</td>\n",
       "      <td>80.3</td>\n",
       "      <td>419.03</td>\n",
       "      <td>75.0</td>\n",
       "      <td>24.4</td>\n",
       "      <td>88.9</td>\n",
       "      <td>23.2</td>\n",
       "      <td>76.0</td>\n",
       "    </tr>\n",
       "    <tr>\n",
       "      <th>Alsace</th>\n",
       "      <td>59.58</td>\n",
       "      <td>FR</td>\n",
       "      <td>Western Europe</td>\n",
       "      <td>31000.0</td>\n",
       "      <td>7.1</td>\n",
       "      <td>81.8</td>\n",
       "      <td>362.21</td>\n",
       "      <td>30.0</td>\n",
       "      <td>39.0</td>\n",
       "      <td>230.6</td>\n",
       "      <td>NaN</td>\n",
       "      <td>75.0</td>\n",
       "    </tr>\n",
       "    <tr>\n",
       "      <th>Andalucía</th>\n",
       "      <td>150.56</td>\n",
       "      <td>ES</td>\n",
       "      <td>Southern Europe</td>\n",
       "      <td>17700.0</td>\n",
       "      <td>21.7</td>\n",
       "      <td>81.7</td>\n",
       "      <td>371.83</td>\n",
       "      <td>30.0</td>\n",
       "      <td>32.5</td>\n",
       "      <td>97.4</td>\n",
       "      <td>37.7</td>\n",
       "      <td>84.0</td>\n",
       "    </tr>\n",
       "  </tbody>\n",
       "</table>\n",
       "</div>"
      ],
      "text/plain": [
       "                GDP Country        EU Region  GDP per Capita  Unemployment %  \\\n",
       "region_name                                                                    \n",
       "Abruzzo       30.89      IT  Southern Europe         24000.0             9.3   \n",
       "Alentejo      12.44      PT  Southern Europe         17700.0             6.6   \n",
       "Algarve        8.71      PT  Southern Europe         19900.0             8.3   \n",
       "Alsace        59.58      FR   Western Europe         31000.0             7.1   \n",
       "Andalucía    150.56      ES  Southern Europe         17700.0            21.7   \n",
       "\n",
       "             Life Expectancy  Doctors per 100000  \\\n",
       "region_name                                        \n",
       "Abruzzo                 82.9              435.45   \n",
       "Alentejo                80.2              310.06   \n",
       "Algarve                 80.3              419.03   \n",
       "Alsace                  81.8              362.21   \n",
       "Andalucía               81.7              371.83   \n",
       "\n",
       "             Fatal Road Accidents per Million  \\\n",
       "region_name                                     \n",
       "Abruzzo                                  46.0   \n",
       "Alentejo                                135.0   \n",
       "Algarve                                  75.0   \n",
       "Alsace                                   30.0   \n",
       "Andalucía                                30.0   \n",
       "\n",
       "             Tertiary Educational Attainment %  Population Density  \\\n",
       "region_name                                                          \n",
       "Abruzzo                                   21.2               120.5   \n",
       "Alentejo                                  21.4                22.7   \n",
       "Algarve                                   24.4                88.9   \n",
       "Alsace                                    39.0               230.6   \n",
       "Andalucía                                 32.5                97.4   \n",
       "\n",
       "             People at Risk of Poverty %  Regular Internet Users %  \n",
       "region_name                                                         \n",
       "Abruzzo                             25.0                      78.0  \n",
       "Alentejo                            22.0                      70.0  \n",
       "Algarve                             23.2                      76.0  \n",
       "Alsace                               NaN                      75.0  \n",
       "Andalucía                           37.7                      84.0  "
      ]
     },
     "execution_count": 84,
     "metadata": {},
     "output_type": "execute_result"
    }
   ],
   "source": [
    "df = pd.read_csv('../data/eu_regional_data.csv', index_col = 'region_name')\n",
    "df.head()"
   ]
  },
  {
   "cell_type": "code",
   "execution_count": 85,
   "id": "e1074402-d3e1-47a6-bf9c-9c83a8611ea9",
   "metadata": {},
   "outputs": [
    {
     "name": "stdout",
     "output_type": "stream",
     "text": [
      "<class 'pandas.core.frame.DataFrame'>\n",
      "Index: 242 entries, Abruzzo to Южен централен (Yuzhen tsentralen)\n",
      "Data columns (total 12 columns):\n",
      " #   Column                             Non-Null Count  Dtype  \n",
      "---  ------                             --------------  -----  \n",
      " 0   GDP                                242 non-null    float64\n",
      " 1   Country                            242 non-null    object \n",
      " 2   EU Region                          242 non-null    object \n",
      " 3   GDP per Capita                     242 non-null    float64\n",
      " 4   Unemployment %                     238 non-null    float64\n",
      " 5   Life Expectancy                    238 non-null    float64\n",
      " 6   Doctors per 100000                 173 non-null    float64\n",
      " 7   Fatal Road Accidents per Million   239 non-null    float64\n",
      " 8   Tertiary Educational Attainment %  238 non-null    float64\n",
      " 9   Population Density                 239 non-null    float64\n",
      " 10  People at Risk of Poverty %        183 non-null    float64\n",
      " 11  Regular Internet Users %           169 non-null    float64\n",
      "dtypes: float64(10), object(2)\n",
      "memory usage: 24.6+ KB\n"
     ]
    }
   ],
   "source": [
    "df.info()"
   ]
  },
  {
   "cell_type": "code",
   "execution_count": 86,
   "id": "5b57e41a-3a28-445d-b58d-3103594e9ac0",
   "metadata": {},
   "outputs": [
    {
     "data": {
      "image/png": "[encoded data removed]",
      "text/plain": [
       "<Figure size 1800x1200 with 1 Axes>"
      ]
     },
     "metadata": {
      "needs_background": "light"
     },
     "output_type": "display_data"
    }
   ],
   "source": [
    "fig, ax = plt.subplots(figsize = (12,8))\n",
    "sns.kdeplot(data = df, x = 'Life Expectancy',\n",
    "             hue = 'EU Region', ax = ax)\n",
    "plt.show()"
   ]
  },
  {
   "cell_type": "code",
   "execution_count": 87,
   "id": "0de64984-3372-4167-b003-9d6a48f66dfa",
   "metadata": {},
   "outputs": [
    {
     "data": {
      "image/png": "[encoded data removed]",
      "text/plain": [
       "<Figure size 1500x1200 with 2 Axes>"
      ]
     },
     "metadata": {
      "needs_background": "light"
     },
     "output_type": "display_data"
    }
   ],
   "source": [
    "plt.figure(figsize=(10,8))\n",
    "\n",
    "sns.heatmap(df.corr().round(2), annot=True)\n",
    "plt.show()"
   ]
  },
  {
   "cell_type": "code",
   "execution_count": 88,
   "id": "8c7bbdcc-83e2-4136-b58c-a0ba6d98b798",
   "metadata": {},
   "outputs": [
    {
     "data": {
      "application/vnd.plotly.v1+json": {
       "config": {
        "plotlyServerURL": "https://plot.ly"
       },
       "data": [
        {
         "hovertemplate": "Tertiary Educational Attainment %=%{x}<br>GDP per Capita=%{y}<extra></extra>",
         "legendgroup": "",
         "marker": {
          "color": "#636efa",
          "symbol": "circle"
         },
         "mode": "markers",
         "name": "",
         "orientation": "v",
         "showlegend": false,
         "type": "scatter",
         "x": [
          21.2,
          21.4,
          24.4,
          39,
          32.5,
          36,
          39.7,
          25.5,
          31.2,
          24.4,
          41,
          17.6,
          32.6,
          42.9,
          35,
          29.2,
          45.6,
          32,
          30.8,
          38.1,
          40.5,
          49.8,
          33.1,
          16,
          16.3,
          34.4,
          42.5,
          39,
          30.8,
          42.3,
          31.9,
          26.2,
          17.1,
          24.8,
          27,
          25.7,
          34.3,
          48.4,
          50.2,
          38,
          39.3,
          32.7,
          25.9,
          36.1,
          34.6,
          32.1,
          21.6,
          18.5,
          28.9,
          53.9,
          40.1,
          23.3,
          43.5,
          26.7,
          35,
          33.8,
          33.6,
          34.3,
          21.4,
          40.3,
          38.1,
          30,
          null,
          40.6,
          23.3,
          18.7,
          36.7,
          28.3,
          31.8,
          54.9,
          53.1,
          54.3,
          34.8,
          26.4,
          27.7,
          19.8,
          34.5,
          28.1,
          27.3,
          26.6,
          32.1,
          32.2,
          22.1,
          38.5,
          22.9,
          41,
          37.8,
          27,
          37,
          21.8,
          34.6,
          33.8,
          21.7,
          32.5,
          33.4,
          27.9,
          47.1,
          45.9,
          26.9,
          30.6,
          21.2,
          27.1,
          null,
          26.5,
          33.8,
          27.3,
          37,
          43.3,
          38.9,
          33.8,
          18.5,
          21.1,
          26.6,
          24.4,
          33,
          41.1,
          49.9,
          11.8,
          32.1,
          20.1,
          32,
          35.3,
          24.9,
          46.4,
          25,
          41.8,
          27.7,
          29.7,
          31.1,
          27.6,
          37.7,
          null,
          35.9,
          53.4,
          30.7,
          32.6,
          19.8,
          29.6,
          31.4,
          42,
          33.4,
          34.9,
          45.9,
          44.2,
          41,
          59.7,
          32.4,
          37.7,
          39.7,
          42.5,
          40.8,
          44.1,
          51.4,
          38.7,
          40,
          17.6,
          22.4,
          15.3,
          22.9,
          15.8,
          32.8,
          32.7,
          43.2,
          49.3,
          26.3,
          22.6,
          32.5,
          17.7,
          26.9,
          32.4,
          20.5,
          13.7,
          14.9,
          null,
          30.4,
          37.2,
          58.6,
          45.6,
          31.1,
          53.7,
          23.7,
          34.7,
          22.3,
          24.2,
          13.1,
          13.1,
          16.7,
          33.5,
          45.4,
          29.1,
          31.9,
          21.1,
          31.6,
          32.2,
          23.1,
          31.3,
          55.7,
          18.9,
          19.8,
          17,
          37.8,
          29.2,
          30.8,
          43.4,
          26.6,
          23.6,
          57.2,
          25,
          29.3,
          42.7,
          29.6,
          41.6,
          31.8,
          44.2,
          22.4,
          38,
          41.6,
          19.2,
          16.8,
          42.8,
          40,
          30.2,
          30.7,
          31.9,
          31.6,
          29.3,
          25,
          26.6,
          30.3,
          23.7,
          32.2,
          28,
          44.9,
          22.5,
          23.9,
          25.2,
          26.5,
          20.7,
          23.3,
          43.4,
          22.9,
          21.9
         ],
         "xaxis": "x",
         "y": [
          24000,
          17700,
          19900,
          31000,
          17700,
          29600,
          26500,
          35100,
          27000,
          10900,
          20900,
          21200,
          26400,
          42300,
          27900,
          29700,
          38900,
          47400,
          46900,
          29400,
          26000,
          29000,
          30200,
          16500,
          18100,
          17400,
          22100,
          23200,
          19400,
          27800,
          27800,
          17300,
          10600,
          27800,
          29100,
          19500,
          17900,
          29300,
          32000,
          20800,
          25500,
          50700,
          38300,
          15100,
          31500,
          31800,
          10300,
          9700,
          41700,
          75700,
          20200,
          33600,
          37900,
          18300,
          34300,
          25500,
          38100,
          32300,
          30600,
          21900,
          39200,
          34400,
          23400,
          39700,
          22600,
          15000,
          64400,
          39300,
          27600,
          55000,
          69700,
          57400,
          22000,
          11500,
          18700,
          17000,
          44000,
          36300,
          33700,
          11100,
          36900,
          43200,
          12700,
          25700,
          22100,
          25600,
          15500,
          32400,
          33300,
          30300,
          40500,
          24800,
          36500,
          24300,
          9300,
          11100,
          101800,
          37900,
          28600,
          25300,
          26300,
          24600,
          9700,
          11600,
          12500,
          28900,
          38600,
          30400,
          49200,
          44800,
          20500,
          15700,
          34100,
          38900,
          35300,
          47000,
          59300,
          7200,
          27900,
          10600,
          44600,
          36400,
          16900,
          30100,
          13300,
          58000,
          38300,
          41700,
          43700,
          10700,
          39300,
          7900,
          30100,
          30400,
          11200,
          24700,
          29400,
          9400,
          10000,
          35900,
          27400,
          13000,
          43700,
          21100,
          47000,
          54400,
          24500,
          31800,
          27800,
          23900,
          26400,
          35800,
          42800,
          37900,
          31500,
          44400,
          36900,
          18200,
          17600,
          17100,
          19800,
          37200,
          34300,
          68400,
          34500,
          29000,
          49900,
          20200,
          33800,
          39300,
          16800,
          13600,
          17200,
          10000,
          37600,
          38200,
          25600,
          97500,
          39000,
          64400,
          13400,
          51900,
          16500,
          18000,
          9100,
          8600,
          8900,
          47400,
          40000,
          29300,
          44100,
          30100,
          30500,
          43300,
          24700,
          40300,
          58100,
          36300,
          31200,
          11700,
          14400,
          45700,
          18500,
          43800,
          12000,
          9600,
          30000,
          35800,
          14900,
          50400,
          11400,
          26500,
          36400,
          45000,
          15600,
          24900,
          38900,
          9200,
          9500,
          38600,
          45600,
          13200,
          13500,
          9800,
          11200,
          10100,
          11400,
          12600,
          12200,
          13800,
          12100,
          12800,
          24200,
          15600,
          13400,
          15100,
          6000,
          5800,
          6700,
          14800,
          6200,
          6400
         ],
         "yaxis": "y"
        },
        {
         "hovertemplate": "<b>OLS trendline</b><br>GDP per Capita = 874.071 * Tertiary Educational Attainment % + 547.209<br>R<sup>2</sup>=0.314748<br><br>Tertiary Educational Attainment %=%{x}<br>GDP per Capita=%{y} <b>(trend)</b><extra></extra>",
         "legendgroup": "",
         "marker": {
          "color": "#636efa",
          "symbol": "circle"
         },
         "mode": "lines",
         "name": "",
         "showlegend": false,
         "type": "scatter",
         "x": [
          11.8,
          13.1,
          13.1,
          13.7,
          14.9,
          15.3,
          15.8,
          16,
          16.3,
          16.7,
          16.8,
          17,
          17.1,
          17.6,
          17.6,
          17.7,
          18.5,
          18.5,
          18.7,
          18.9,
          19.2,
          19.8,
          19.8,
          19.8,
          20.1,
          20.5,
          20.7,
          21.1,
          21.1,
          21.2,
          21.2,
          21.4,
          21.4,
          21.6,
          21.7,
          21.8,
          21.9,
          22.1,
          22.3,
          22.4,
          22.4,
          22.5,
          22.6,
          22.9,
          22.9,
          22.9,
          23.1,
          23.3,
          23.3,
          23.3,
          23.6,
          23.7,
          23.7,
          23.9,
          24.2,
          24.4,
          24.4,
          24.4,
          24.8,
          24.9,
          25,
          25,
          25,
          25.2,
          25.5,
          25.7,
          25.9,
          26.2,
          26.3,
          26.4,
          26.5,
          26.5,
          26.6,
          26.6,
          26.6,
          26.6,
          26.7,
          26.9,
          26.9,
          27,
          27,
          27.1,
          27.3,
          27.3,
          27.6,
          27.7,
          27.7,
          27.9,
          28,
          28.1,
          28.3,
          28.9,
          29.1,
          29.2,
          29.2,
          29.3,
          29.3,
          29.6,
          29.6,
          29.7,
          30,
          30.2,
          30.3,
          30.4,
          30.6,
          30.7,
          30.7,
          30.8,
          30.8,
          30.8,
          31.1,
          31.1,
          31.2,
          31.3,
          31.4,
          31.6,
          31.6,
          31.8,
          31.8,
          31.9,
          31.9,
          31.9,
          32,
          32,
          32.1,
          32.1,
          32.1,
          32.2,
          32.2,
          32.2,
          32.4,
          32.4,
          32.5,
          32.5,
          32.5,
          32.6,
          32.6,
          32.7,
          32.7,
          32.8,
          33,
          33.1,
          33.4,
          33.4,
          33.5,
          33.6,
          33.8,
          33.8,
          33.8,
          33.8,
          34.3,
          34.3,
          34.4,
          34.5,
          34.6,
          34.6,
          34.7,
          34.8,
          34.9,
          35,
          35,
          35.3,
          35.9,
          36,
          36.1,
          36.7,
          37,
          37,
          37.2,
          37.7,
          37.7,
          37.8,
          37.8,
          38,
          38,
          38.1,
          38.1,
          38.5,
          38.7,
          38.9,
          39,
          39,
          39.3,
          39.7,
          39.7,
          40,
          40,
          40.1,
          40.3,
          40.5,
          40.6,
          40.8,
          41,
          41,
          41,
          41.1,
          41.6,
          41.6,
          41.8,
          42,
          42.3,
          42.5,
          42.5,
          42.7,
          42.8,
          42.9,
          43.2,
          43.3,
          43.4,
          43.4,
          43.5,
          44.1,
          44.2,
          44.2,
          44.9,
          45.4,
          45.6,
          45.6,
          45.9,
          45.9,
          46.4,
          47.1,
          48.4,
          49.3,
          49.8,
          49.9,
          50.2,
          51.4,
          53.1,
          53.4,
          53.7,
          53.9,
          54.3,
          54.9,
          55.7,
          57.2,
          58.6,
          59.7
         ],
         "xaxis": "x",
         "y": [
          10861.24131920853,
          11997.533061465634,
          11997.533061465634,
          12521.975404045836,
          13570.860089206242,
          13920.488317593043,
          14357.523603076546,
          14532.337717269946,
          14794.558888560048,
          15144.187116946849,
          15231.59417404355,
          15406.40828823695,
          15493.81534533365,
          15930.850630817153,
          15930.850630817153,
          16018.257687913852,
          16717.514144687455,
          16717.514144687455,
          16892.328258880854,
          17067.142373074254,
          17329.363544364354,
          17853.80588694456,
          17853.80588694456,
          17853.80588694456,
          18116.02705823466,
          18465.655286621462,
          18640.46940081486,
          18990.097629201664,
          18990.097629201664,
          19077.504686298365,
          19077.504686298365,
          19252.318800491765,
          19252.318800491765,
          19427.132914685168,
          19514.539971781865,
          19601.947028878567,
          19689.354085975265,
          19864.168200168668,
          20038.98231436207,
          20126.38937145877,
          20126.38937145877,
          20213.79642855547,
          20301.20348565217,
          20563.42465694227,
          20563.42465694227,
          20563.42465694227,
          20738.23877113567,
          20913.052885329074,
          20913.052885329074,
          20913.052885329074,
          21175.274056619175,
          21262.681113715873,
          21262.681113715873,
          21437.495227909272,
          21699.716399199377,
          21874.530513392776,
          21874.530513392776,
          21874.530513392776,
          22224.158741779578,
          22311.56579887628,
          22398.97285597298,
          22398.97285597298,
          22398.97285597298,
          22573.78697016638,
          22836.00814145648,
          23010.82225564988,
          23185.636369843283,
          23447.857541133384,
          23535.264598230086,
          23622.671655326783,
          23710.078712423485,
          23710.078712423485,
          23797.485769520186,
          23797.485769520186,
          23797.485769520186,
          23797.485769520186,
          23884.892826616884,
          24059.706940810287,
          24059.706940810287,
          24147.11399790699,
          24147.11399790699,
          24234.52105500369,
          24409.33516919709,
          24409.33516919709,
          24671.55634048719,
          24758.963397583888,
          24758.963397583888,
          24933.77751177729,
          25021.184568873992,
          25108.591625970694,
          25283.405740164093,
          25807.848082744295,
          25982.662196937697,
          26070.069254034395,
          26070.069254034395,
          26157.476311131097,
          26157.476311131097,
          26419.697482421197,
          26419.697482421197,
          26507.1045395179,
          26769.325710808,
          26944.1398250014,
          27031.5468820981,
          27118.9539391948,
          27293.7680533882,
          27381.175110484903,
          27381.175110484903,
          27468.582167581604,
          27468.582167581604,
          27468.582167581604,
          27730.803338871705,
          27730.803338871705,
          27818.210395968403,
          27905.617453065104,
          27993.024510161802,
          28167.83862435521,
          28167.83862435521,
          28342.652738548608,
          28342.652738548608,
          28430.059795645306,
          28430.059795645306,
          28430.059795645306,
          28517.466852742007,
          28517.466852742007,
          28604.87390983871,
          28604.87390983871,
          28604.87390983871,
          28692.28096693541,
          28692.28096693541,
          28692.28096693541,
          28867.095081128806,
          28867.095081128806,
          28954.50213822551,
          28954.50213822551,
          28954.50213822551,
          29041.909195322212,
          29041.909195322212,
          29129.316252418914,
          29129.316252418914,
          29216.723309515608,
          29391.53742370901,
          29478.944480805712,
          29741.165652095813,
          29741.165652095813,
          29828.572709192515,
          29915.979766289216,
          30090.79388048261,
          30090.79388048261,
          30090.79388048261,
          30090.79388048261,
          30527.829165966115,
          30527.829165966115,
          30615.236223062817,
          30702.64328015952,
          30790.05033725622,
          30790.05033725622,
          30877.45739435292,
          30964.864451449615,
          31052.271508546317,
          31139.67856564302,
          31139.67856564302,
          31401.89973693312,
          31926.34207951332,
          32013.749136610022,
          32101.156193706724,
          32625.59853628693,
          32887.81970757703,
          32887.81970757703,
          33062.63382177043,
          33499.66910725393,
          33499.66910725393,
          33587.07616435063,
          33587.07616435063,
          33761.89027854403,
          33761.89027854403,
          33849.29733564073,
          33849.29733564073,
          34198.92556402753,
          34373.73967822094,
          34548.553792414335,
          34635.96084951104,
          34635.96084951104,
          34898.182020801134,
          35247.81024918794,
          35247.81024918794,
          35510.03142047804,
          35510.03142047804,
          35597.43847757474,
          35772.252591768134,
          35947.066705961544,
          36034.473763058246,
          36209.28787725164,
          36384.101991445044,
          36384.101991445044,
          36384.101991445044,
          36471.509048541746,
          36908.544334025246,
          36908.544334025246,
          37083.35844821864,
          37258.172562412044,
          37520.39373370215,
          37695.20784789555,
          37695.20784789555,
          37870.021962088955,
          37957.42901918565,
          38044.83607628235,
          38307.057247572455,
          38394.46430466915,
          38481.87136176585,
          38481.87136176585,
          38569.27841886255,
          39093.72076144275,
          39181.127818539455,
          39181.127818539455,
          39792.97721821636,
          40230.01250369986,
          40404.82661789326,
          40404.82661789326,
          40667.04778918336,
          40667.04778918336,
          41104.083074666865,
          41715.93247434377,
          42852.22421660087,
          43638.88773047117,
          44075.92301595468,
          44163.33007305138,
          44425.551244341485,
          45474.43592950188,
          46960.35590014579,
          47222.57707143589,
          47484.79824272599,
          47659.612356919395,
          48009.240585306194,
          48533.682927886395,
          49232.93938466001,
          50544.04524111051,
          51767.74404046431,
          52729.22166852802
         ],
         "yaxis": "y"
        }
       ],
       "layout": {
        "autosize": true,
        "legend": {
         "tracegroupgap": 0
        },
        "margin": {
         "t": 60
        },
        "template": {
         "data": {
          "bar": [
           {
            "error_x": {
             "color": "#2a3f5f"
            },
            "error_y": {
             "color": "#2a3f5f"
            },
            "marker": {
             "line": {
              "color": "#E5ECF6",
              "width": 0.5
             },
             "pattern": {
              "fillmode": "overlay",
              "size": 10,
              "solidity": 0.2
             }
            },
            "type": "bar"
           }
          ],
          "barpolar": [
           {
            "marker": {
             "line": {
              "color": "#E5ECF6",
              "width": 0.5
             },
             "pattern": {
              "fillmode": "overlay",
              "size": 10,
              "solidity": 0.2
             }
            },
            "type": "barpolar"
           }
          ],
          "carpet": [
           {
            "aaxis": {
             "endlinecolor": "#2a3f5f",
             "gridcolor": "white",
             "linecolor": "white",
             "minorgridcolor": "white",
             "startlinecolor": "#2a3f5f"
            },
            "baxis": {
             "endlinecolor": "#2a3f5f",
             "gridcolor": "white",
             "linecolor": "white",
             "minorgridcolor": "white",
             "startlinecolor": "#2a3f5f"
            },
            "type": "carpet"
           }
          ],
          "choropleth": [
           {
            "colorbar": {
             "outlinewidth": 0,
             "ticks": ""
            },
            "type": "choropleth"
           }
          ],
          "contour": [
           {
            "colorbar": {
             "outlinewidth": 0,
             "ticks": ""
            },
            "colorscale": [
             [
              0,
              "#0d0887"
             ],
             [
              0.1111111111111111,
              "#46039f"
             ],
             [
              0.2222222222222222,
              "#7201a8"
             ],
             [
              0.3333333333333333,
              "#9c179e"
             ],
             [
              0.4444444444444444,
              "#bd3786"
             ],
             [
              0.5555555555555556,
              "#d8576b"
             ],
             [
              0.6666666666666666,
              "#ed7953"
             ],
             [
              0.7777777777777778,
              "#fb9f3a"
             ],
             [
              0.8888888888888888,
              "#fdca26"
             ],
             [
              1,
              "#f0f921"
             ]
            ],
            "type": "contour"
           }
          ],
          "contourcarpet": [
           {
            "colorbar": {
             "outlinewidth": 0,
             "ticks": ""
            },
            "type": "contourcarpet"
           }
          ],
          "heatmap": [
           {
            "colorbar": {
             "outlinewidth": 0,
             "ticks": ""
            },
            "colorscale": [
             [
              0,
              "#0d0887"
             ],
             [
              0.1111111111111111,
              "#46039f"
             ],
             [
              0.2222222222222222,
              "#7201a8"
             ],
             [
              0.3333333333333333,
              "#9c179e"
             ],
             [
              0.4444444444444444,
              "#bd3786"
             ],
             [
              0.5555555555555556,
              "#d8576b"
             ],
             [
              0.6666666666666666,
              "#ed7953"
             ],
             [
              0.7777777777777778,
              "#fb9f3a"
             ],
             [
              0.8888888888888888,
              "#fdca26"
             ],
             [
              1,
              "#f0f921"
             ]
            ],
            "type": "heatmap"
           }
          ],
          "heatmapgl": [
           {
            "colorbar": {
             "outlinewidth": 0,
             "ticks": ""
            },
            "colorscale": [
             [
              0,
              "#0d0887"
             ],
             [
              0.1111111111111111,
              "#46039f"
             ],
             [
              0.2222222222222222,
              "#7201a8"
             ],
             [
              0.3333333333333333,
              "#9c179e"
             ],
             [
              0.4444444444444444,
              "#bd3786"
             ],
             [
              0.5555555555555556,
              "#d8576b"
             ],
             [
              0.6666666666666666,
              "#ed7953"
             ],
             [
              0.7777777777777778,
              "#fb9f3a"
             ],
             [
              0.8888888888888888,
              "#fdca26"
             ],
             [
              1,
              "#f0f921"
             ]
            ],
            "type": "heatmapgl"
           }
          ],
          "histogram": [
           {
            "marker": {
             "pattern": {
              "fillmode": "overlay",
              "size": 10,
              "solidity": 0.2
             }
            },
            "type": "histogram"
           }
          ],
          "histogram2d": [
           {
            "colorbar": {
             "outlinewidth": 0,
             "ticks": ""
            },
            "colorscale": [
             [
              0,
              "#0d0887"
             ],
             [
              0.1111111111111111,
              "#46039f"
             ],
             [
              0.2222222222222222,
              "#7201a8"
             ],
             [
              0.3333333333333333,
              "#9c179e"
             ],
             [
              0.4444444444444444,
              "#bd3786"
             ],
             [
              0.5555555555555556,
              "#d8576b"
             ],
             [
              0.6666666666666666,
              "#ed7953"
             ],
             [
              0.7777777777777778,
              "#fb9f3a"
             ],
             [
              0.8888888888888888,
              "#fdca26"
             ],
             [
              1,
              "#f0f921"
             ]
            ],
            "type": "histogram2d"
           }
          ],
          "histogram2dcontour": [
           {
            "colorbar": {
             "outlinewidth": 0,
             "ticks": ""
            },
            "colorscale": [
             [
              0,
              "#0d0887"
             ],
             [
              0.1111111111111111,
              "#46039f"
             ],
             [
              0.2222222222222222,
              "#7201a8"
             ],
             [
              0.3333333333333333,
              "#9c179e"
             ],
             [
              0.4444444444444444,
              "#bd3786"
             ],
             [
              0.5555555555555556,
              "#d8576b"
             ],
             [
              0.6666666666666666,
              "#ed7953"
             ],
             [
              0.7777777777777778,
              "#fb9f3a"
             ],
             [
              0.8888888888888888,
              "#fdca26"
             ],
             [
              1,
              "#f0f921"
             ]
            ],
            "type": "histogram2dcontour"
           }
          ],
          "mesh3d": [
           {
            "colorbar": {
             "outlinewidth": 0,
             "ticks": ""
            },
            "type": "mesh3d"
           }
          ],
          "parcoords": [
           {
            "line": {
             "colorbar": {
              "outlinewidth": 0,
              "ticks": ""
             }
            },
            "type": "parcoords"
           }
          ],
          "pie": [
           {
            "automargin": true,
            "type": "pie"
           }
          ],
          "scatter": [
           {
            "marker": {
             "colorbar": {
              "outlinewidth": 0,
              "ticks": ""
             }
            },
            "type": "scatter"
           }
          ],
          "scatter3d": [
           {
            "line": {
             "colorbar": {
              "outlinewidth": 0,
              "ticks": ""
             }
            },
            "marker": {
             "colorbar": {
              "outlinewidth": 0,
              "ticks": ""
             }
            },
            "type": "scatter3d"
           }
          ],
          "scattercarpet": [
           {
            "marker": {
             "colorbar": {
              "outlinewidth": 0,
              "ticks": ""
             }
            },
            "type": "scattercarpet"
           }
          ],
          "scattergeo": [
           {
            "marker": {
             "colorbar": {
              "outlinewidth": 0,
              "ticks": ""
             }
            },
            "type": "scattergeo"
           }
          ],
          "scattergl": [
           {
            "marker": {
             "colorbar": {
              "outlinewidth": 0,
              "ticks": ""
             }
            },
            "type": "scattergl"
           }
          ],
          "scattermapbox": [
           {
            "marker": {
             "colorbar": {
              "outlinewidth": 0,
              "ticks": ""
             }
            },
            "type": "scattermapbox"
           }
          ],
          "scatterpolar": [
           {
            "marker": {
             "colorbar": {
              "outlinewidth": 0,
              "ticks": ""
             }
            },
            "type": "scatterpolar"
           }
          ],
          "scatterpolargl": [
           {
            "marker": {
             "colorbar": {
              "outlinewidth": 0,
              "ticks": ""
             }
            },
            "type": "scatterpolargl"
           }
          ],
          "scatterternary": [
           {
            "marker": {
             "colorbar": {
              "outlinewidth": 0,
              "ticks": ""
             }
            },
            "type": "scatterternary"
           }
          ],
          "surface": [
           {
            "colorbar": {
             "outlinewidth": 0,
             "ticks": ""
            },
            "colorscale": [
             [
              0,
              "#0d0887"
             ],
             [
              0.1111111111111111,
              "#46039f"
             ],
             [
              0.2222222222222222,
              "#7201a8"
             ],
             [
              0.3333333333333333,
              "#9c179e"
             ],
             [
              0.4444444444444444,
              "#bd3786"
             ],
             [
              0.5555555555555556,
              "#d8576b"
             ],
             [
              0.6666666666666666,
              "#ed7953"
             ],
             [
              0.7777777777777778,
              "#fb9f3a"
             ],
             [
              0.8888888888888888,
              "#fdca26"
             ],
             [
              1,
              "#f0f921"
             ]
            ],
            "type": "surface"
           }
          ],
          "table": [
           {
            "cells": {
             "fill": {
              "color": "#EBF0F8"
             },
             "line": {
              "color": "white"
             }
            },
            "header": {
             "fill": {
              "color": "#C8D4E3"
             },
             "line": {
              "color": "white"
             }
            },
            "type": "table"
           }
          ]
         },
         "layout": {
          "annotationdefaults": {
           "arrowcolor": "#2a3f5f",
           "arrowhead": 0,
           "arrowwidth": 1
          },
          "autotypenumbers": "strict",
          "coloraxis": {
           "colorbar": {
            "outlinewidth": 0,
            "ticks": ""
           }
          },
          "colorscale": {
           "diverging": [
            [
             0,
             "#8e0152"
            ],
            [
             0.1,
             "#c51b7d"
            ],
            [
             0.2,
             "#de77ae"
            ],
            [
             0.3,
             "#f1b6da"
            ],
            [
             0.4,
             "#fde0ef"
            ],
            [
             0.5,
             "#f7f7f7"
            ],
            [
             0.6,
             "#e6f5d0"
            ],
            [
             0.7,
             "#b8e186"
            ],
            [
             0.8,
             "#7fbc41"
            ],
            [
             0.9,
             "#4d9221"
            ],
            [
             1,
             "#276419"
            ]
           ],
           "sequential": [
            [
             0,
             "#0d0887"
            ],
            [
             0.1111111111111111,
             "#46039f"
            ],
            [
             0.2222222222222222,
             "#7201a8"
            ],
            [
             0.3333333333333333,
             "#9c179e"
            ],
            [
             0.4444444444444444,
             "#bd3786"
            ],
            [
             0.5555555555555556,
             "#d8576b"
            ],
            [
             0.6666666666666666,
             "#ed7953"
            ],
            [
             0.7777777777777778,
             "#fb9f3a"
            ],
            [
             0.8888888888888888,
             "#fdca26"
            ],
            [
             1,
             "#f0f921"
            ]
           ],
           "sequentialminus": [
            [
             0,
             "#0d0887"
            ],
            [
             0.1111111111111111,
             "#46039f"
            ],
            [
             0.2222222222222222,
             "#7201a8"
            ],
            [
             0.3333333333333333,
             "#9c179e"
            ],
            [
             0.4444444444444444,
             "#bd3786"
            ],
            [
             0.5555555555555556,
             "#d8576b"
            ],
            [
             0.6666666666666666,
             "#ed7953"
            ],
            [
             0.7777777777777778,
             "#fb9f3a"
            ],
            [
             0.8888888888888888,
             "#fdca26"
            ],
            [
             1,
             "#f0f921"
            ]
           ]
          },
          "colorway": [
           "#636efa",
           "#EF553B",
           "#00cc96",
           "#ab63fa",
           "#FFA15A",
           "#19d3f3",
           "#FF6692",
           "#B6E880",
           "#FF97FF",
           "#FECB52"
          ],
          "font": {
           "color": "#2a3f5f"
          },
          "geo": {
           "bgcolor": "white",
           "lakecolor": "white",
           "landcolor": "#E5ECF6",
           "showlakes": true,
           "showland": true,
           "subunitcolor": "white"
          },
          "hoverlabel": {
           "align": "left"
          },
          "hovermode": "closest",
          "mapbox": {
           "style": "light"
          },
          "paper_bgcolor": "white",
          "plot_bgcolor": "#E5ECF6",
          "polar": {
           "angularaxis": {
            "gridcolor": "white",
            "linecolor": "white",
            "ticks": ""
           },
           "bgcolor": "#E5ECF6",
           "radialaxis": {
            "gridcolor": "white",
            "linecolor": "white",
            "ticks": ""
           }
          },
          "scene": {
           "xaxis": {
            "backgroundcolor": "#E5ECF6",
            "gridcolor": "white",
            "gridwidth": 2,
            "linecolor": "white",
            "showbackground": true,
            "ticks": "",
            "zerolinecolor": "white"
           },
           "yaxis": {
            "backgroundcolor": "#E5ECF6",
            "gridcolor": "white",
            "gridwidth": 2,
            "linecolor": "white",
            "showbackground": true,
            "ticks": "",
            "zerolinecolor": "white"
           },
           "zaxis": {
            "backgroundcolor": "#E5ECF6",
            "gridcolor": "white",
            "gridwidth": 2,
            "linecolor": "white",
            "showbackground": true,
            "ticks": "",
            "zerolinecolor": "white"
           }
          },
          "shapedefaults": {
           "line": {
            "color": "#2a3f5f"
           }
          },
          "ternary": {
           "aaxis": {
            "gridcolor": "white",
            "linecolor": "white",
            "ticks": ""
           },
           "baxis": {
            "gridcolor": "white",
            "linecolor": "white",
            "ticks": ""
           },
           "bgcolor": "#E5ECF6",
           "caxis": {
            "gridcolor": "white",
            "linecolor": "white",
            "ticks": ""
           }
          },
          "title": {
           "x": 0.05
          },
          "xaxis": {
           "automargin": true,
           "gridcolor": "white",
           "linecolor": "white",
           "ticks": "",
           "title": {
            "standoff": 15
           },
           "zerolinecolor": "white",
           "zerolinewidth": 2
          },
          "yaxis": {
           "automargin": true,
           "gridcolor": "white",
           "linecolor": "white",
           "ticks": "",
           "title": {
            "standoff": 15
           },
           "zerolinecolor": "white",
           "zerolinewidth": 2
          }
         }
        },
        "xaxis": {
         "anchor": "y",
         "autorange": true,
         "domain": [
          0,
          1
         ],
         "range": [
          8.765975336322871,
          62.73402466367713
         ],
         "title": {
          "text": "Tertiary Educational Attainment %"
         },
         "type": "linear"
        },
        "yaxis": {
         "anchor": "x",
         "autorange": true,
         "domain": [
          0,
          1
         ],
         "range": [
          -797.1563981042655,
          108397.15639810427
         ],
         "title": {
          "text": "GDP per Capita"
         },
         "type": "linear"
        }
       }
      },
      "image/png": "[encoded data removed]",
      "text/html": [
       "<div>                            <div id=\"fedc132f-57b6-4b46-a48f-5bad76be9d88\" class=\"plotly-graph-div\" style=\"height:500px; width:100%;\"></div>            <script type=\"text/javascript\">                require([\"plotly\"], function(Plotly) {                    window.PLOTLYENV=window.PLOTLYENV || {};                                    if (document.getElementById(\"fedc132f-57b6-4b46-a48f-5bad76be9d88\")) {                    Plotly.newPlot(                        \"fedc132f-57b6-4b46-a48f-5bad76be9d88\",                        [{\"hovertemplate\":\"Tertiary Educational Attainment %=%{x}<br>GDP per Capita=%{y}<extra></extra>\",\"legendgroup\":\"\",\"marker\":{\"color\":\"#636efa\",\"symbol\":\"circle\"},\"mode\":\"markers\",\"name\":\"\",\"orientation\":\"v\",\"showlegend\":false,\"type\":\"scatter\",\"x\":[21.2,21.4,24.4,39.0,32.5,36.0,39.7,25.5,31.2,24.4,41.0,17.6,32.6,42.9,35.0,29.2,45.6,32.0,30.8,38.1,40.5,49.8,33.1,16.0,16.3,34.4,42.5,39.0,30.8,42.3,31.9,26.2,17.1,24.8,27.0,25.7,34.3,48.4,50.2,38.0,39.3,32.7,25.9,36.1,34.6,32.1,21.6,18.5,28.9,53.9,40.1,23.3,43.5,26.7,35.0,33.8,33.6,34.3,21.4,40.3,38.1,30.0,null,40.6,23.3,18.7,36.7,28.3,31.8,54.9,53.1,54.3,34.8,26.4,27.7,19.8,34.5,28.1,27.3,26.6,32.1,32.2,22.1,38.5,22.9,41.0,37.8,27.0,37.0,21.8,34.6,33.8,21.7,32.5,33.4,27.9,47.1,45.9,26.9,30.6,21.2,27.1,null,26.5,33.8,27.3,37.0,43.3,38.9,33.8,18.5,21.1,26.6,24.4,33.0,41.1,49.9,11.8,32.1,20.1,32.0,35.3,24.9,46.4,25.0,41.8,27.7,29.7,31.1,27.6,37.7,null,35.9,53.4,30.7,32.6,19.8,29.6,31.4,42.0,33.4,34.9,45.9,44.2,41.0,59.7,32.4,37.7,39.7,42.5,40.8,44.1,51.4,38.7,40.0,17.6,22.4,15.3,22.9,15.8,32.8,32.7,43.2,49.3,26.3,22.6,32.5,17.7,26.9,32.4,20.5,13.7,14.9,null,30.4,37.2,58.6,45.6,31.1,53.7,23.7,34.7,22.3,24.2,13.1,13.1,16.7,33.5,45.4,29.1,31.9,21.1,31.6,32.2,23.1,31.3,55.7,18.9,19.8,17.0,37.8,29.2,30.8,43.4,26.6,23.6,57.2,25.0,29.3,42.7,29.6,41.6,31.8,44.2,22.4,38.0,41.6,19.2,16.8,42.8,40.0,30.2,30.7,31.9,31.6,29.3,25.0,26.6,30.3,23.7,32.2,28.0,44.9,22.5,23.9,25.2,26.5,20.7,23.3,43.4,22.9,21.9],\"xaxis\":\"x\",\"y\":[24000.0,17700.0,19900.0,31000.0,17700.0,29600.0,26500.0,35100.0,27000.0,10900.0,20900.0,21200.0,26400.0,42300.0,27900.0,29700.0,38900.0,47400.0,46900.0,29400.0,26000.0,29000.0,30200.0,16500.0,18100.0,17400.0,22100.0,23200.0,19400.0,27800.0,27800.0,17300.0,10600.0,27800.0,29100.0,19500.0,17900.0,29300.0,32000.0,20800.0,25500.0,50700.0,38300.0,15100.0,31500.0,31800.0,10300.0,9700.0,41700.0,75700.0,20200.0,33600.0,37900.0,18300.0,34300.0,25500.0,38100.0,32300.0,30600.0,21900.0,39200.0,34400.0,23400.0,39700.0,22600.0,15000.0,64400.0,39300.0,27600.0,55000.0,69700.0,57400.0,22000.0,11500.0,18700.0,17000.0,44000.0,36300.0,33700.0,11100.0,36900.0,43200.0,12700.0,25700.0,22100.0,25600.0,15500.0,32400.0,33300.0,30300.0,40500.0,24800.0,36500.0,24300.0,9300.0,11100.0,101800.0,37900.0,28600.0,25300.0,26300.0,24600.0,9700.0,11600.0,12500.0,28900.0,38600.0,30400.0,49200.0,44800.0,20500.0,15700.0,34100.0,38900.0,35300.0,47000.0,59300.0,7200.0,27900.0,10600.0,44600.0,36400.0,16900.0,30100.0,13300.0,58000.0,38300.0,41700.0,43700.0,10700.0,39300.0,7900.0,30100.0,30400.0,11200.0,24700.0,29400.0,9400.0,10000.0,35900.0,27400.0,13000.0,43700.0,21100.0,47000.0,54400.0,24500.0,31800.0,27800.0,23900.0,26400.0,35800.0,42800.0,37900.0,31500.0,44400.0,36900.0,18200.0,17600.0,17100.0,19800.0,37200.0,34300.0,68400.0,34500.0,29000.0,49900.0,20200.0,33800.0,39300.0,16800.0,13600.0,17200.0,10000.0,37600.0,38200.0,25600.0,97500.0,39000.0,64400.0,13400.0,51900.0,16500.0,18000.0,9100.0,8600.0,8900.0,47400.0,40000.0,29300.0,44100.0,30100.0,30500.0,43300.0,24700.0,40300.0,58100.0,36300.0,31200.0,11700.0,14400.0,45700.0,18500.0,43800.0,12000.0,9600.0,30000.0,35800.0,14900.0,50400.0,11400.0,26500.0,36400.0,45000.0,15600.0,24900.0,38900.0,9200.0,9500.0,38600.0,45600.0,13200.0,13500.0,9800.0,11200.0,10100.0,11400.0,12600.0,12200.0,13800.0,12100.0,12800.0,24200.0,15600.0,13400.0,15100.0,6000.0,5800.0,6700.0,14800.0,6200.0,6400.0],\"yaxis\":\"y\"},{\"hovertemplate\":\"<b>OLS trendline</b><br>GDP per Capita = 874.071 * Tertiary Educational Attainment % + 547.209<br>R<sup>2</sup>=0.314748<br><br>Tertiary Educational Attainment %=%{x}<br>GDP per Capita=%{y} <b>(trend)</b><extra></extra>\",\"legendgroup\":\"\",\"marker\":{\"color\":\"#636efa\",\"symbol\":\"circle\"},\"mode\":\"lines\",\"name\":\"\",\"showlegend\":false,\"type\":\"scatter\",\"x\":[11.8,13.1,13.1,13.7,14.9,15.3,15.8,16.0,16.3,16.7,16.8,17.0,17.1,17.6,17.6,17.7,18.5,18.5,18.7,18.9,19.2,19.8,19.8,19.8,20.1,20.5,20.7,21.1,21.1,21.2,21.2,21.4,21.4,21.6,21.7,21.8,21.9,22.1,22.3,22.4,22.4,22.5,22.6,22.9,22.9,22.9,23.1,23.3,23.3,23.3,23.6,23.7,23.7,23.9,24.2,24.4,24.4,24.4,24.8,24.9,25.0,25.0,25.0,25.2,25.5,25.7,25.9,26.2,26.3,26.4,26.5,26.5,26.6,26.6,26.6,26.6,26.7,26.9,26.9,27.0,27.0,27.1,27.3,27.3,27.6,27.7,27.7,27.9,28.0,28.1,28.3,28.9,29.1,29.2,29.2,29.3,29.3,29.6,29.6,29.7,30.0,30.2,30.3,30.4,30.6,30.7,30.7,30.8,30.8,30.8,31.1,31.1,31.2,31.3,31.4,31.6,31.6,31.8,31.8,31.9,31.9,31.9,32.0,32.0,32.1,32.1,32.1,32.2,32.2,32.2,32.4,32.4,32.5,32.5,32.5,32.6,32.6,32.7,32.7,32.8,33.0,33.1,33.4,33.4,33.5,33.6,33.8,33.8,33.8,33.8,34.3,34.3,34.4,34.5,34.6,34.6,34.7,34.8,34.9,35.0,35.0,35.3,35.9,36.0,36.1,36.7,37.0,37.0,37.2,37.7,37.7,37.8,37.8,38.0,38.0,38.1,38.1,38.5,38.7,38.9,39.0,39.0,39.3,39.7,39.7,40.0,40.0,40.1,40.3,40.5,40.6,40.8,41.0,41.0,41.0,41.1,41.6,41.6,41.8,42.0,42.3,42.5,42.5,42.7,42.8,42.9,43.2,43.3,43.4,43.4,43.5,44.1,44.2,44.2,44.9,45.4,45.6,45.6,45.9,45.9,46.4,47.1,48.4,49.3,49.8,49.9,50.2,51.4,53.1,53.4,53.7,53.9,54.3,54.9,55.7,57.2,58.6,59.7],\"xaxis\":\"x\",\"y\":[10861.24131920853,11997.533061465634,11997.533061465634,12521.975404045836,13570.860089206242,13920.488317593043,14357.523603076546,14532.337717269946,14794.558888560048,15144.187116946849,15231.59417404355,15406.40828823695,15493.81534533365,15930.850630817153,15930.850630817153,16018.257687913852,16717.514144687455,16717.514144687455,16892.328258880854,17067.142373074254,17329.363544364354,17853.80588694456,17853.80588694456,17853.80588694456,18116.02705823466,18465.655286621462,18640.46940081486,18990.097629201664,18990.097629201664,19077.504686298365,19077.504686298365,19252.318800491765,19252.318800491765,19427.132914685168,19514.539971781865,19601.947028878567,19689.354085975265,19864.168200168668,20038.98231436207,20126.38937145877,20126.38937145877,20213.79642855547,20301.20348565217,20563.42465694227,20563.42465694227,20563.42465694227,20738.23877113567,20913.052885329074,20913.052885329074,20913.052885329074,21175.274056619175,21262.681113715873,21262.681113715873,21437.495227909272,21699.716399199377,21874.530513392776,21874.530513392776,21874.530513392776,22224.158741779578,22311.56579887628,22398.97285597298,22398.97285597298,22398.97285597298,22573.78697016638,22836.00814145648,23010.82225564988,23185.636369843283,23447.857541133384,23535.264598230086,23622.671655326783,23710.078712423485,23710.078712423485,23797.485769520186,23797.485769520186,23797.485769520186,23797.485769520186,23884.892826616884,24059.706940810287,24059.706940810287,24147.11399790699,24147.11399790699,24234.52105500369,24409.33516919709,24409.33516919709,24671.55634048719,24758.963397583888,24758.963397583888,24933.77751177729,25021.184568873992,25108.591625970694,25283.405740164093,25807.848082744295,25982.662196937697,26070.069254034395,26070.069254034395,26157.476311131097,26157.476311131097,26419.697482421197,26419.697482421197,26507.1045395179,26769.325710808,26944.1398250014,27031.5468820981,27118.9539391948,27293.7680533882,27381.175110484903,27381.175110484903,27468.582167581604,27468.582167581604,27468.582167581604,27730.803338871705,27730.803338871705,27818.210395968403,27905.617453065104,27993.024510161802,28167.83862435521,28167.83862435521,28342.652738548608,28342.652738548608,28430.059795645306,28430.059795645306,28430.059795645306,28517.466852742007,28517.466852742007,28604.87390983871,28604.87390983871,28604.87390983871,28692.28096693541,28692.28096693541,28692.28096693541,28867.095081128806,28867.095081128806,28954.50213822551,28954.50213822551,28954.50213822551,29041.909195322212,29041.909195322212,29129.316252418914,29129.316252418914,29216.723309515608,29391.53742370901,29478.944480805712,29741.165652095813,29741.165652095813,29828.572709192515,29915.979766289216,30090.79388048261,30090.79388048261,30090.79388048261,30090.79388048261,30527.829165966115,30527.829165966115,30615.236223062817,30702.64328015952,30790.05033725622,30790.05033725622,30877.45739435292,30964.864451449615,31052.271508546317,31139.67856564302,31139.67856564302,31401.89973693312,31926.34207951332,32013.749136610022,32101.156193706724,32625.59853628693,32887.81970757703,32887.81970757703,33062.63382177043,33499.66910725393,33499.66910725393,33587.07616435063,33587.07616435063,33761.89027854403,33761.89027854403,33849.29733564073,33849.29733564073,34198.92556402753,34373.73967822094,34548.553792414335,34635.96084951104,34635.96084951104,34898.182020801134,35247.81024918794,35247.81024918794,35510.03142047804,35510.03142047804,35597.43847757474,35772.252591768134,35947.066705961544,36034.473763058246,36209.28787725164,36384.101991445044,36384.101991445044,36384.101991445044,36471.509048541746,36908.544334025246,36908.544334025246,37083.35844821864,37258.172562412044,37520.39373370215,37695.20784789555,37695.20784789555,37870.021962088955,37957.42901918565,38044.83607628235,38307.057247572455,38394.46430466915,38481.87136176585,38481.87136176585,38569.27841886255,39093.72076144275,39181.127818539455,39181.127818539455,39792.97721821636,40230.01250369986,40404.82661789326,40404.82661789326,40667.04778918336,40667.04778918336,41104.083074666865,41715.93247434377,42852.22421660087,43638.88773047117,44075.92301595468,44163.33007305138,44425.551244341485,45474.43592950188,46960.35590014579,47222.57707143589,47484.79824272599,47659.612356919395,48009.240585306194,48533.682927886395,49232.93938466001,50544.04524111051,51767.74404046431,52729.22166852802],\"yaxis\":\"y\"}],                        {\"height\":500,\"legend\":{\"tracegroupgap\":0},\"margin\":{\"t\":60},\"template\":{\"data\":{\"bar\":[{\"error_x\":{\"color\":\"#2a3f5f\"},\"error_y\":{\"color\":\"#2a3f5f\"},\"marker\":{\"line\":{\"color\":\"#E5ECF6\",\"width\":0.5},\"pattern\":{\"fillmode\":\"overlay\",\"size\":10,\"solidity\":0.2}},\"type\":\"bar\"}],\"barpolar\":[{\"marker\":{\"line\":{\"color\":\"#E5ECF6\",\"width\":0.5},\"pattern\":{\"fillmode\":\"overlay\",\"size\":10,\"solidity\":0.2}},\"type\":\"barpolar\"}],\"carpet\":[{\"aaxis\":{\"endlinecolor\":\"#2a3f5f\",\"gridcolor\":\"white\",\"linecolor\":\"white\",\"minorgridcolor\":\"white\",\"startlinecolor\":\"#2a3f5f\"},\"baxis\":{\"endlinecolor\":\"#2a3f5f\",\"gridcolor\":\"white\",\"linecolor\":\"white\",\"minorgridcolor\":\"white\",\"startlinecolor\":\"#2a3f5f\"},\"type\":\"carpet\"}],\"choropleth\":[{\"colorbar\":{\"outlinewidth\":0,\"ticks\":\"\"},\"type\":\"choropleth\"}],\"contour\":[{\"colorbar\":{\"outlinewidth\":0,\"ticks\":\"\"},\"colorscale\":[[0.0,\"#0d0887\"],[0.1111111111111111,\"#46039f\"],[0.2222222222222222,\"#7201a8\"],[0.3333333333333333,\"#9c179e\"],[0.4444444444444444,\"#bd3786\"],[0.5555555555555556,\"#d8576b\"],[0.6666666666666666,\"#ed7953\"],[0.7777777777777778,\"#fb9f3a\"],[0.8888888888888888,\"#fdca26\"],[1.0,\"#f0f921\"]],\"type\":\"contour\"}],\"contourcarpet\":[{\"colorbar\":{\"outlinewidth\":0,\"ticks\":\"\"},\"type\":\"contourcarpet\"}],\"heatmap\":[{\"colorbar\":{\"outlinewidth\":0,\"ticks\":\"\"},\"colorscale\":[[0.0,\"#0d0887\"],[0.1111111111111111,\"#46039f\"],[0.2222222222222222,\"#7201a8\"],[0.3333333333333333,\"#9c179e\"],[0.4444444444444444,\"#bd3786\"],[0.5555555555555556,\"#d8576b\"],[0.6666666666666666,\"#ed7953\"],[0.7777777777777778,\"#fb9f3a\"],[0.8888888888888888,\"#fdca26\"],[1.0,\"#f0f921\"]],\"type\":\"heatmap\"}],\"heatmapgl\":[{\"colorbar\":{\"outlinewidth\":0,\"ticks\":\"\"},\"colorscale\":[[0.0,\"#0d0887\"],[0.1111111111111111,\"#46039f\"],[0.2222222222222222,\"#7201a8\"],[0.3333333333333333,\"#9c179e\"],[0.4444444444444444,\"#bd3786\"],[0.5555555555555556,\"#d8576b\"],[0.6666666666666666,\"#ed7953\"],[0.7777777777777778,\"#fb9f3a\"],[0.8888888888888888,\"#fdca26\"],[1.0,\"#f0f921\"]],\"type\":\"heatmapgl\"}],\"histogram\":[{\"marker\":{\"pattern\":{\"fillmode\":\"overlay\",\"size\":10,\"solidity\":0.2}},\"type\":\"histogram\"}],\"histogram2d\":[{\"colorbar\":{\"outlinewidth\":0,\"ticks\":\"\"},\"colorscale\":[[0.0,\"#0d0887\"],[0.1111111111111111,\"#46039f\"],[0.2222222222222222,\"#7201a8\"],[0.3333333333333333,\"#9c179e\"],[0.4444444444444444,\"#bd3786\"],[0.5555555555555556,\"#d8576b\"],[0.6666666666666666,\"#ed7953\"],[0.7777777777777778,\"#fb9f3a\"],[0.8888888888888888,\"#fdca26\"],[1.0,\"#f0f921\"]],\"type\":\"histogram2d\"}],\"histogram2dcontour\":[{\"colorbar\":{\"outlinewidth\":0,\"ticks\":\"\"},\"colorscale\":[[0.0,\"#0d0887\"],[0.1111111111111111,\"#46039f\"],[0.2222222222222222,\"#7201a8\"],[0.3333333333333333,\"#9c179e\"],[0.4444444444444444,\"#bd3786\"],[0.5555555555555556,\"#d8576b\"],[0.6666666666666666,\"#ed7953\"],[0.7777777777777778,\"#fb9f3a\"],[0.8888888888888888,\"#fdca26\"],[1.0,\"#f0f921\"]],\"type\":\"histogram2dcontour\"}],\"mesh3d\":[{\"colorbar\":{\"outlinewidth\":0,\"ticks\":\"\"},\"type\":\"mesh3d\"}],\"parcoords\":[{\"line\":{\"colorbar\":{\"outlinewidth\":0,\"ticks\":\"\"}},\"type\":\"parcoords\"}],\"pie\":[{\"automargin\":true,\"type\":\"pie\"}],\"scatter\":[{\"marker\":{\"colorbar\":{\"outlinewidth\":0,\"ticks\":\"\"}},\"type\":\"scatter\"}],\"scatter3d\":[{\"line\":{\"colorbar\":{\"outlinewidth\":0,\"ticks\":\"\"}},\"marker\":{\"colorbar\":{\"outlinewidth\":0,\"ticks\":\"\"}},\"type\":\"scatter3d\"}],\"scattercarpet\":[{\"marker\":{\"colorbar\":{\"outlinewidth\":0,\"ticks\":\"\"}},\"type\":\"scattercarpet\"}],\"scattergeo\":[{\"marker\":{\"colorbar\":{\"outlinewidth\":0,\"ticks\":\"\"}},\"type\":\"scattergeo\"}],\"scattergl\":[{\"marker\":{\"colorbar\":{\"outlinewidth\":0,\"ticks\":\"\"}},\"type\":\"scattergl\"}],\"scattermapbox\":[{\"marker\":{\"colorbar\":{\"outlinewidth\":0,\"ticks\":\"\"}},\"type\":\"scattermapbox\"}],\"scatterpolar\":[{\"marker\":{\"colorbar\":{\"outlinewidth\":0,\"ticks\":\"\"}},\"type\":\"scatterpolar\"}],\"scatterpolargl\":[{\"marker\":{\"colorbar\":{\"outlinewidth\":0,\"ticks\":\"\"}},\"type\":\"scatterpolargl\"}],\"scatterternary\":[{\"marker\":{\"colorbar\":{\"outlinewidth\":0,\"ticks\":\"\"}},\"type\":\"scatterternary\"}],\"surface\":[{\"colorbar\":{\"outlinewidth\":0,\"ticks\":\"\"},\"colorscale\":[[0.0,\"#0d0887\"],[0.1111111111111111,\"#46039f\"],[0.2222222222222222,\"#7201a8\"],[0.3333333333333333,\"#9c179e\"],[0.4444444444444444,\"#bd3786\"],[0.5555555555555556,\"#d8576b\"],[0.6666666666666666,\"#ed7953\"],[0.7777777777777778,\"#fb9f3a\"],[0.8888888888888888,\"#fdca26\"],[1.0,\"#f0f921\"]],\"type\":\"surface\"}],\"table\":[{\"cells\":{\"fill\":{\"color\":\"#EBF0F8\"},\"line\":{\"color\":\"white\"}},\"header\":{\"fill\":{\"color\":\"#C8D4E3\"},\"line\":{\"color\":\"white\"}},\"type\":\"table\"}]},\"layout\":{\"annotationdefaults\":{\"arrowcolor\":\"#2a3f5f\",\"arrowhead\":0,\"arrowwidth\":1},\"autotypenumbers\":\"strict\",\"coloraxis\":{\"colorbar\":{\"outlinewidth\":0,\"ticks\":\"\"}},\"colorscale\":{\"diverging\":[[0,\"#8e0152\"],[0.1,\"#c51b7d\"],[0.2,\"#de77ae\"],[0.3,\"#f1b6da\"],[0.4,\"#fde0ef\"],[0.5,\"#f7f7f7\"],[0.6,\"#e6f5d0\"],[0.7,\"#b8e186\"],[0.8,\"#7fbc41\"],[0.9,\"#4d9221\"],[1,\"#276419\"]],\"sequential\":[[0.0,\"#0d0887\"],[0.1111111111111111,\"#46039f\"],[0.2222222222222222,\"#7201a8\"],[0.3333333333333333,\"#9c179e\"],[0.4444444444444444,\"#bd3786\"],[0.5555555555555556,\"#d8576b\"],[0.6666666666666666,\"#ed7953\"],[0.7777777777777778,\"#fb9f3a\"],[0.8888888888888888,\"#fdca26\"],[1.0,\"#f0f921\"]],\"sequentialminus\":[[0.0,\"#0d0887\"],[0.1111111111111111,\"#46039f\"],[0.2222222222222222,\"#7201a8\"],[0.3333333333333333,\"#9c179e\"],[0.4444444444444444,\"#bd3786\"],[0.5555555555555556,\"#d8576b\"],[0.6666666666666666,\"#ed7953\"],[0.7777777777777778,\"#fb9f3a\"],[0.8888888888888888,\"#fdca26\"],[1.0,\"#f0f921\"]]},\"colorway\":[\"#636efa\",\"#EF553B\",\"#00cc96\",\"#ab63fa\",\"#FFA15A\",\"#19d3f3\",\"#FF6692\",\"#B6E880\",\"#FF97FF\",\"#FECB52\"],\"font\":{\"color\":\"#2a3f5f\"},\"geo\":{\"bgcolor\":\"white\",\"lakecolor\":\"white\",\"landcolor\":\"#E5ECF6\",\"showlakes\":true,\"showland\":true,\"subunitcolor\":\"white\"},\"hoverlabel\":{\"align\":\"left\"},\"hovermode\":\"closest\",\"mapbox\":{\"style\":\"light\"},\"paper_bgcolor\":\"white\",\"plot_bgcolor\":\"#E5ECF6\",\"polar\":{\"angularaxis\":{\"gridcolor\":\"white\",\"linecolor\":\"white\",\"ticks\":\"\"},\"bgcolor\":\"#E5ECF6\",\"radialaxis\":{\"gridcolor\":\"white\",\"linecolor\":\"white\",\"ticks\":\"\"}},\"scene\":{\"xaxis\":{\"backgroundcolor\":\"#E5ECF6\",\"gridcolor\":\"white\",\"gridwidth\":2,\"linecolor\":\"white\",\"showbackground\":true,\"ticks\":\"\",\"zerolinecolor\":\"white\"},\"yaxis\":{\"backgroundcolor\":\"#E5ECF6\",\"gridcolor\":\"white\",\"gridwidth\":2,\"linecolor\":\"white\",\"showbackground\":true,\"ticks\":\"\",\"zerolinecolor\":\"white\"},\"zaxis\":{\"backgroundcolor\":\"#E5ECF6\",\"gridcolor\":\"white\",\"gridwidth\":2,\"linecolor\":\"white\",\"showbackground\":true,\"ticks\":\"\",\"zerolinecolor\":\"white\"}},\"shapedefaults\":{\"line\":{\"color\":\"#2a3f5f\"}},\"ternary\":{\"aaxis\":{\"gridcolor\":\"white\",\"linecolor\":\"white\",\"ticks\":\"\"},\"baxis\":{\"gridcolor\":\"white\",\"linecolor\":\"white\",\"ticks\":\"\"},\"bgcolor\":\"#E5ECF6\",\"caxis\":{\"gridcolor\":\"white\",\"linecolor\":\"white\",\"ticks\":\"\"}},\"title\":{\"x\":0.05},\"xaxis\":{\"automargin\":true,\"gridcolor\":\"white\",\"linecolor\":\"white\",\"ticks\":\"\",\"title\":{\"standoff\":15},\"zerolinecolor\":\"white\",\"zerolinewidth\":2},\"yaxis\":{\"automargin\":true,\"gridcolor\":\"white\",\"linecolor\":\"white\",\"ticks\":\"\",\"title\":{\"standoff\":15},\"zerolinecolor\":\"white\",\"zerolinewidth\":2}}},\"xaxis\":{\"anchor\":\"y\",\"domain\":[0.0,1.0],\"title\":{\"text\":\"Tertiary Educational Attainment %\"}},\"yaxis\":{\"anchor\":\"x\",\"domain\":[0.0,1.0],\"title\":{\"text\":\"GDP per Capita\"}}},                        {\"responsive\": true}                    ).then(function(){\n",
       "                            \n",
       "var gd = document.getElementById('fedc132f-57b6-4b46-a48f-5bad76be9d88');\n",
       "var x = new MutationObserver(function (mutations, observer) {{\n",
       "        var display = window.getComputedStyle(gd).display;\n",
       "        if (!display || display === 'none') {{\n",
       "            console.log([gd, 'removed!']);\n",
       "            Plotly.purge(gd);\n",
       "            observer.disconnect();\n",
       "        }}\n",
       "}});\n",
       "\n",
       "// Listen for the removal of the full notebook cells\n",
       "var notebookContainer = gd.closest('#notebook-container');\n",
       "if (notebookContainer) {{\n",
       "    x.observe(notebookContainer, {childList: true});\n",
       "}}\n",
       "\n",
       "// Listen for the clearing of the current output cell\n",
       "var outputEl = gd.closest('.output');\n",
       "if (outputEl) {{\n",
       "    x.observe(outputEl, {childList: true});\n",
       "}}\n",
       "\n",
       "                        })                };                });            </script>        </div>"
      ]
     },
     "metadata": {},
     "output_type": "display_data"
    }
   ],
   "source": [
    "df.plot(kind = 'scatter', backend = 'plotly',\n",
    "        x = 'Tertiary Educational Attainment %', y = 'GDP per Capita',\n",
    "        trendline = 'ols',\n",
    "        height = 500)"
   ]
  },
  {
   "cell_type": "code",
   "execution_count": 89,
   "id": "42ba4e47-ba91-4899-9286-e3be6a5668e2",
   "metadata": {},
   "outputs": [],
   "source": [
    "cols_num = ['GDP', 'GDP per Capita', 'Unemployment %',\n",
    "            'Life Expectancy', 'Doctors per 100000',\n",
    "            'Fatal Road Accidents per Million',\n",
    "            'Tertiary Educational Attainment %',\n",
    "            'Population Density', 'People at Risk of Poverty %',\n",
    "            'Regular Internet Users %']\n",
    "\n",
    "imputer = KNNImputer()\n",
    "df[cols_num] = imputer.fit_transform(df[cols_num])"
   ]
  },
  {
   "cell_type": "code",
   "execution_count": 96,
   "id": "a2affe8f-b22b-40d0-806e-ac7b130f937c",
   "metadata": {
    "tags": []
   },
   "outputs": [
    {
     "data": {
      "application/vnd.plotly.v1+json": {
       "config": {
        "plotlyServerURL": "https://plot.ly"
       },
       "data": [
        {
         "customdata": [
          [
           "Abruzzo",
           24000
          ],
          [
           "Alentejo",
           17700
          ],
          [
           "Algarve",
           19900
          ],
          [
           "Andalucía",
           17700
          ],
          [
           "Aragón",
           26500
          ],
          [
           "Aνατολική Μακεδονία, Θράκη (Anatoliki Makedonia, Thraki)",
           10900
          ],
          [
           "Aττική (Attiki)",
           20900
          ],
          [
           "Basilicata",
           21200
          ],
          [
           "Calabria",
           16500
          ],
          [
           "Campania",
           18100
          ],
          [
           "Canarias",
           17400
          ],
          [
           "Cantabria",
           22100
          ],
          [
           "Castilla y León",
           23200
          ],
          [
           "Castilla-La Mancha",
           19400
          ],
          [
           "Cataluña",
           27800
          ],
          [
           "Centro (PT)",
           17300
          ],
          [
           "Ciudad de Ceuta",
           19500
          ],
          [
           "Ciudad de Melilla",
           17900
          ],
          [
           "Comunidad Foral de Navarra",
           29300
          ],
          [
           "Comunidad de Madrid",
           32000
          ],
          [
           "Comunitat Valenciana ",
           20800
          ],
          [
           "Emilia-Romagna",
           33600
          ],
          [
           "Extremadura",
           18300
          ],
          [
           "Friuli-Venezia Giulia",
           30600
          ],
          [
           "Galicia",
           21900
          ],
          [
           "Illes Balears",
           22000
          ],
          [
           "La Rioja",
           25700
          ],
          [
           "Lazio",
           32400
          ],
          [
           "Liguria",
           30300
          ],
          [
           "Lombardia",
           36500
          ],
          [
           "Malta",
           25300
          ],
          [
           "Marche",
           26300
          ],
          [
           "Molise",
           20500
          ],
          [
           "Norte",
           16900
          ],
          [
           "País Vasco",
           30400
          ],
          [
           "Piemonte",
           29400
          ],
          [
           "Principado de Asturias",
           21100
          ],
          [
           "Provincia Autonoma di Bolzano/Bozen",
           44400
          ],
          [
           "Provincia Autonoma di Trento",
           36900
          ],
          [
           "Puglia",
           18200
          ],
          [
           "Região Autónoma da Madeira",
           17600
          ],
          [
           "Região Autónoma dos Açores",
           17100
          ],
          [
           "Región de Murcia",
           19800
          ],
          [
           "Sardegna",
           20200
          ],
          [
           "Sicilia",
           17200
          ],
          [
           "Toscana",
           30100
          ],
          [
           "Umbria",
           24700
          ],
          [
           "Valle d’Aosta/Vallée d’Aoste",
           36300
          ],
          [
           "Veneto",
           31200
          ],
          [
           "Área Metropolitana de Lisboa",
           24900
          ],
          [
           "Ήπειρος (Ipeiros)",
           11200
          ],
          [
           "Βόρειο Αιγαίο (Voreio Aigaio)",
           10100
          ],
          [
           "Δυτική Ελλάδα (Dytiki Ellada)",
           11400
          ],
          [
           "Δυτική Μακεδονία (Dytiki Makedonia)",
           12600
          ],
          [
           "Θεσσαλία (Thessalia)",
           12200
          ],
          [
           "Ιόνια Νησιά (Ionia Nisia)",
           13800
          ],
          [
           "Κεντρική Μακεδονία (Kentriki Makedonia)",
           12100
          ],
          [
           "Κρήτη (Kriti)",
           12800
          ],
          [
           "Κύπρος (Kypros)",
           24200
          ],
          [
           "Νότιο Αιγαίο (Notio Aigaio)",
           15600
          ],
          [
           "Πελοπόννησος (Peloponnisos)",
           13400
          ],
          [
           "Στερεά Ελλάδα (Sterea Ellada)",
           15100
          ]
         ],
         "hovertemplate": "%{customdata[0]}",
         "legendgroup": "Southern Europe",
         "marker": {
          "color": "#636efa",
          "size": [
           24000,
           17700,
           19900,
           17700,
           26500,
           10900,
           20900,
           21200,
           16500,
           18100,
           17400,
           22100,
           23200,
           19400,
           27800,
           17300,
           19500,
           17900,
           29300,
           32000,
           20800,
           33600,
           18300,
           30600,
           21900,
           22000,
           25700,
           32400,
           30300,
           36500,
           25300,
           26300,
           20500,
           16900,
           30400,
           29400,
           21100,
           44400,
           36900,
           18200,
           17600,
           17100,
           19800,
           20200,
           17200,
           30100,
           24700,
           36300,
           31200,
           24900,
           11200,
           10100,
           11400,
           12600,
           12200,
           13800,
           12100,
           12800,
           24200,
           15600,
           13400,
           15100
          ],
          "sizemode": "area",
          "sizeref": 254.5,
          "symbol": "circle"
         },
         "mode": "markers",
         "name": "Southern Europe",
         "orientation": "v",
         "showlegend": true,
         "type": "scatter",
         "x": [
          -4335.708603639868,
          -10636.722090156236,
          -8435.796600631054,
          -10635.505685287604,
          -1837.1109145988767,
          -17435.39446822798,
          -7422.847278032147,
          -7136.460304399039,
          -11834.974581603363,
          -10231.053102019445,
          -10932.650502795277,
          -6235.508351282552,
          -5136.884260554722,
          -8936.81201583993,
          -534.3413414830408,
          -11035.540433647937,
          -8778.001495422806,
          -10353.434655527157,
          963.1864188074569,
          3673.5990859833814,
          -7534.125644721677,
          5264.470216011458,
          -10036.660890413452,
          2264.1565753178597,
          -6435.82011601075,
          -6333.940982353519,
          -2636.8030628705224,
          4066.6105060617556,
          1965.9915112099397,
          8167.340078011787,
          -3015.4937557716007,
          -2035.4435833055395,
          -7836.158980601525,
          -11434.190667338462,
          2066.439972098488,
          1064.3834192758547,
          -7235.787699947846,
          16061.470268890693,
          8562.434115992817,
          -10134.044845637047,
          -10732.35559767455,
          -11235.408236936057,
          -8535.09070452242,
          -8135.997134075462,
          -11134.057357782991,
          1764.3055760101722,
          -3635.9476042645524,
          7961.906718378979,
          2865.6786107577486,
          -3423.0938360122664,
          -17135.273007517408,
          -18235.39963535428,
          -16935.27733967551,
          -15736.012612199522,
          -16135.371772123752,
          -14535.005156853818,
          -16234.542991133556,
          -15534.947810245822,
          -4136.075185562268,
          -12735.785417498882,
          -14935.938302848055,
          -13236.24141666229
         ],
         "xaxis": "x",
         "y": [
          -165.84833415996758,
          -181.45921756068074,
          -141.49840879299663,
          -103.93367656590561,
          -290.5705233721855,
          -59.6933339537354,
          756.7871645320673,
          -194.77112049429314,
          -57.73005094562934,
          215.75597478257865,
          102.91212281300425,
          -146.60948098023027,
          -248.56769575826684,
          -202.25878148978396,
          -98.81637819445314,
          -112.32492992204617,
          4012.5362122991583,
          5837.7674487116665,
          -292.65480790501107,
          445.41743354620206,
          -27.320362383543916,
          -217.62717811887075,
          -185.92765634565626,
          -218.78740437562803,
          -163.8243608459655,
          -19.906227839129084,
          -250.26370867562628,
          -58.273208047506785,
          -88.28141882575794,
          -25.733449725146297,
          1289.9528816243771,
          -158.15400328898437,
          -170.6429571873131,
          -15.486494719511432,
          -66.55637287878858,
          -191.0329031034664,
          -150.76936031419612,
          -500.1681549709868,
          -380.236079967783,
          -1.1689550489847003,
          120.28328597102593,
          -88.6409992783609,
          -95.144423198743,
          -163.8973906094977,
          0.02299026250574257,
          -207.66148371960344,
          -189.80855238055454,
          -419.8994026444191,
          -107.20916309245739,
          724.2143088400242,
          -64.51407047825853,
          -38.91995082148475,
          -51.03335806857893,
          -103.02972007203037,
          -68.41515299417318,
          -52.71540297959452,
          -14.3474763989988,
          -48.74719836821267,
          -193.71065825819045,
          -106.59914463833076,
          -104.55231481577515,
          -131.71714300118296
         ],
         "yaxis": "y"
        },
        {
         "customdata": [
          [
           "Alsace",
           31000
          ],
          [
           "Aquitaine",
           29600
          ],
          [
           "Arnsberg",
           35100
          ],
          [
           "Auvergne",
           27000
          ],
          [
           "Basse-Normandie ",
           26400
          ],
          [
           "Berlin",
           42300
          ],
          [
           "Bourgogne",
           27900
          ],
          [
           "Brandenburg",
           29700
          ],
          [
           "Braunschweig",
           47400
          ],
          [
           "Bremen",
           46900
          ],
          [
           "Bretagne",
           29400
          ],
          [
           "Burgenland",
           30200
          ],
          [
           "Centre — Val de Loire",
           27800
          ],
          [
           "Champagne-Ardenne",
           27800
          ],
          [
           "Chemnitz",
           29100
          ],
          [
           "Corse",
           25500
          ],
          [
           "Darmstadt",
           50700
          ],
          [
           "Detmold",
           38300
          ],
          [
           "Drenthe",
           31500
          ],
          [
           "Dresden",
           31800
          ],
          [
           "Düsseldorf",
           41700
          ],
          [
           "Eastern and Midland",
           75700
          ],
          [
           "Flevoland",
           34300
          ],
          [
           "Franche-Comté",
           25500
          ],
          [
           "Freiburg",
           38100
          ],
          [
           "Friesland (NL)",
           32300
          ],
          [
           "Gelderland",
           39200
          ],
          [
           "Gießen",
           34400
          ],
          [
           "Groningen",
           39700
          ],
          [
           "Guadeloupe",
           22600
          ],
          [
           "Guyane",
           15000
          ],
          [
           "Hamburg",
           64400
          ],
          [
           "Hannover",
           39300
          ],
          [
           "Haute-Normandie ",
           27600
          ],
          [
           "Ile-de-France",
           57400
          ],
          [
           "Karlsruhe",
           44000
          ],
          [
           "Kassel",
           36300
          ],
          [
           "Koblenz",
           33700
          ],
          [
           "Kärnten",
           36900
          ],
          [
           "Köln",
           43200
          ],
          [
           "La Réunion ",
           22100
          ],
          [
           "Languedoc-Roussillon",
           25600
          ],
          [
           "Leipzig",
           33300
          ],
          [
           "Limburg (NL)",
           40500
          ],
          [
           "Limousin",
           24800
          ],
          [
           "Lorraine",
           24300
          ],
          [
           "Luxembourg",
           101800
          ],
          [
           "Lüneburg",
           28600
          ],
          [
           "Martinique ",
           24600
          ],
          [
           "Mayotte",
           9700
          ],
          [
           "Mecklenburg-Vorpommern",
           28900
          ],
          [
           "Midi-Pyrénées",
           30400
          ],
          [
           "Mittelfranken",
           44800
          ],
          [
           "Münster",
           34100
          ],
          [
           "Niederbayern",
           38900
          ],
          [
           "Niederösterreich",
           35300
          ],
          [
           "Noord-Brabant",
           47000
          ],
          [
           "Noord-Holland",
           59300
          ],
          [
           "Nord-Pas de Calais",
           27900
          ],
          [
           "Northern and Western",
           30100
          ],
          [
           "Oberbayern",
           58000
          ],
          [
           "Oberfranken",
           38300
          ],
          [
           "Oberpfalz",
           41700
          ],
          [
           "Oberösterreich",
           43700
          ],
          [
           "Overijssel",
           39300
          ],
          [
           "Pays de la Loire",
           30100
          ],
          [
           "Picardie",
           24700
          ],
          [
           "Poitou-Charentes",
           27400
          ],
          [
           "Prov. Antwerpen",
           47000
          ],
          [
           "Prov. Brabant Wallon",
           54400
          ],
          [
           "Prov. Hainaut",
           24500
          ],
          [
           "Prov. Limburg (BE)",
           31800
          ],
          [
           "Prov. Liège",
           27800
          ],
          [
           "Prov. Luxembourg (BE)",
           23900
          ],
          [
           "Prov. Namur",
           26400
          ],
          [
           "Prov. Oost-Vlaanderen",
           35800
          ],
          [
           "Prov. Vlaams-Brabant",
           42800
          ],
          [
           "Prov. West-Vlaanderen",
           37900
          ],
          [
           "Provence-Alpes-Côte d’Azur",
           31500
          ],
          [
           "Rheinhessen-Pfalz",
           37200
          ],
          [
           "Rhône-Alpes",
           34300
          ],
          [
           "Région de Bruxelles-Capitale/ Brussels Hoofdstedelijk Gewest",
           68400
          ],
          [
           "Saarland",
           34500
          ],
          [
           "Sachsen-Anhalt",
           29000
          ],
          [
           "Salzburg",
           49900
          ],
          [
           "Schleswig-Holstein",
           33800
          ],
          [
           "Schwaben",
           39300
          ],
          [
           "Southern",
           97500
          ],
          [
           "Steiermark",
           39000
          ],
          [
           "Stuttgart",
           51900
          ],
          [
           "Thüringen",
           29300
          ],
          [
           "Tirol",
           44100
          ],
          [
           "Trier",
           30500
          ],
          [
           "Tübingen",
           43300
          ],
          [
           "Unterfranken",
           40300
          ],
          [
           "Utrecht",
           58100
          ],
          [
           "Vorarlberg",
           45700
          ],
          [
           "Weser-Ems",
           35800
          ],
          [
           "Wien",
           50400
          ],
          [
           "Zeeland",
           36400
          ],
          [
           "Zuid-Holland",
           45000
          ]
         ],
         "hovertemplate": "%{customdata[0]}",
         "legendgroup": "Western Europe",
         "marker": {
          "color": "#EF553B",
          "size": [
           31000,
           29600,
           35100,
           27000,
           26400,
           42300,
           27900,
           29700,
           47400,
           46900,
           29400,
           30200,
           27800,
           27800,
           29100,
           25500,
           50700,
           38300,
           31500,
           31800,
           41700,
           75700,
           34300,
           25500,
           38100,
           32300,
           39200,
           34400,
           39700,
           22600,
           15000,
           64400,
           39300,
           27600,
           57400,
           44000,
           36300,
           33700,
           36900,
           43200,
           22100,
           25600,
           33300,
           40500,
           24800,
           24300,
           101800,
           28600,
           24600,
           9700,
           28900,
           30400,
           44800,
           34100,
           38900,
           35300,
           47000,
           59300,
           27900,
           30100,
           58000,
           38300,
           41700,
           43700,
           39300,
           30100,
           24700,
           27400,
           47000,
           54400,
           24500,
           31800,
           27800,
           23900,
           26400,
           35800,
           42800,
           37900,
           31500,
           37200,
           34300,
           68400,
           34500,
           29000,
           49900,
           33800,
           39300,
           97500,
           39000,
           51900,
           29300,
           44100,
           30500,
           43300,
           40300,
           58100,
           45700,
           35800,
           50400,
           36400,
           45000
          ],
          "sizemode": "area",
          "sizeref": 254.5,
          "symbol": "circle"
         },
         "mode": "markers",
         "name": "Western Europe",
         "orientation": "v",
         "showlegend": true,
         "type": "scatter",
         "x": [
          2665.0339632862488,
          1263.1380727139065,
          6767.585564333391,
          -1337.1363555177347,
          -1936.6755336300175,
          14020.47423497847,
          -437.2705735009243,
          1363.2318254246534,
          19062.984923919576,
          18584.332390650383,
          1063.6319365617542,
          1863.0965296399595,
          -537.1097783139597,
          -537.266441300154,
          765.1293500840807,
          -2837.1782426424356,
          22367.467211623614,
          9965.607319299887,
          3164.2258976366466,
          3464.529086788804,
          13374.808025719512,
          47360.09536333547,
          5965.19690710212,
          -2836.7191265060756,
          9764.555332969265,
          3964.1461999590147,
          10866.803613741877,
          6064.152762464508,
          11364.71934600043,
          -5734.1508941599495,
          -13336.855580600237,
          36094.62372345452,
          10964.511808938785,
          -735.8802017039532,
          29073.504833663,
          15666.334514060512,
          7963.29948594637,
          5364.097673941674,
          8562.283263641873,
          14869.250332532853,
          -6232.590011143741,
          -2736.191441273129,
          4965.261576911097,
          12168.046332124975,
          -3537.008207523015,
          -4036.2417558669804,
          73458.51811828993,
          263.67121908958035,
          -3733.13501685389,
          -18626.209727987964,
          563.0549280003937,
          2062.8054583044345,
          16464.0193517838,
          5766.804612648144,
          10562.921797627074,
          6962.824726057473,
          18667.245434130466,
          30973.675807553354,
          -433.39923131685384,
          1762.4823347292008,
          29663.22263051659,
          9963.288511749246,
          13362.518100181947,
          15362.46831711695,
          10965.64642434491,
          1763.4524554230093,
          -3636.351727598159,
          -936.9546805227112,
          18669.336414673115,
          26064.951713928116,
          -3832.8278089049763,
          3466.6622056779265,
          -533.8670910133044,
          -4436.82911186587,
          -1935.8841382666099,
          7468.333042334252,
          14468.307241799534,
          9566.26990999886,
          3164.10243133878,
          8865.44262374524,
          5963.585338016348,
          40161.968378080346,
          6166.785525079622,
          663.5985089419482,
          21561.455373740027,
          5464.106672332111,
          10963.864310558954,
          69156.39836438015,
          10662.384246296919,
          23565.38650635244,
          963.9118930569321,
          15761.785635316144,
          2163.509454005398,
          14963.734814203915,
          11963.146247015156,
          29772.494812123387,
          17362.693647430966,
          7463.666045516267,
          22126.75829104929,
          8063.930622783872,
          16678.326525425156
         ],
         "xaxis": "x",
         "y": [
          -155.09193368531027,
          -282.3848093012785,
          5.139684995773731,
          -279.60306515635295,
          -241.60707455154355,
          3781.4522423796743,
          -293.9489686394743,
          -279.4285645062473,
          -415.16351400132675,
          1137.4818406887766,
          -242.44754508255934,
          -294.3567592955557,
          -279.61716472393965,
          -292.539276651456,
          -137.98031910408673,
          -272.16345252635404,
          -115.19710198894174,
          -168.20213261843227,
          -210.5934966776768,
          -193.031777670248,
          475.0447604670293,
          -829.3811307295897,
          -147.14885056353856,
          -239.01958240621505,
          -238.78766056386493,
          -217.18963498688132,
          -83.129541453594,
          -238.93370420832,
          -251.66031017516417,
          -26.128728743474564,
          -166.49602835733987,
          1752.8053874584052,
          -257.7056022598587,
          -190.5590568509783,
          276.49137597098934,
          -154.18303331245366,
          -313.01831330007394,
          -237.75499888397223,
          -403.0975176341283,
          61.35049673187712,
          81.97641128427247,
          -206.51927323547497,
          -150.59575994608207,
          0.06550592203535814,
          -257.92786435372506,
          -196.5185813301539,
          -1120.4045059766322,
          -239.71799022826107,
          29.031281768235562,
          649.22096978307,
          -284.73306488276256,
          -310.27126522002396,
          -328.38916201543776,
          -48.32492504035644,
          -370.0273335259667,
          -352.4294347813939,
          -95.77743950653519,
          268.12270161265633,
          -16.954580679945185,
          -336.9477114646848,
          -481.12298750028987,
          -336.5587154700197,
          -415.87113737466046,
          -432.2213315911258,
          -159.11118188512316,
          -257.3835119541008,
          -202.91437206273795,
          -268.21836007689177,
          55.36030443597265,
          -333.91451183402177,
          54.87098676505329,
          -33.18506943352669,
          -52.05951525976187,
          -227.8412655907854,
          -186.80932782993966,
          57.49822344195481,
          -2.653858571710956,
          -104.00427345365866,
          -228.76469540741107,
          -168.20310028859038,
          -280.98496176619017,
          6619.674830520696,
          -49.70379973123575,
          -247.77229596830273,
          -560.366980089277,
          -237.6493539541201,
          -305.1311578707979,
          -1244.9956063200975,
          -414.0428073283118,
          -278.7617021290356,
          -228.12706494408616,
          -498.30167784745305,
          -267.51358641867733,
          -339.0189103960375,
          -358.003780847586,
          181.83617021996824,
          -430.1494504837583,
          -283.44216777415494,
          4163.239737708584,
          -254.86170485389312,
          712.493788996864
         ],
         "yaxis": "y"
        },
        {
         "customdata": [
          [
           "Bratislavský kraj",
           38900
          ],
          [
           "Bucureşti-Ilfov",
           26000
          ],
          [
           "Budapest",
           29000
          ],
          [
           "Centru",
           10600
          ],
          [
           "Dolnośląskie",
           15100
          ],
          [
           "Dél-Alföld",
           10300
          ],
          [
           "Dél-Dunántúl",
           9700
          ],
          [
           "Grad Zagreb",
           23400
          ],
          [
           "Jadranska Hrvatska",
           11500
          ],
          [
           "Jihovýchod",
           18700
          ],
          [
           "Jihozápad",
           17000
          ],
          [
           "Kujawsko-pomorskie",
           11100
          ],
          [
           "Közép-Dunántúl",
           12700
          ],
          [
           "Lubelskie",
           9300
          ],
          [
           "Lubuskie",
           11100
          ],
          [
           "Mazowiecki regionalny",
           11600
          ],
          [
           "Małopolskie",
           12500
          ],
          [
           "Moravskoslezsko",
           15700
          ],
          [
           "Nord-Est",
           7200
          ],
          [
           "Nord-Vest",
           10600
          ],
          [
           "Nyugat-Dunántúl",
           13300
          ],
          [
           "Opolskie",
           10700
          ],
          [
           "Panonska Hrvatska",
           7900
          ],
          [
           "Pest",
           11200
          ],
          [
           "Podkarpackie",
           9400
          ],
          [
           "Podlaskie",
           10000
          ],
          [
           "Pomorskie",
           13000
          ],
          [
           "Praha",
           43700
          ],
          [
           "Severovýchod",
           16800
          ],
          [
           "Severozápad",
           13600
          ],
          [
           "Sjeverna Hrvatska",
           10000
          ],
          [
           "Stredné Slovensko",
           13400
          ],
          [
           "Střední Morava",
           16500
          ],
          [
           "Střední Čechy",
           18000
          ],
          [
           "Sud-Est",
           9100
          ],
          [
           "Sud-Muntenia",
           8600
          ],
          [
           "Sud-Vest Oltenia",
           8900
          ],
          [
           "Vest",
           11700
          ],
          [
           "Vzhodna Slovenija",
           18500
          ],
          [
           "Východné Slovensko",
           12000
          ],
          [
           "Warmińsko-mazurskie",
           9600
          ],
          [
           "Warszawski stołeczny",
           30000
          ],
          [
           "Wielkopolskie",
           14900
          ],
          [
           "Zachodniopomorskie",
           11400
          ],
          [
           "Zahodna Slovenija",
           26500
          ],
          [
           "Západné Slovensko",
           15600
          ],
          [
           "Észak-Alföld",
           9200
          ],
          [
           "Észak-Magyarország",
           9500
          ],
          [
           "Łódzkie",
           13200
          ],
          [
           "Śląskie",
           13500
          ],
          [
           "Świętokrzyskie",
           9800
          ],
          [
           "Северен централен (Severen tsentralen)",
           6000
          ],
          [
           "Северозападен (Severozapaden)",
           5800
          ],
          [
           "Североизточен (Severoiztochen)",
           6700
          ],
          [
           "Югозападен (Yugozapaden)",
           14800
          ],
          [
           "Югоизточен (Yugoiztochen)",
           6200
          ],
          [
           "Южен централен (Yuzhen tsentralen)",
           6400
          ]
         ],
         "hovertemplate": "%{customdata[0]}",
         "legendgroup": "Central and Eastern Europe",
         "marker": {
          "color": "#00cc96",
          "size": [
           38900,
           26000,
           29000,
           10600,
           15100,
           10300,
           9700,
           23400,
           11500,
           18700,
           17000,
           11100,
           12700,
           9300,
           11100,
           11600,
           12500,
           15700,
           7200,
           10600,
           13300,
           10700,
           7900,
           11200,
           9400,
           10000,
           13000,
           43700,
           16800,
           13600,
           10000,
           13400,
           16500,
           18000,
           9100,
           8600,
           8900,
           11700,
           18500,
           12000,
           9600,
           30000,
           14900,
           11400,
           26500,
           15600,
           9200,
           9500,
           13200,
           13500,
           9800,
           6000,
           5800,
           6700,
           14800,
           6200,
           6400
          ],
          "sizemode": "area",
          "sizeref": 254.5,
          "symbol": "circle"
         },
         "mode": "markers",
         "name": "Central and Eastern Europe",
         "orientation": "v",
         "showlegend": true,
         "type": "scatter",
         "x": [
          10566.089002573817,
          -2319.053132794726,
          709.6963455482252,
          -17735.353634479638,
          -13234.70652399643,
          -18035.234812358598,
          -18635.23891414583,
          -4935.911389650374,
          -16835.580412005056,
          -9635.159292682383,
          -11335.804974971821,
          -17234.500470991974,
          -15635.236656124396,
          -19035.045182374055,
          -17235.115881518697,
          -16735.110148197386,
          -15833.113066029013,
          -12633.534801164207,
          -21134.885653216894,
          -17735.23009506494,
          -15035.356616621606,
          -17634.69622268569,
          -20435.09443580818,
          -17133.592009614906,
          -18934.57948449636,
          -18335.423433176686,
          -15334.624381071084,
          15398.634441552436,
          -11535.1085023004,
          -14734.738219135294,
          -18335.315790132736,
          -14935.379989088697,
          -11834.888386660814,
          -10335.300810479039,
          -19235.350684601945,
          -19735.19203020052,
          -19435.233934816024,
          -16635.475032991835,
          -9835.857371830783,
          -16334.90210030063,
          -18735.39479368421,
          1669.1060280354043,
          -13435.024392971818,
          -16935.10657155673,
          -1835.9254286093956,
          -12735.122280664049,
          -19134.97171463931,
          -18835.119141231524,
          -15134.570443877941,
          -14831.370559235513,
          -18534.7561867438,
          -22335.09467132345,
          -22535.103515788356,
          -21634.905497672695,
          -13535.029328681709,
          -22135.1169045834,
          -21934.856976041745
         ],
         "xaxis": "x",
         "y": [
          -156.1028616743543,
          1013.4609244547637,
          3080.843733641224,
          -37.14128635771814,
          -22.71231365686697,
          -31.59493328099183,
          -27.65390379125575,
          -169.93922482016893,
          -61.43766956213538,
          -89.33007200632967,
          -119.90336718086057,
          9.260042786228823,
          -37.92308329719067,
          -4.343399522740743,
          -34.97907063853521,
          -35.32122866178883,
          97.73713088793778,
          52.46464881867466,
          26.7775175505523,
          -29.828039209221885,
          -55.190703389047975,
          -1.105699947077276,
          5.143344411550712,
          89.35313902898869,
          28.107515834976954,
          -39.47003949904663,
          -6.118906692581113,
          2164.4811796075646,
          -66.16679269476028,
          -14.852957399247824,
          -27.897817650334773,
          -60.831031890078286,
          -51.39181212141222,
          -81.04022380832784,
          -17.328337210150288,
          2.623352707573165,
          -15.28674426516964,
          -61.45553719310999,
          -126.88608316649162,
          -19.51718254805161,
          -31.376454675392285,
          140.80050399308917,
          -46.05144490977441,
          -35.70051853134733,
          -195.8463015454603,
          -52.88892786180852,
          -2.4736183527656053,
          -8.342238202471579,
          -3.8247916892626512,
          225.1378525336084,
          10.83037304946518,
          11.846509001937799,
          4.500855705601395,
          15.09057738898316,
          -55.09077672024077,
          8.738842184480788,
          19.54974709378106
         ],
         "yaxis": "y"
        },
        {
         "customdata": [
          [
           "Eesti",
           20200
          ],
          [
           "Etelä-Suomi",
           37900
          ],
          [
           "Helsinki-Uusimaa",
           55000
          ],
          [
           "Hovedstaden",
           69700
          ],
          [
           "Latvija",
           15500
          ],
          [
           "Länsi-Suomi",
           37900
          ],
          [
           "Mellersta Norrland",
           38600
          ],
          [
           "Midtjylland",
           49200
          ],
          [
           "Nordjylland",
           44600
          ],
          [
           "Norra Mellansverige",
           36400
          ],
          [
           "Pohjois- ja Itä-Suomi",
           35900
          ],
          [
           "Sjælland",
           37600
          ],
          [
           "Småland med öarna",
           38200
          ],
          [
           "Sostinės regionas",
           25600
          ],
          [
           "Stockholm",
           64400
          ],
          [
           "Syddanmark",
           47400
          ],
          [
           "Sydsverige",
           40000
          ],
          [
           "Vidurio ir vakarų Lietuvos regionas ",
           14400
          ],
          [
           "Västsverige",
           43800
          ],
          [
           "Åland",
           38900
          ],
          [
           "Östra Mellansverige",
           38600
          ],
          [
           "Övre Norrland",
           45600
          ]
         ],
         "hovertemplate": "%{customdata[0]}",
         "legendgroup": "Northern Europe",
         "marker": {
          "color": "#ab63fa",
          "size": [
           20200,
           37900,
           55000,
           69700,
           15500,
           37900,
           38600,
           49200,
           44600,
           36400,
           35900,
           37600,
           38200,
           25600,
           64400,
           47400,
           40000,
           14400,
           43800,
           38900,
           38600,
           45600
          ],
          "sizemode": "area",
          "sizeref": 254.5,
          "symbol": "circle"
         },
         "mode": "markers",
         "name": "Northern Europe",
         "orientation": "v",
         "showlegend": true,
         "type": "scatter",
         "x": [
          -8136.714821388985,
          9561.701973892314,
          26662.34429769061,
          41368.77728143789,
          -12836.319329091468,
          9561.520502718022,
          10261.214850234737,
          20861.607041982414,
          16261.57476582193,
          8061.519613906741,
          7561.412333287728,
          9262.860288288266,
          9861.566611188398,
          -2736.0835651744433,
          36063.80140434254,
          19061.74643165122,
          11662.628905441763,
          -13935.989741895812,
          15461.698551754924,
          10561.56922813983,
          10261.893492077312,
          17260.658163141685
         ],
         "xaxis": "x",
         "y": [
          -206.33773721490329,
          -444.1959644400914,
          -527.3458780823962,
          -160.09997192257217,
          -142.55474817735202,
          -457.12622847473654,
          -484.74554856238984,
          -531.9011289135284,
          -497.74988465614734,
          -446.7935277933024,
          -448.1626094369067,
          -358.46323340681886,
          -458.0966688849383,
          -216.68793909714802,
          -482.1528862501323,
          -508.7802316914095,
          -397.32171544373966,
          -117.52015292135665,
          -490.2613707023301,
          -471.40036169205706,
          -442.7539866135593,
          -580.5433755325771
         ],
         "yaxis": "y"
        }
       ],
       "layout": {
        "height": 600,
        "legend": {
         "itemsizing": "constant",
         "orientation": "h",
         "title": {
          "text": "EU Region"
         },
         "tracegroupgap": 0,
         "yanchor": "top"
        },
        "margin": {
         "b": 1,
         "l": 1,
         "r": 1,
         "t": 15
        },
        "plot_bgcolor": "#FFFFFF",
        "template": {
         "data": {
          "bar": [
           {
            "error_x": {
             "color": "#2a3f5f"
            },
            "error_y": {
             "color": "#2a3f5f"
            },
            "marker": {
             "line": {
              "color": "#E5ECF6",
              "width": 0.5
             },
             "pattern": {
              "fillmode": "overlay",
              "size": 10,
              "solidity": 0.2
             }
            },
            "type": "bar"
           }
          ],
          "barpolar": [
           {
            "marker": {
             "line": {
              "color": "#E5ECF6",
              "width": 0.5
             },
             "pattern": {
              "fillmode": "overlay",
              "size": 10,
              "solidity": 0.2
             }
            },
            "type": "barpolar"
           }
          ],
          "carpet": [
           {
            "aaxis": {
             "endlinecolor": "#2a3f5f",
             "gridcolor": "white",
             "linecolor": "white",
             "minorgridcolor": "white",
             "startlinecolor": "#2a3f5f"
            },
            "baxis": {
             "endlinecolor": "#2a3f5f",
             "gridcolor": "white",
             "linecolor": "white",
             "minorgridcolor": "white",
             "startlinecolor": "#2a3f5f"
            },
            "type": "carpet"
           }
          ],
          "choropleth": [
           {
            "colorbar": {
             "outlinewidth": 0,
             "ticks": ""
            },
            "type": "choropleth"
           }
          ],
          "contour": [
           {
            "colorbar": {
             "outlinewidth": 0,
             "ticks": ""
            },
            "colorscale": [
             [
              0,
              "#0d0887"
             ],
             [
              0.1111111111111111,
              "#46039f"
             ],
             [
              0.2222222222222222,
              "#7201a8"
             ],
             [
              0.3333333333333333,
              "#9c179e"
             ],
             [
              0.4444444444444444,
              "#bd3786"
             ],
             [
              0.5555555555555556,
              "#d8576b"
             ],
             [
              0.6666666666666666,
              "#ed7953"
             ],
             [
              0.7777777777777778,
              "#fb9f3a"
             ],
             [
              0.8888888888888888,
              "#fdca26"
             ],
             [
              1,
              "#f0f921"
             ]
            ],
            "type": "contour"
           }
          ],
          "contourcarpet": [
           {
            "colorbar": {
             "outlinewidth": 0,
             "ticks": ""
            },
            "type": "contourcarpet"
           }
          ],
          "heatmap": [
           {
            "colorbar": {
             "outlinewidth": 0,
             "ticks": ""
            },
            "colorscale": [
             [
              0,
              "#0d0887"
             ],
             [
              0.1111111111111111,
              "#46039f"
             ],
             [
              0.2222222222222222,
              "#7201a8"
             ],
             [
              0.3333333333333333,
              "#9c179e"
             ],
             [
              0.4444444444444444,
              "#bd3786"
             ],
             [
              0.5555555555555556,
              "#d8576b"
             ],
             [
              0.6666666666666666,
              "#ed7953"
             ],
             [
              0.7777777777777778,
              "#fb9f3a"
             ],
             [
              0.8888888888888888,
              "#fdca26"
             ],
             [
              1,
              "#f0f921"
             ]
            ],
            "type": "heatmap"
           }
          ],
          "heatmapgl": [
           {
            "colorbar": {
             "outlinewidth": 0,
             "ticks": ""
            },
            "colorscale": [
             [
              0,
              "#0d0887"
             ],
             [
              0.1111111111111111,
              "#46039f"
             ],
             [
              0.2222222222222222,
              "#7201a8"
             ],
             [
              0.3333333333333333,
              "#9c179e"
             ],
             [
              0.4444444444444444,
              "#bd3786"
             ],
             [
              0.5555555555555556,
              "#d8576b"
             ],
             [
              0.6666666666666666,
              "#ed7953"
             ],
             [
              0.7777777777777778,
              "#fb9f3a"
             ],
             [
              0.8888888888888888,
              "#fdca26"
             ],
             [
              1,
              "#f0f921"
             ]
            ],
            "type": "heatmapgl"
           }
          ],
          "histogram": [
           {
            "marker": {
             "pattern": {
              "fillmode": "overlay",
              "size": 10,
              "solidity": 0.2
             }
            },
            "type": "histogram"
           }
          ],
          "histogram2d": [
           {
            "colorbar": {
             "outlinewidth": 0,
             "ticks": ""
            },
            "colorscale": [
             [
              0,
              "#0d0887"
             ],
             [
              0.1111111111111111,
              "#46039f"
             ],
             [
              0.2222222222222222,
              "#7201a8"
             ],
             [
              0.3333333333333333,
              "#9c179e"
             ],
             [
              0.4444444444444444,
              "#bd3786"
             ],
             [
              0.5555555555555556,
              "#d8576b"
             ],
             [
              0.6666666666666666,
              "#ed7953"
             ],
             [
              0.7777777777777778,
              "#fb9f3a"
             ],
             [
              0.8888888888888888,
              "#fdca26"
             ],
             [
              1,
              "#f0f921"
             ]
            ],
            "type": "histogram2d"
           }
          ],
          "histogram2dcontour": [
           {
            "colorbar": {
             "outlinewidth": 0,
             "ticks": ""
            },
            "colorscale": [
             [
              0,
              "#0d0887"
             ],
             [
              0.1111111111111111,
              "#46039f"
             ],
             [
              0.2222222222222222,
              "#7201a8"
             ],
             [
              0.3333333333333333,
              "#9c179e"
             ],
             [
              0.4444444444444444,
              "#bd3786"
             ],
             [
              0.5555555555555556,
              "#d8576b"
             ],
             [
              0.6666666666666666,
              "#ed7953"
             ],
             [
              0.7777777777777778,
              "#fb9f3a"
             ],
             [
              0.8888888888888888,
              "#fdca26"
             ],
             [
              1,
              "#f0f921"
             ]
            ],
            "type": "histogram2dcontour"
           }
          ],
          "mesh3d": [
           {
            "colorbar": {
             "outlinewidth": 0,
             "ticks": ""
            },
            "type": "mesh3d"
           }
          ],
          "parcoords": [
           {
            "line": {
             "colorbar": {
              "outlinewidth": 0,
              "ticks": ""
             }
            },
            "type": "parcoords"
           }
          ],
          "pie": [
           {
            "automargin": true,
            "type": "pie"
           }
          ],
          "scatter": [
           {
            "marker": {
             "colorbar": {
              "outlinewidth": 0,
              "ticks": ""
             }
            },
            "type": "scatter"
           }
          ],
          "scatter3d": [
           {
            "line": {
             "colorbar": {
              "outlinewidth": 0,
              "ticks": ""
             }
            },
            "marker": {
             "colorbar": {
              "outlinewidth": 0,
              "ticks": ""
             }
            },
            "type": "scatter3d"
           }
          ],
          "scattercarpet": [
           {
            "marker": {
             "colorbar": {
              "outlinewidth": 0,
              "ticks": ""
             }
            },
            "type": "scattercarpet"
           }
          ],
          "scattergeo": [
           {
            "marker": {
             "colorbar": {
              "outlinewidth": 0,
              "ticks": ""
             }
            },
            "type": "scattergeo"
           }
          ],
          "scattergl": [
           {
            "marker": {
             "colorbar": {
              "outlinewidth": 0,
              "ticks": ""
             }
            },
            "type": "scattergl"
           }
          ],
          "scattermapbox": [
           {
            "marker": {
             "colorbar": {
              "outlinewidth": 0,
              "ticks": ""
             }
            },
            "type": "scattermapbox"
           }
          ],
          "scatterpolar": [
           {
            "marker": {
             "colorbar": {
              "outlinewidth": 0,
              "ticks": ""
             }
            },
            "type": "scatterpolar"
           }
          ],
          "scatterpolargl": [
           {
            "marker": {
             "colorbar": {
              "outlinewidth": 0,
              "ticks": ""
             }
            },
            "type": "scatterpolargl"
           }
          ],
          "scatterternary": [
           {
            "marker": {
             "colorbar": {
              "outlinewidth": 0,
              "ticks": ""
             }
            },
            "type": "scatterternary"
           }
          ],
          "surface": [
           {
            "colorbar": {
             "outlinewidth": 0,
             "ticks": ""
            },
            "colorscale": [
             [
              0,
              "#0d0887"
             ],
             [
              0.1111111111111111,
              "#46039f"
             ],
             [
              0.2222222222222222,
              "#7201a8"
             ],
             [
              0.3333333333333333,
              "#9c179e"
             ],
             [
              0.4444444444444444,
              "#bd3786"
             ],
             [
              0.5555555555555556,
              "#d8576b"
             ],
             [
              0.6666666666666666,
              "#ed7953"
             ],
             [
              0.7777777777777778,
              "#fb9f3a"
             ],
             [
              0.8888888888888888,
              "#fdca26"
             ],
             [
              1,
              "#f0f921"
             ]
            ],
            "type": "surface"
           }
          ],
          "table": [
           {
            "cells": {
             "fill": {
              "color": "#EBF0F8"
             },
             "line": {
              "color": "white"
             }
            },
            "header": {
             "fill": {
              "color": "#C8D4E3"
             },
             "line": {
              "color": "white"
             }
            },
            "type": "table"
           }
          ]
         },
         "layout": {
          "annotationdefaults": {
           "arrowcolor": "#2a3f5f",
           "arrowhead": 0,
           "arrowwidth": 1
          },
          "autotypenumbers": "strict",
          "coloraxis": {
           "colorbar": {
            "outlinewidth": 0,
            "ticks": ""
           }
          },
          "colorscale": {
           "diverging": [
            [
             0,
             "#8e0152"
            ],
            [
             0.1,
             "#c51b7d"
            ],
            [
             0.2,
             "#de77ae"
            ],
            [
             0.3,
             "#f1b6da"
            ],
            [
             0.4,
             "#fde0ef"
            ],
            [
             0.5,
             "#f7f7f7"
            ],
            [
             0.6,
             "#e6f5d0"
            ],
            [
             0.7,
             "#b8e186"
            ],
            [
             0.8,
             "#7fbc41"
            ],
            [
             0.9,
             "#4d9221"
            ],
            [
             1,
             "#276419"
            ]
           ],
           "sequential": [
            [
             0,
             "#0d0887"
            ],
            [
             0.1111111111111111,
             "#46039f"
            ],
            [
             0.2222222222222222,
             "#7201a8"
            ],
            [
             0.3333333333333333,
             "#9c179e"
            ],
            [
             0.4444444444444444,
             "#bd3786"
            ],
            [
             0.5555555555555556,
             "#d8576b"
            ],
            [
             0.6666666666666666,
             "#ed7953"
            ],
            [
             0.7777777777777778,
             "#fb9f3a"
            ],
            [
             0.8888888888888888,
             "#fdca26"
            ],
            [
             1,
             "#f0f921"
            ]
           ],
           "sequentialminus": [
            [
             0,
             "#0d0887"
            ],
            [
             0.1111111111111111,
             "#46039f"
            ],
            [
             0.2222222222222222,
             "#7201a8"
            ],
            [
             0.3333333333333333,
             "#9c179e"
            ],
            [
             0.4444444444444444,
             "#bd3786"
            ],
            [
             0.5555555555555556,
             "#d8576b"
            ],
            [
             0.6666666666666666,
             "#ed7953"
            ],
            [
             0.7777777777777778,
             "#fb9f3a"
            ],
            [
             0.8888888888888888,
             "#fdca26"
            ],
            [
             1,
             "#f0f921"
            ]
           ]
          },
          "colorway": [
           "#636efa",
           "#EF553B",
           "#00cc96",
           "#ab63fa",
           "#FFA15A",
           "#19d3f3",
           "#FF6692",
           "#B6E880",
           "#FF97FF",
           "#FECB52"
          ],
          "font": {
           "color": "#2a3f5f"
          },
          "geo": {
           "bgcolor": "white",
           "lakecolor": "white",
           "landcolor": "#E5ECF6",
           "showlakes": true,
           "showland": true,
           "subunitcolor": "white"
          },
          "hoverlabel": {
           "align": "left"
          },
          "hovermode": "closest",
          "mapbox": {
           "style": "light"
          },
          "paper_bgcolor": "white",
          "plot_bgcolor": "#E5ECF6",
          "polar": {
           "angularaxis": {
            "gridcolor": "white",
            "linecolor": "white",
            "ticks": ""
           },
           "bgcolor": "#E5ECF6",
           "radialaxis": {
            "gridcolor": "white",
            "linecolor": "white",
            "ticks": ""
           }
          },
          "scene": {
           "xaxis": {
            "backgroundcolor": "#E5ECF6",
            "gridcolor": "white",
            "gridwidth": 2,
            "linecolor": "white",
            "showbackground": true,
            "ticks": "",
            "zerolinecolor": "white"
           },
           "yaxis": {
            "backgroundcolor": "#E5ECF6",
            "gridcolor": "white",
            "gridwidth": 2,
            "linecolor": "white",
            "showbackground": true,
            "ticks": "",
            "zerolinecolor": "white"
           },
           "zaxis": {
            "backgroundcolor": "#E5ECF6",
            "gridcolor": "white",
            "gridwidth": 2,
            "linecolor": "white",
            "showbackground": true,
            "ticks": "",
            "zerolinecolor": "white"
           }
          },
          "shapedefaults": {
           "line": {
            "color": "#2a3f5f"
           }
          },
          "ternary": {
           "aaxis": {
            "gridcolor": "white",
            "linecolor": "white",
            "ticks": ""
           },
           "baxis": {
            "gridcolor": "white",
            "linecolor": "white",
            "ticks": ""
           },
           "bgcolor": "#E5ECF6",
           "caxis": {
            "gridcolor": "white",
            "linecolor": "white",
            "ticks": ""
           }
          },
          "title": {
           "x": 0.05
          },
          "xaxis": {
           "automargin": true,
           "gridcolor": "white",
           "linecolor": "white",
           "ticks": "",
           "title": {
            "standoff": 15
           },
           "zerolinecolor": "white",
           "zerolinewidth": 2
          },
          "yaxis": {
           "automargin": true,
           "gridcolor": "white",
           "linecolor": "white",
           "ticks": "",
           "title": {
            "standoff": 15
           },
           "zerolinecolor": "white",
           "zerolinewidth": 2
          }
         }
        },
        "title": {
         "text": ""
        },
        "width": 800,
        "xaxis": {
         "anchor": "y",
         "autorange": true,
         "domain": [
          0,
          1
         ],
         "range": [
          -28601.350311540496,
          81340.1290116777
         ],
         "title": {
          "text": ""
         },
         "type": "linear"
        },
        "yaxis": {
         "anchor": "x",
         "autorange": true,
         "domain": [
          0,
          1
         ],
         "range": [
          -1996.7101031156362,
          7324.997137205885
         ],
         "title": {
          "text": ""
         },
         "type": "linear"
        }
       }
      },
      "image/png": "[encoded data removed]",
      "text/html": [
       "<div>                            <div id=\"7283ba77-6a3f-44e4-a919-19d17c6917db\" class=\"plotly-graph-div\" style=\"height:600px; width:800px;\"></div>            <script type=\"text/javascript\">                require([\"plotly\"], function(Plotly) {                    window.PLOTLYENV=window.PLOTLYENV || {};                                    if (document.getElementById(\"7283ba77-6a3f-44e4-a919-19d17c6917db\")) {                    Plotly.newPlot(                        \"7283ba77-6a3f-44e4-a919-19d17c6917db\",                        [{\"customdata\":[[\"Abruzzo\",24000.0],[\"Alentejo\",17700.0],[\"Algarve\",19900.0],[\"Andalucía\",17700.0],[\"Aragón\",26500.0],[\"Aνατολική Μακεδονία, Θράκη (Anatoliki Makedonia, Thraki)\",10900.0],[\"Aττική (Attiki)\",20900.0],[\"Basilicata\",21200.0],[\"Calabria\",16500.0],[\"Campania\",18100.0],[\"Canarias\",17400.0],[\"Cantabria\",22100.0],[\"Castilla y León\",23200.0],[\"Castilla-La Mancha\",19400.0],[\"Cataluña\",27800.0],[\"Centro (PT)\",17300.0],[\"Ciudad de Ceuta\",19500.0],[\"Ciudad de Melilla\",17900.0],[\"Comunidad Foral de Navarra\",29300.0],[\"Comunidad de Madrid\",32000.0],[\"Comunitat Valenciana \",20800.0],[\"Emilia-Romagna\",33600.0],[\"Extremadura\",18300.0],[\"Friuli-Venezia Giulia\",30600.0],[\"Galicia\",21900.0],[\"Illes Balears\",22000.0],[\"La Rioja\",25700.0],[\"Lazio\",32400.0],[\"Liguria\",30300.0],[\"Lombardia\",36500.0],[\"Malta\",25300.0],[\"Marche\",26300.0],[\"Molise\",20500.0],[\"Norte\",16900.0],[\"País Vasco\",30400.0],[\"Piemonte\",29400.0],[\"Principado de Asturias\",21100.0],[\"Provincia Autonoma di Bolzano/Bozen\",44400.0],[\"Provincia Autonoma di Trento\",36900.0],[\"Puglia\",18200.0],[\"Região Autónoma da Madeira\",17600.0],[\"Região Autónoma dos Açores\",17100.0],[\"Región de Murcia\",19800.0],[\"Sardegna\",20200.0],[\"Sicilia\",17200.0],[\"Toscana\",30100.0],[\"Umbria\",24700.0],[\"Valle d’Aosta/Vallée d’Aoste\",36300.0],[\"Veneto\",31200.0],[\"Área Metropolitana de Lisboa\",24900.0],[\"Ήπειρος (Ipeiros)\",11200.0],[\"Βόρειο Αιγαίο (Voreio Aigaio)\",10100.0],[\"Δυτική Ελλάδα (Dytiki Ellada)\",11400.0],[\"Δυτική Μακεδονία (Dytiki Makedonia)\",12600.0],[\"Θεσσαλία (Thessalia)\",12200.0],[\"Ιόνια Νησιά (Ionia Nisia)\",13800.0],[\"Κεντρική Μακεδονία (Kentriki Makedonia)\",12100.0],[\"Κρήτη (Kriti)\",12800.0],[\"Κύπρος (Kypros)\",24200.0],[\"Νότιο Αιγαίο (Notio Aigaio)\",15600.0],[\"Πελοπόννησος (Peloponnisos)\",13400.0],[\"Στερεά Ελλάδα (Sterea Ellada)\",15100.0]],\"hovertemplate\":\"%{customdata[0]}\",\"legendgroup\":\"Southern Europe\",\"marker\":{\"color\":\"#636efa\",\"size\":[24000.0,17700.0,19900.0,17700.0,26500.0,10900.0,20900.0,21200.0,16500.0,18100.0,17400.0,22100.0,23200.0,19400.0,27800.0,17300.0,19500.0,17900.0,29300.0,32000.0,20800.0,33600.0,18300.0,30600.0,21900.0,22000.0,25700.0,32400.0,30300.0,36500.0,25300.0,26300.0,20500.0,16900.0,30400.0,29400.0,21100.0,44400.0,36900.0,18200.0,17600.0,17100.0,19800.0,20200.0,17200.0,30100.0,24700.0,36300.0,31200.0,24900.0,11200.0,10100.0,11400.0,12600.0,12200.0,13800.0,12100.0,12800.0,24200.0,15600.0,13400.0,15100.0],\"sizemode\":\"area\",\"sizeref\":254.5,\"symbol\":\"circle\"},\"mode\":\"markers\",\"name\":\"Southern Europe\",\"orientation\":\"v\",\"showlegend\":true,\"type\":\"scatter\",\"x\":[-4335.708603639868,-10636.722090156236,-8435.796600631054,-10635.505685287604,-1837.1109145988767,-17435.39446822798,-7422.847278032147,-7136.460304399039,-11834.974581603363,-10231.053102019445,-10932.650502795277,-6235.508351282552,-5136.884260554722,-8936.81201583993,-534.3413414830408,-11035.540433647937,-8778.001495422806,-10353.434655527157,963.1864188074569,3673.5990859833814,-7534.125644721677,5264.470216011458,-10036.660890413452,2264.1565753178597,-6435.82011601075,-6333.940982353519,-2636.8030628705224,4066.6105060617556,1965.9915112099397,8167.340078011787,-3015.4937557716007,-2035.4435833055395,-7836.158980601525,-11434.190667338462,2066.439972098488,1064.3834192758547,-7235.787699947846,16061.470268890693,8562.434115992817,-10134.044845637047,-10732.35559767455,-11235.408236936057,-8535.09070452242,-8135.997134075462,-11134.057357782991,1764.3055760101722,-3635.9476042645524,7961.906718378979,2865.6786107577486,-3423.0938360122664,-17135.273007517408,-18235.39963535428,-16935.27733967551,-15736.012612199522,-16135.371772123752,-14535.005156853818,-16234.542991133556,-15534.947810245822,-4136.075185562268,-12735.785417498882,-14935.938302848055,-13236.24141666229],\"xaxis\":\"x\",\"y\":[-165.84833415996758,-181.45921756068074,-141.49840879299663,-103.93367656590561,-290.5705233721855,-59.6933339537354,756.7871645320673,-194.77112049429314,-57.73005094562934,215.75597478257865,102.91212281300425,-146.60948098023027,-248.56769575826684,-202.25878148978396,-98.81637819445314,-112.32492992204617,4012.5362122991583,5837.7674487116665,-292.65480790501107,445.41743354620206,-27.320362383543916,-217.62717811887075,-185.92765634565626,-218.78740437562803,-163.8243608459655,-19.906227839129084,-250.26370867562628,-58.273208047506785,-88.28141882575794,-25.733449725146297,1289.9528816243771,-158.15400328898437,-170.6429571873131,-15.486494719511432,-66.55637287878858,-191.0329031034664,-150.76936031419612,-500.1681549709868,-380.236079967783,-1.1689550489847003,120.28328597102593,-88.6409992783609,-95.144423198743,-163.8973906094977,0.02299026250574257,-207.66148371960344,-189.80855238055454,-419.8994026444191,-107.20916309245739,724.2143088400242,-64.51407047825853,-38.91995082148475,-51.03335806857893,-103.02972007203037,-68.41515299417318,-52.71540297959452,-14.3474763989988,-48.74719836821267,-193.71065825819045,-106.59914463833076,-104.55231481577515,-131.71714300118296],\"yaxis\":\"y\"},{\"customdata\":[[\"Alsace\",31000.0],[\"Aquitaine\",29600.0],[\"Arnsberg\",35100.0],[\"Auvergne\",27000.0],[\"Basse-Normandie \",26400.0],[\"Berlin\",42300.0],[\"Bourgogne\",27900.0],[\"Brandenburg\",29700.0],[\"Braunschweig\",47400.0],[\"Bremen\",46900.0],[\"Bretagne\",29400.0],[\"Burgenland\",30200.0],[\"Centre — Val de Loire\",27800.0],[\"Champagne-Ardenne\",27800.0],[\"Chemnitz\",29100.0],[\"Corse\",25500.0],[\"Darmstadt\",50700.0],[\"Detmold\",38300.0],[\"Drenthe\",31500.0],[\"Dresden\",31800.0],[\"Düsseldorf\",41700.0],[\"Eastern and Midland\",75700.0],[\"Flevoland\",34300.0],[\"Franche-Comté\",25500.0],[\"Freiburg\",38100.0],[\"Friesland (NL)\",32300.0],[\"Gelderland\",39200.0],[\"Gießen\",34400.0],[\"Groningen\",39700.0],[\"Guadeloupe\",22600.0],[\"Guyane\",15000.0],[\"Hamburg\",64400.0],[\"Hannover\",39300.0],[\"Haute-Normandie \",27600.0],[\"Ile-de-France\",57400.0],[\"Karlsruhe\",44000.0],[\"Kassel\",36300.0],[\"Koblenz\",33700.0],[\"Kärnten\",36900.0],[\"Köln\",43200.0],[\"La Réunion \",22100.0],[\"Languedoc-Roussillon\",25600.0],[\"Leipzig\",33300.0],[\"Limburg (NL)\",40500.0],[\"Limousin\",24800.0],[\"Lorraine\",24300.0],[\"Luxembourg\",101800.0],[\"Lüneburg\",28600.0],[\"Martinique \",24600.0],[\"Mayotte\",9700.0],[\"Mecklenburg-Vorpommern\",28900.0],[\"Midi-Pyrénées\",30400.0],[\"Mittelfranken\",44800.0],[\"Münster\",34100.0],[\"Niederbayern\",38900.0],[\"Niederösterreich\",35300.0],[\"Noord-Brabant\",47000.0],[\"Noord-Holland\",59300.0],[\"Nord-Pas de Calais\",27900.0],[\"Northern and Western\",30100.0],[\"Oberbayern\",58000.0],[\"Oberfranken\",38300.0],[\"Oberpfalz\",41700.0],[\"Oberösterreich\",43700.0],[\"Overijssel\",39300.0],[\"Pays de la Loire\",30100.0],[\"Picardie\",24700.0],[\"Poitou-Charentes\",27400.0],[\"Prov. Antwerpen\",47000.0],[\"Prov. Brabant Wallon\",54400.0],[\"Prov. Hainaut\",24500.0],[\"Prov. Limburg (BE)\",31800.0],[\"Prov. Liège\",27800.0],[\"Prov. Luxembourg (BE)\",23900.0],[\"Prov. Namur\",26400.0],[\"Prov. Oost-Vlaanderen\",35800.0],[\"Prov. Vlaams-Brabant\",42800.0],[\"Prov. West-Vlaanderen\",37900.0],[\"Provence-Alpes-Côte d’Azur\",31500.0],[\"Rheinhessen-Pfalz\",37200.0],[\"Rhône-Alpes\",34300.0],[\"Région de Bruxelles-Capitale/ Brussels Hoofdstedelijk Gewest\",68400.0],[\"Saarland\",34500.0],[\"Sachsen-Anhalt\",29000.0],[\"Salzburg\",49900.0],[\"Schleswig-Holstein\",33800.0],[\"Schwaben\",39300.0],[\"Southern\",97500.0],[\"Steiermark\",39000.0],[\"Stuttgart\",51900.0],[\"Thüringen\",29300.0],[\"Tirol\",44100.0],[\"Trier\",30500.0],[\"Tübingen\",43300.0],[\"Unterfranken\",40300.0],[\"Utrecht\",58100.0],[\"Vorarlberg\",45700.0],[\"Weser-Ems\",35800.0],[\"Wien\",50400.0],[\"Zeeland\",36400.0],[\"Zuid-Holland\",45000.0]],\"hovertemplate\":\"%{customdata[0]}\",\"legendgroup\":\"Western Europe\",\"marker\":{\"color\":\"#EF553B\",\"size\":[31000.0,29600.0,35100.0,27000.0,26400.0,42300.0,27900.0,29700.0,47400.0,46900.0,29400.0,30200.0,27800.0,27800.0,29100.0,25500.0,50700.0,38300.0,31500.0,31800.0,41700.0,75700.0,34300.0,25500.0,38100.0,32300.0,39200.0,34400.0,39700.0,22600.0,15000.0,64400.0,39300.0,27600.0,57400.0,44000.0,36300.0,33700.0,36900.0,43200.0,22100.0,25600.0,33300.0,40500.0,24800.0,24300.0,101800.0,28600.0,24600.0,9700.0,28900.0,30400.0,44800.0,34100.0,38900.0,35300.0,47000.0,59300.0,27900.0,30100.0,58000.0,38300.0,41700.0,43700.0,39300.0,30100.0,24700.0,27400.0,47000.0,54400.0,24500.0,31800.0,27800.0,23900.0,26400.0,35800.0,42800.0,37900.0,31500.0,37200.0,34300.0,68400.0,34500.0,29000.0,49900.0,33800.0,39300.0,97500.0,39000.0,51900.0,29300.0,44100.0,30500.0,43300.0,40300.0,58100.0,45700.0,35800.0,50400.0,36400.0,45000.0],\"sizemode\":\"area\",\"sizeref\":254.5,\"symbol\":\"circle\"},\"mode\":\"markers\",\"name\":\"Western Europe\",\"orientation\":\"v\",\"showlegend\":true,\"type\":\"scatter\",\"x\":[2665.0339632862488,1263.1380727139065,6767.585564333391,-1337.1363555177347,-1936.6755336300175,14020.47423497847,-437.2705735009243,1363.2318254246534,19062.984923919576,18584.332390650383,1063.6319365617542,1863.0965296399595,-537.1097783139597,-537.266441300154,765.1293500840807,-2837.1782426424356,22367.467211623614,9965.607319299887,3164.2258976366466,3464.529086788804,13374.808025719512,47360.09536333547,5965.19690710212,-2836.7191265060756,9764.555332969265,3964.1461999590147,10866.803613741877,6064.152762464508,11364.71934600043,-5734.1508941599495,-13336.855580600237,36094.62372345452,10964.511808938785,-735.8802017039532,29073.504833663,15666.334514060512,7963.29948594637,5364.097673941674,8562.283263641873,14869.250332532853,-6232.590011143741,-2736.191441273129,4965.261576911097,12168.046332124975,-3537.008207523015,-4036.2417558669804,73458.51811828993,263.67121908958035,-3733.13501685389,-18626.209727987964,563.0549280003937,2062.8054583044345,16464.0193517838,5766.804612648144,10562.921797627074,6962.824726057473,18667.245434130466,30973.675807553354,-433.39923131685384,1762.4823347292008,29663.22263051659,9963.288511749246,13362.518100181947,15362.46831711695,10965.64642434491,1763.4524554230093,-3636.351727598159,-936.9546805227112,18669.336414673115,26064.951713928116,-3832.8278089049763,3466.6622056779265,-533.8670910133044,-4436.82911186587,-1935.8841382666099,7468.333042334252,14468.307241799534,9566.26990999886,3164.10243133878,8865.44262374524,5963.585338016348,40161.968378080346,6166.785525079622,663.5985089419482,21561.455373740027,5464.106672332111,10963.864310558954,69156.39836438015,10662.384246296919,23565.38650635244,963.9118930569321,15761.785635316144,2163.509454005398,14963.734814203915,11963.146247015156,29772.494812123387,17362.693647430966,7463.666045516267,22126.75829104929,8063.930622783872,16678.326525425156],\"xaxis\":\"x\",\"y\":[-155.09193368531027,-282.3848093012785,5.139684995773731,-279.60306515635295,-241.60707455154355,3781.4522423796743,-293.9489686394743,-279.4285645062473,-415.16351400132675,1137.4818406887766,-242.44754508255934,-294.3567592955557,-279.61716472393965,-292.539276651456,-137.98031910408673,-272.16345252635404,-115.19710198894174,-168.20213261843227,-210.5934966776768,-193.031777670248,475.0447604670293,-829.3811307295897,-147.14885056353856,-239.01958240621505,-238.78766056386493,-217.18963498688132,-83.129541453594,-238.93370420832,-251.66031017516417,-26.128728743474564,-166.49602835733987,1752.8053874584052,-257.7056022598587,-190.5590568509783,276.49137597098934,-154.18303331245366,-313.01831330007394,-237.75499888397223,-403.0975176341283,61.35049673187712,81.97641128427247,-206.51927323547497,-150.59575994608207,0.06550592203535814,-257.92786435372506,-196.5185813301539,-1120.4045059766322,-239.71799022826107,29.031281768235562,649.22096978307,-284.73306488276256,-310.27126522002396,-328.38916201543776,-48.32492504035644,-370.0273335259667,-352.4294347813939,-95.77743950653519,268.12270161265633,-16.954580679945185,-336.9477114646848,-481.12298750028987,-336.5587154700197,-415.87113737466046,-432.2213315911258,-159.11118188512316,-257.3835119541008,-202.91437206273795,-268.21836007689177,55.36030443597265,-333.91451183402177,54.87098676505329,-33.18506943352669,-52.05951525976187,-227.8412655907854,-186.80932782993966,57.49822344195481,-2.653858571710956,-104.00427345365866,-228.76469540741107,-168.20310028859038,-280.98496176619017,6619.674830520696,-49.70379973123575,-247.77229596830273,-560.366980089277,-237.6493539541201,-305.1311578707979,-1244.9956063200975,-414.0428073283118,-278.7617021290356,-228.12706494408616,-498.30167784745305,-267.51358641867733,-339.0189103960375,-358.003780847586,181.83617021996824,-430.1494504837583,-283.44216777415494,4163.239737708584,-254.86170485389312,712.493788996864],\"yaxis\":\"y\"},{\"customdata\":[[\"Bratislavský kraj\",38900.0],[\"Bucureşti-Ilfov\",26000.0],[\"Budapest\",29000.0],[\"Centru\",10600.0],[\"Dolnośląskie\",15100.0],[\"Dél-Alföld\",10300.0],[\"Dél-Dunántúl\",9700.0],[\"Grad Zagreb\",23400.0],[\"Jadranska Hrvatska\",11500.0],[\"Jihovýchod\",18700.0],[\"Jihozápad\",17000.0],[\"Kujawsko-pomorskie\",11100.0],[\"Közép-Dunántúl\",12700.0],[\"Lubelskie\",9300.0],[\"Lubuskie\",11100.0],[\"Mazowiecki regionalny\",11600.0],[\"Małopolskie\",12500.0],[\"Moravskoslezsko\",15700.0],[\"Nord-Est\",7200.0],[\"Nord-Vest\",10600.0],[\"Nyugat-Dunántúl\",13300.0],[\"Opolskie\",10700.0],[\"Panonska Hrvatska\",7900.0],[\"Pest\",11200.0],[\"Podkarpackie\",9400.0],[\"Podlaskie\",10000.0],[\"Pomorskie\",13000.0],[\"Praha\",43700.0],[\"Severovýchod\",16800.0],[\"Severozápad\",13600.0],[\"Sjeverna Hrvatska\",10000.0],[\"Stredné Slovensko\",13400.0],[\"Střední Morava\",16500.0],[\"Střední Čechy\",18000.0],[\"Sud-Est\",9100.0],[\"Sud-Muntenia\",8600.0],[\"Sud-Vest Oltenia\",8900.0],[\"Vest\",11700.0],[\"Vzhodna Slovenija\",18500.0],[\"Východné Slovensko\",12000.0],[\"Warmińsko-mazurskie\",9600.0],[\"Warszawski stołeczny\",30000.0],[\"Wielkopolskie\",14900.0],[\"Zachodniopomorskie\",11400.0],[\"Zahodna Slovenija\",26500.0],[\"Západné Slovensko\",15600.0],[\"Észak-Alföld\",9200.0],[\"Észak-Magyarország\",9500.0],[\"Łódzkie\",13200.0],[\"Śląskie\",13500.0],[\"Świętokrzyskie\",9800.0],[\"Северен централен (Severen tsentralen)\",6000.0],[\"Северозападен (Severozapaden)\",5800.0],[\"Североизточен (Severoiztochen)\",6700.0],[\"Югозападен (Yugozapaden)\",14800.0],[\"Югоизточен (Yugoiztochen)\",6200.0],[\"Южен централен (Yuzhen tsentralen)\",6400.0]],\"hovertemplate\":\"%{customdata[0]}\",\"legendgroup\":\"Central and Eastern Europe\",\"marker\":{\"color\":\"#00cc96\",\"size\":[38900.0,26000.0,29000.0,10600.0,15100.0,10300.0,9700.0,23400.0,11500.0,18700.0,17000.0,11100.0,12700.0,9300.0,11100.0,11600.0,12500.0,15700.0,7200.0,10600.0,13300.0,10700.0,7900.0,11200.0,9400.0,10000.0,13000.0,43700.0,16800.0,13600.0,10000.0,13400.0,16500.0,18000.0,9100.0,8600.0,8900.0,11700.0,18500.0,12000.0,9600.0,30000.0,14900.0,11400.0,26500.0,15600.0,9200.0,9500.0,13200.0,13500.0,9800.0,6000.0,5800.0,6700.0,14800.0,6200.0,6400.0],\"sizemode\":\"area\",\"sizeref\":254.5,\"symbol\":\"circle\"},\"mode\":\"markers\",\"name\":\"Central and Eastern Europe\",\"orientation\":\"v\",\"showlegend\":true,\"type\":\"scatter\",\"x\":[10566.089002573817,-2319.053132794726,709.6963455482252,-17735.353634479638,-13234.70652399643,-18035.234812358598,-18635.23891414583,-4935.911389650374,-16835.580412005056,-9635.159292682383,-11335.804974971821,-17234.500470991974,-15635.236656124396,-19035.045182374055,-17235.115881518697,-16735.110148197386,-15833.113066029013,-12633.534801164207,-21134.885653216894,-17735.23009506494,-15035.356616621606,-17634.69622268569,-20435.09443580818,-17133.592009614906,-18934.57948449636,-18335.423433176686,-15334.624381071084,15398.634441552436,-11535.1085023004,-14734.738219135294,-18335.315790132736,-14935.379989088697,-11834.888386660814,-10335.300810479039,-19235.350684601945,-19735.19203020052,-19435.233934816024,-16635.475032991835,-9835.857371830783,-16334.90210030063,-18735.39479368421,1669.1060280354043,-13435.024392971818,-16935.10657155673,-1835.9254286093956,-12735.122280664049,-19134.97171463931,-18835.119141231524,-15134.570443877941,-14831.370559235513,-18534.7561867438,-22335.09467132345,-22535.103515788356,-21634.905497672695,-13535.029328681709,-22135.1169045834,-21934.856976041745],\"xaxis\":\"x\",\"y\":[-156.1028616743543,1013.4609244547637,3080.843733641224,-37.14128635771814,-22.71231365686697,-31.59493328099183,-27.65390379125575,-169.93922482016893,-61.43766956213538,-89.33007200632967,-119.90336718086057,9.260042786228823,-37.92308329719067,-4.343399522740743,-34.97907063853521,-35.32122866178883,97.73713088793778,52.46464881867466,26.7775175505523,-29.828039209221885,-55.190703389047975,-1.105699947077276,5.143344411550712,89.35313902898869,28.107515834976954,-39.47003949904663,-6.118906692581113,2164.4811796075646,-66.16679269476028,-14.852957399247824,-27.897817650334773,-60.831031890078286,-51.39181212141222,-81.04022380832784,-17.328337210150288,2.623352707573165,-15.28674426516964,-61.45553719310999,-126.88608316649162,-19.51718254805161,-31.376454675392285,140.80050399308917,-46.05144490977441,-35.70051853134733,-195.8463015454603,-52.88892786180852,-2.4736183527656053,-8.342238202471579,-3.8247916892626512,225.1378525336084,10.83037304946518,11.846509001937799,4.500855705601395,15.09057738898316,-55.09077672024077,8.738842184480788,19.54974709378106],\"yaxis\":\"y\"},{\"customdata\":[[\"Eesti\",20200.0],[\"Etelä-Suomi\",37900.0],[\"Helsinki-Uusimaa\",55000.0],[\"Hovedstaden\",69700.0],[\"Latvija\",15500.0],[\"Länsi-Suomi\",37900.0],[\"Mellersta Norrland\",38600.0],[\"Midtjylland\",49200.0],[\"Nordjylland\",44600.0],[\"Norra Mellansverige\",36400.0],[\"Pohjois- ja Itä-Suomi\",35900.0],[\"Sjælland\",37600.0],[\"Småland med öarna\",38200.0],[\"Sostinės regionas\",25600.0],[\"Stockholm\",64400.0],[\"Syddanmark\",47400.0],[\"Sydsverige\",40000.0],[\"Vidurio ir vakarų Lietuvos regionas \",14400.0],[\"Västsverige\",43800.0],[\"Åland\",38900.0],[\"Östra Mellansverige\",38600.0],[\"Övre Norrland\",45600.0]],\"hovertemplate\":\"%{customdata[0]}\",\"legendgroup\":\"Northern Europe\",\"marker\":{\"color\":\"#ab63fa\",\"size\":[20200.0,37900.0,55000.0,69700.0,15500.0,37900.0,38600.0,49200.0,44600.0,36400.0,35900.0,37600.0,38200.0,25600.0,64400.0,47400.0,40000.0,14400.0,43800.0,38900.0,38600.0,45600.0],\"sizemode\":\"area\",\"sizeref\":254.5,\"symbol\":\"circle\"},\"mode\":\"markers\",\"name\":\"Northern Europe\",\"orientation\":\"v\",\"showlegend\":true,\"type\":\"scatter\",\"x\":[-8136.714821388985,9561.701973892314,26662.34429769061,41368.77728143789,-12836.319329091468,9561.520502718022,10261.214850234737,20861.607041982414,16261.57476582193,8061.519613906741,7561.412333287728,9262.860288288266,9861.566611188398,-2736.0835651744433,36063.80140434254,19061.74643165122,11662.628905441763,-13935.989741895812,15461.698551754924,10561.56922813983,10261.893492077312,17260.658163141685],\"xaxis\":\"x\",\"y\":[-206.33773721490329,-444.1959644400914,-527.3458780823962,-160.09997192257217,-142.55474817735202,-457.12622847473654,-484.74554856238984,-531.9011289135284,-497.74988465614734,-446.7935277933024,-448.1626094369067,-358.46323340681886,-458.0966688849383,-216.68793909714802,-482.1528862501323,-508.7802316914095,-397.32171544373966,-117.52015292135665,-490.2613707023301,-471.40036169205706,-442.7539866135593,-580.5433755325771],\"yaxis\":\"y\"}],                        {\"height\":600,\"legend\":{\"itemsizing\":\"constant\",\"orientation\":\"h\",\"title\":{\"text\":\"EU Region\"},\"tracegroupgap\":0,\"yanchor\":\"top\"},\"margin\":{\"b\":1,\"l\":1,\"r\":1,\"t\":15},\"plot_bgcolor\":\"#FFFFFF\",\"template\":{\"data\":{\"bar\":[{\"error_x\":{\"color\":\"#2a3f5f\"},\"error_y\":{\"color\":\"#2a3f5f\"},\"marker\":{\"line\":{\"color\":\"#E5ECF6\",\"width\":0.5},\"pattern\":{\"fillmode\":\"overlay\",\"size\":10,\"solidity\":0.2}},\"type\":\"bar\"}],\"barpolar\":[{\"marker\":{\"line\":{\"color\":\"#E5ECF6\",\"width\":0.5},\"pattern\":{\"fillmode\":\"overlay\",\"size\":10,\"solidity\":0.2}},\"type\":\"barpolar\"}],\"carpet\":[{\"aaxis\":{\"endlinecolor\":\"#2a3f5f\",\"gridcolor\":\"white\",\"linecolor\":\"white\",\"minorgridcolor\":\"white\",\"startlinecolor\":\"#2a3f5f\"},\"baxis\":{\"endlinecolor\":\"#2a3f5f\",\"gridcolor\":\"white\",\"linecolor\":\"white\",\"minorgridcolor\":\"white\",\"startlinecolor\":\"#2a3f5f\"},\"type\":\"carpet\"}],\"choropleth\":[{\"colorbar\":{\"outlinewidth\":0,\"ticks\":\"\"},\"type\":\"choropleth\"}],\"contour\":[{\"colorbar\":{\"outlinewidth\":0,\"ticks\":\"\"},\"colorscale\":[[0.0,\"#0d0887\"],[0.1111111111111111,\"#46039f\"],[0.2222222222222222,\"#7201a8\"],[0.3333333333333333,\"#9c179e\"],[0.4444444444444444,\"#bd3786\"],[0.5555555555555556,\"#d8576b\"],[0.6666666666666666,\"#ed7953\"],[0.7777777777777778,\"#fb9f3a\"],[0.8888888888888888,\"#fdca26\"],[1.0,\"#f0f921\"]],\"type\":\"contour\"}],\"contourcarpet\":[{\"colorbar\":{\"outlinewidth\":0,\"ticks\":\"\"},\"type\":\"contourcarpet\"}],\"heatmap\":[{\"colorbar\":{\"outlinewidth\":0,\"ticks\":\"\"},\"colorscale\":[[0.0,\"#0d0887\"],[0.1111111111111111,\"#46039f\"],[0.2222222222222222,\"#7201a8\"],[0.3333333333333333,\"#9c179e\"],[0.4444444444444444,\"#bd3786\"],[0.5555555555555556,\"#d8576b\"],[0.6666666666666666,\"#ed7953\"],[0.7777777777777778,\"#fb9f3a\"],[0.8888888888888888,\"#fdca26\"],[1.0,\"#f0f921\"]],\"type\":\"heatmap\"}],\"heatmapgl\":[{\"colorbar\":{\"outlinewidth\":0,\"ticks\":\"\"},\"colorscale\":[[0.0,\"#0d0887\"],[0.1111111111111111,\"#46039f\"],[0.2222222222222222,\"#7201a8\"],[0.3333333333333333,\"#9c179e\"],[0.4444444444444444,\"#bd3786\"],[0.5555555555555556,\"#d8576b\"],[0.6666666666666666,\"#ed7953\"],[0.7777777777777778,\"#fb9f3a\"],[0.8888888888888888,\"#fdca26\"],[1.0,\"#f0f921\"]],\"type\":\"heatmapgl\"}],\"histogram\":[{\"marker\":{\"pattern\":{\"fillmode\":\"overlay\",\"size\":10,\"solidity\":0.2}},\"type\":\"histogram\"}],\"histogram2d\":[{\"colorbar\":{\"outlinewidth\":0,\"ticks\":\"\"},\"colorscale\":[[0.0,\"#0d0887\"],[0.1111111111111111,\"#46039f\"],[0.2222222222222222,\"#7201a8\"],[0.3333333333333333,\"#9c179e\"],[0.4444444444444444,\"#bd3786\"],[0.5555555555555556,\"#d8576b\"],[0.6666666666666666,\"#ed7953\"],[0.7777777777777778,\"#fb9f3a\"],[0.8888888888888888,\"#fdca26\"],[1.0,\"#f0f921\"]],\"type\":\"histogram2d\"}],\"histogram2dcontour\":[{\"colorbar\":{\"outlinewidth\":0,\"ticks\":\"\"},\"colorscale\":[[0.0,\"#0d0887\"],[0.1111111111111111,\"#46039f\"],[0.2222222222222222,\"#7201a8\"],[0.3333333333333333,\"#9c179e\"],[0.4444444444444444,\"#bd3786\"],[0.5555555555555556,\"#d8576b\"],[0.6666666666666666,\"#ed7953\"],[0.7777777777777778,\"#fb9f3a\"],[0.8888888888888888,\"#fdca26\"],[1.0,\"#f0f921\"]],\"type\":\"histogram2dcontour\"}],\"mesh3d\":[{\"colorbar\":{\"outlinewidth\":0,\"ticks\":\"\"},\"type\":\"mesh3d\"}],\"parcoords\":[{\"line\":{\"colorbar\":{\"outlinewidth\":0,\"ticks\":\"\"}},\"type\":\"parcoords\"}],\"pie\":[{\"automargin\":true,\"type\":\"pie\"}],\"scatter\":[{\"marker\":{\"colorbar\":{\"outlinewidth\":0,\"ticks\":\"\"}},\"type\":\"scatter\"}],\"scatter3d\":[{\"line\":{\"colorbar\":{\"outlinewidth\":0,\"ticks\":\"\"}},\"marker\":{\"colorbar\":{\"outlinewidth\":0,\"ticks\":\"\"}},\"type\":\"scatter3d\"}],\"scattercarpet\":[{\"marker\":{\"colorbar\":{\"outlinewidth\":0,\"ticks\":\"\"}},\"type\":\"scattercarpet\"}],\"scattergeo\":[{\"marker\":{\"colorbar\":{\"outlinewidth\":0,\"ticks\":\"\"}},\"type\":\"scattergeo\"}],\"scattergl\":[{\"marker\":{\"colorbar\":{\"outlinewidth\":0,\"ticks\":\"\"}},\"type\":\"scattergl\"}],\"scattermapbox\":[{\"marker\":{\"colorbar\":{\"outlinewidth\":0,\"ticks\":\"\"}},\"type\":\"scattermapbox\"}],\"scatterpolar\":[{\"marker\":{\"colorbar\":{\"outlinewidth\":0,\"ticks\":\"\"}},\"type\":\"scatterpolar\"}],\"scatterpolargl\":[{\"marker\":{\"colorbar\":{\"outlinewidth\":0,\"ticks\":\"\"}},\"type\":\"scatterpolargl\"}],\"scatterternary\":[{\"marker\":{\"colorbar\":{\"outlinewidth\":0,\"ticks\":\"\"}},\"type\":\"scatterternary\"}],\"surface\":[{\"colorbar\":{\"outlinewidth\":0,\"ticks\":\"\"},\"colorscale\":[[0.0,\"#0d0887\"],[0.1111111111111111,\"#46039f\"],[0.2222222222222222,\"#7201a8\"],[0.3333333333333333,\"#9c179e\"],[0.4444444444444444,\"#bd3786\"],[0.5555555555555556,\"#d8576b\"],[0.6666666666666666,\"#ed7953\"],[0.7777777777777778,\"#fb9f3a\"],[0.8888888888888888,\"#fdca26\"],[1.0,\"#f0f921\"]],\"type\":\"surface\"}],\"table\":[{\"cells\":{\"fill\":{\"color\":\"#EBF0F8\"},\"line\":{\"color\":\"white\"}},\"header\":{\"fill\":{\"color\":\"#C8D4E3\"},\"line\":{\"color\":\"white\"}},\"type\":\"table\"}]},\"layout\":{\"annotationdefaults\":{\"arrowcolor\":\"#2a3f5f\",\"arrowhead\":0,\"arrowwidth\":1},\"autotypenumbers\":\"strict\",\"coloraxis\":{\"colorbar\":{\"outlinewidth\":0,\"ticks\":\"\"}},\"colorscale\":{\"diverging\":[[0,\"#8e0152\"],[0.1,\"#c51b7d\"],[0.2,\"#de77ae\"],[0.3,\"#f1b6da\"],[0.4,\"#fde0ef\"],[0.5,\"#f7f7f7\"],[0.6,\"#e6f5d0\"],[0.7,\"#b8e186\"],[0.8,\"#7fbc41\"],[0.9,\"#4d9221\"],[1,\"#276419\"]],\"sequential\":[[0.0,\"#0d0887\"],[0.1111111111111111,\"#46039f\"],[0.2222222222222222,\"#7201a8\"],[0.3333333333333333,\"#9c179e\"],[0.4444444444444444,\"#bd3786\"],[0.5555555555555556,\"#d8576b\"],[0.6666666666666666,\"#ed7953\"],[0.7777777777777778,\"#fb9f3a\"],[0.8888888888888888,\"#fdca26\"],[1.0,\"#f0f921\"]],\"sequentialminus\":[[0.0,\"#0d0887\"],[0.1111111111111111,\"#46039f\"],[0.2222222222222222,\"#7201a8\"],[0.3333333333333333,\"#9c179e\"],[0.4444444444444444,\"#bd3786\"],[0.5555555555555556,\"#d8576b\"],[0.6666666666666666,\"#ed7953\"],[0.7777777777777778,\"#fb9f3a\"],[0.8888888888888888,\"#fdca26\"],[1.0,\"#f0f921\"]]},\"colorway\":[\"#636efa\",\"#EF553B\",\"#00cc96\",\"#ab63fa\",\"#FFA15A\",\"#19d3f3\",\"#FF6692\",\"#B6E880\",\"#FF97FF\",\"#FECB52\"],\"font\":{\"color\":\"#2a3f5f\"},\"geo\":{\"bgcolor\":\"white\",\"lakecolor\":\"white\",\"landcolor\":\"#E5ECF6\",\"showlakes\":true,\"showland\":true,\"subunitcolor\":\"white\"},\"hoverlabel\":{\"align\":\"left\"},\"hovermode\":\"closest\",\"mapbox\":{\"style\":\"light\"},\"paper_bgcolor\":\"white\",\"plot_bgcolor\":\"#E5ECF6\",\"polar\":{\"angularaxis\":{\"gridcolor\":\"white\",\"linecolor\":\"white\",\"ticks\":\"\"},\"bgcolor\":\"#E5ECF6\",\"radialaxis\":{\"gridcolor\":\"white\",\"linecolor\":\"white\",\"ticks\":\"\"}},\"scene\":{\"xaxis\":{\"backgroundcolor\":\"#E5ECF6\",\"gridcolor\":\"white\",\"gridwidth\":2,\"linecolor\":\"white\",\"showbackground\":true,\"ticks\":\"\",\"zerolinecolor\":\"white\"},\"yaxis\":{\"backgroundcolor\":\"#E5ECF6\",\"gridcolor\":\"white\",\"gridwidth\":2,\"linecolor\":\"white\",\"showbackground\":true,\"ticks\":\"\",\"zerolinecolor\":\"white\"},\"zaxis\":{\"backgroundcolor\":\"#E5ECF6\",\"gridcolor\":\"white\",\"gridwidth\":2,\"linecolor\":\"white\",\"showbackground\":true,\"ticks\":\"\",\"zerolinecolor\":\"white\"}},\"shapedefaults\":{\"line\":{\"color\":\"#2a3f5f\"}},\"ternary\":{\"aaxis\":{\"gridcolor\":\"white\",\"linecolor\":\"white\",\"ticks\":\"\"},\"baxis\":{\"gridcolor\":\"white\",\"linecolor\":\"white\",\"ticks\":\"\"},\"bgcolor\":\"#E5ECF6\",\"caxis\":{\"gridcolor\":\"white\",\"linecolor\":\"white\",\"ticks\":\"\"}},\"title\":{\"x\":0.05},\"xaxis\":{\"automargin\":true,\"gridcolor\":\"white\",\"linecolor\":\"white\",\"ticks\":\"\",\"title\":{\"standoff\":15},\"zerolinecolor\":\"white\",\"zerolinewidth\":2},\"yaxis\":{\"automargin\":true,\"gridcolor\":\"white\",\"linecolor\":\"white\",\"ticks\":\"\",\"title\":{\"standoff\":15},\"zerolinecolor\":\"white\",\"zerolinewidth\":2}}},\"title\":{\"text\":\"\"},\"width\":800,\"xaxis\":{\"anchor\":\"y\",\"domain\":[0.0,1.0],\"title\":{\"text\":\"\"}},\"yaxis\":{\"anchor\":\"x\",\"domain\":[0.0,1.0],\"title\":{\"text\":\"\"}}},                        {\"responsive\": true}                    ).then(function(){\n",
       "                            \n",
       "var gd = document.getElementById('7283ba77-6a3f-44e4-a919-19d17c6917db');\n",
       "var x = new MutationObserver(function (mutations, observer) {{\n",
       "        var display = window.getComputedStyle(gd).display;\n",
       "        if (!display || display === 'none') {{\n",
       "            console.log([gd, 'removed!']);\n",
       "            Plotly.purge(gd);\n",
       "            observer.disconnect();\n",
       "        }}\n",
       "}});\n",
       "\n",
       "// Listen for the removal of the full notebook cells\n",
       "var notebookContainer = gd.closest('#notebook-container');\n",
       "if (notebookContainer) {{\n",
       "    x.observe(notebookContainer, {childList: true});\n",
       "}}\n",
       "\n",
       "// Listen for the clearing of the current output cell\n",
       "var outputEl = gd.closest('.output');\n",
       "if (outputEl) {{\n",
       "    x.observe(outputEl, {childList: true});\n",
       "}}\n",
       "\n",
       "                        })                };                });            </script>        </div>"
      ]
     },
     "metadata": {},
     "output_type": "display_data"
    }
   ],
   "source": [
    "cols_num = ['GDP per Capita', 'Unemployment %',\n",
    "            'Life Expectancy', 'Doctors per 100000',\n",
    "            'Fatal Road Accidents per Million',\n",
    "            'Tertiary Educational Attainment %',\n",
    "            'Population Density', 'People at Risk of Poverty %',\n",
    "            'Regular Internet Users %']\n",
    "\n",
    "pca = PCA(n_components = 2)\n",
    "components = pca.fit_transform(df[cols_num])\n",
    "total_var = pca.explained_variance_ratio_.sum() * 100\n",
    "\n",
    "df_ = df.join(pd.DataFrame(components, index = df.index))\n",
    "df_.reset_index(inplace = True)\n",
    "\n",
    "fig = px.scatter(df_, x=0, y=1, color=df_['EU Region'],\n",
    "                 width = 800, height = 600, size = 'GDP per Capita',\n",
    "                 hover_data = ['region_name', 'GDP per Capita'])\n",
    "\n",
    "fig.update_layout(  margin={\"r\":1,\"t\":15,\"l\":1,\"b\":1},\n",
    "                    plot_bgcolor = '#FFFFFF',\n",
    "                    legend = dict(orientation = 'h', yanchor = 'top'),\n",
    "                    yaxis_title='', xaxis_title='',\n",
    "                    title = \"\")\n",
    "\n",
    "hovertemplate = '%{customdata[0]}' \n",
    "fig.update_traces(hovertemplate=hovertemplate)\n",
    "                \n",
    "fig.show()"
   ]
  },
  {
   "cell_type": "code",
   "execution_count": 91,
   "id": "998bb24b-a1ac-4d8f-92b6-2026b6f4d885",
   "metadata": {},
   "outputs": [
    {
     "data": {
      "text/html": [
       "<div>\n",
       "<style scoped>\n",
       "    .dataframe tbody tr th:only-of-type {\n",
       "        vertical-align: middle;\n",
       "    }\n",
       "\n",
       "    .dataframe tbody tr th {\n",
       "        vertical-align: top;\n",
       "    }\n",
       "\n",
       "    .dataframe thead th {\n",
       "        text-align: right;\n",
       "    }\n",
       "</style>\n",
       "<table border=\"1\" class=\"dataframe\">\n",
       "  <thead>\n",
       "    <tr style=\"text-align: right;\">\n",
       "      <th></th>\n",
       "      <th>region_name</th>\n",
       "      <th>GDP</th>\n",
       "      <th>Country</th>\n",
       "      <th>EU Region</th>\n",
       "      <th>GDP per Capita</th>\n",
       "      <th>Unemployment %</th>\n",
       "      <th>Life Expectancy</th>\n",
       "      <th>Doctors per 100000</th>\n",
       "      <th>Fatal Road Accidents per Million</th>\n",
       "      <th>Tertiary Educational Attainment %</th>\n",
       "      <th>Population Density</th>\n",
       "      <th>People at Risk of Poverty %</th>\n",
       "      <th>Regular Internet Users %</th>\n",
       "      <th>0</th>\n",
       "      <th>1</th>\n",
       "    </tr>\n",
       "  </thead>\n",
       "  <tbody>\n",
       "    <tr>\n",
       "      <th>237</th>\n",
       "      <td>Северозападен (Severozapaden)</td>\n",
       "      <td>4.19</td>\n",
       "      <td>BG</td>\n",
       "      <td>Central and Eastern Europe</td>\n",
       "      <td>5800.0</td>\n",
       "      <td>11.1</td>\n",
       "      <td>72.1</td>\n",
       "      <td>448.70</td>\n",
       "      <td>98.0</td>\n",
       "      <td>20.7</td>\n",
       "      <td>39.0</td>\n",
       "      <td>41.30</td>\n",
       "      <td>62.0</td>\n",
       "      <td>-22535.103516</td>\n",
       "      <td>4.500856</td>\n",
       "    </tr>\n",
       "    <tr>\n",
       "      <th>236</th>\n",
       "      <td>Северен централен (Severen tsentralen)</td>\n",
       "      <td>4.59</td>\n",
       "      <td>BG</td>\n",
       "      <td>Central and Eastern Europe</td>\n",
       "      <td>6000.0</td>\n",
       "      <td>6.7</td>\n",
       "      <td>72.8</td>\n",
       "      <td>333.20</td>\n",
       "      <td>81.0</td>\n",
       "      <td>26.5</td>\n",
       "      <td>53.1</td>\n",
       "      <td>35.90</td>\n",
       "      <td>70.0</td>\n",
       "      <td>-22335.094671</td>\n",
       "      <td>11.846509</td>\n",
       "    </tr>\n",
       "    <tr>\n",
       "      <th>240</th>\n",
       "      <td>Югоизточен (Yugoiztochen)</td>\n",
       "      <td>6.36</td>\n",
       "      <td>BG</td>\n",
       "      <td>Central and Eastern Europe</td>\n",
       "      <td>6200.0</td>\n",
       "      <td>5.6</td>\n",
       "      <td>73.3</td>\n",
       "      <td>341.89</td>\n",
       "      <td>88.0</td>\n",
       "      <td>22.9</td>\n",
       "      <td>52.5</td>\n",
       "      <td>36.60</td>\n",
       "      <td>65.0</td>\n",
       "      <td>-22135.116905</td>\n",
       "      <td>8.738842</td>\n",
       "    </tr>\n",
       "    <tr>\n",
       "      <th>241</th>\n",
       "      <td>Южен централен (Yuzhen tsentralen)</td>\n",
       "      <td>8.99</td>\n",
       "      <td>BG</td>\n",
       "      <td>Central and Eastern Europe</td>\n",
       "      <td>6400.0</td>\n",
       "      <td>4.0</td>\n",
       "      <td>73.9</td>\n",
       "      <td>403.78</td>\n",
       "      <td>55.0</td>\n",
       "      <td>21.9</td>\n",
       "      <td>63.7</td>\n",
       "      <td>37.70</td>\n",
       "      <td>63.0</td>\n",
       "      <td>-21934.856976</td>\n",
       "      <td>19.549747</td>\n",
       "    </tr>\n",
       "    <tr>\n",
       "      <th>238</th>\n",
       "      <td>Североизточен (Severoiztochen)</td>\n",
       "      <td>6.19</td>\n",
       "      <td>BG</td>\n",
       "      <td>Central and Eastern Europe</td>\n",
       "      <td>6700.0</td>\n",
       "      <td>6.1</td>\n",
       "      <td>73.5</td>\n",
       "      <td>397.76</td>\n",
       "      <td>72.0</td>\n",
       "      <td>23.3</td>\n",
       "      <td>63.7</td>\n",
       "      <td>34.70</td>\n",
       "      <td>71.0</td>\n",
       "      <td>-21634.905498</td>\n",
       "      <td>15.090577</td>\n",
       "    </tr>\n",
       "    <tr>\n",
       "      <th>...</th>\n",
       "      <td>...</td>\n",
       "      <td>...</td>\n",
       "      <td>...</td>\n",
       "      <td>...</td>\n",
       "      <td>...</td>\n",
       "      <td>...</td>\n",
       "      <td>...</td>\n",
       "      <td>...</td>\n",
       "      <td>...</td>\n",
       "      <td>...</td>\n",
       "      <td>...</td>\n",
       "      <td>...</td>\n",
       "      <td>...</td>\n",
       "      <td>...</td>\n",
       "      <td>...</td>\n",
       "    </tr>\n",
       "    <tr>\n",
       "      <th>163</th>\n",
       "      <td>Région de Bruxelles-Capitale/ Brussels Hoofdst...</td>\n",
       "      <td>83.85</td>\n",
       "      <td>BE</td>\n",
       "      <td>Western Europe</td>\n",
       "      <td>68400.0</td>\n",
       "      <td>12.4</td>\n",
       "      <td>79.4</td>\n",
       "      <td>390.38</td>\n",
       "      <td>13.0</td>\n",
       "      <td>49.3</td>\n",
       "      <td>7526.7</td>\n",
       "      <td>18.40</td>\n",
       "      <td>89.0</td>\n",
       "      <td>40161.968378</td>\n",
       "      <td>6619.674831</td>\n",
       "    </tr>\n",
       "    <tr>\n",
       "      <th>70</th>\n",
       "      <td>Hovedstaden</td>\n",
       "      <td>128.90</td>\n",
       "      <td>DK</td>\n",
       "      <td>Northern Europe</td>\n",
       "      <td>69700.0</td>\n",
       "      <td>5.7</td>\n",
       "      <td>81.5</td>\n",
       "      <td>500.65</td>\n",
       "      <td>15.0</td>\n",
       "      <td>53.1</td>\n",
       "      <td>756.0</td>\n",
       "      <td>17.50</td>\n",
       "      <td>95.0</td>\n",
       "      <td>41368.777281</td>\n",
       "      <td>-160.099972</td>\n",
       "    </tr>\n",
       "    <tr>\n",
       "      <th>49</th>\n",
       "      <td>Eastern and Midland</td>\n",
       "      <td>186.17</td>\n",
       "      <td>IE</td>\n",
       "      <td>Western Europe</td>\n",
       "      <td>75700.0</td>\n",
       "      <td>6.4</td>\n",
       "      <td>82.6</td>\n",
       "      <td>485.59</td>\n",
       "      <td>21.0</td>\n",
       "      <td>53.9</td>\n",
       "      <td>169.8</td>\n",
       "      <td>19.00</td>\n",
       "      <td>95.0</td>\n",
       "      <td>47360.095363</td>\n",
       "      <td>-829.381131</td>\n",
       "    </tr>\n",
       "    <tr>\n",
       "      <th>177</th>\n",
       "      <td>Southern</td>\n",
       "      <td>160.27</td>\n",
       "      <td>IE</td>\n",
       "      <td>Western Europe</td>\n",
       "      <td>97500.0</td>\n",
       "      <td>6.5</td>\n",
       "      <td>82.5</td>\n",
       "      <td>485.59</td>\n",
       "      <td>38.0</td>\n",
       "      <td>45.6</td>\n",
       "      <td>55.6</td>\n",
       "      <td>20.40</td>\n",
       "      <td>92.0</td>\n",
       "      <td>69156.398364</td>\n",
       "      <td>-1244.995606</td>\n",
       "    </tr>\n",
       "    <tr>\n",
       "      <th>96</th>\n",
       "      <td>Luxembourg</td>\n",
       "      <td>64.22</td>\n",
       "      <td>LU</td>\n",
       "      <td>Western Europe</td>\n",
       "      <td>101800.0</td>\n",
       "      <td>5.3</td>\n",
       "      <td>82.2</td>\n",
       "      <td>485.59</td>\n",
       "      <td>42.0</td>\n",
       "      <td>47.1</td>\n",
       "      <td>239.8</td>\n",
       "      <td>19.08</td>\n",
       "      <td>94.0</td>\n",
       "      <td>73458.518118</td>\n",
       "      <td>-1120.404506</td>\n",
       "    </tr>\n",
       "  </tbody>\n",
       "</table>\n",
       "<p>242 rows × 15 columns</p>\n",
       "</div>"
      ],
      "text/plain": [
       "                                           region_name     GDP Country  \\\n",
       "237                      Северозападен (Severozapaden)    4.19      BG   \n",
       "236             Северен централен (Severen tsentralen)    4.59      BG   \n",
       "240                          Югоизточен (Yugoiztochen)    6.36      BG   \n",
       "241                 Южен централен (Yuzhen tsentralen)    8.99      BG   \n",
       "238                     Североизточен (Severoiztochen)    6.19      BG   \n",
       "..                                                 ...     ...     ...   \n",
       "163  Région de Bruxelles-Capitale/ Brussels Hoofdst...   83.85      BE   \n",
       "70                                         Hovedstaden  128.90      DK   \n",
       "49                                 Eastern and Midland  186.17      IE   \n",
       "177                                           Southern  160.27      IE   \n",
       "96                                          Luxembourg   64.22      LU   \n",
       "\n",
       "                      EU Region  GDP per Capita  Unemployment %  \\\n",
       "237  Central and Eastern Europe          5800.0            11.1   \n",
       "236  Central and Eastern Europe          6000.0             6.7   \n",
       "240  Central and Eastern Europe          6200.0             5.6   \n",
       "241  Central and Eastern Europe          6400.0             4.0   \n",
       "238  Central and Eastern Europe          6700.0             6.1   \n",
       "..                          ...             ...             ...   \n",
       "163              Western Europe         68400.0            12.4   \n",
       "70              Northern Europe         69700.0             5.7   \n",
       "49               Western Europe         75700.0             6.4   \n",
       "177              Western Europe         97500.0             6.5   \n",
       "96               Western Europe        101800.0             5.3   \n",
       "\n",
       "     Life Expectancy  Doctors per 100000  Fatal Road Accidents per Million  \\\n",
       "237             72.1              448.70                              98.0   \n",
       "236             72.8              333.20                              81.0   \n",
       "240             73.3              341.89                              88.0   \n",
       "241             73.9              403.78                              55.0   \n",
       "238             73.5              397.76                              72.0   \n",
       "..               ...                 ...                               ...   \n",
       "163             79.4              390.38                              13.0   \n",
       "70              81.5              500.65                              15.0   \n",
       "49              82.6              485.59                              21.0   \n",
       "177             82.5              485.59                              38.0   \n",
       "96              82.2              485.59                              42.0   \n",
       "\n",
       "     Tertiary Educational Attainment %  Population Density  \\\n",
       "237                               20.7                39.0   \n",
       "236                               26.5                53.1   \n",
       "240                               22.9                52.5   \n",
       "241                               21.9                63.7   \n",
       "238                               23.3                63.7   \n",
       "..                                 ...                 ...   \n",
       "163                               49.3              7526.7   \n",
       "70                                53.1               756.0   \n",
       "49                                53.9               169.8   \n",
       "177                               45.6                55.6   \n",
       "96                                47.1               239.8   \n",
       "\n",
       "     People at Risk of Poverty %  Regular Internet Users %             0  \\\n",
       "237                        41.30                      62.0 -22535.103516   \n",
       "236                        35.90                      70.0 -22335.094671   \n",
       "240                        36.60                      65.0 -22135.116905   \n",
       "241                        37.70                      63.0 -21934.856976   \n",
       "238                        34.70                      71.0 -21634.905498   \n",
       "..                           ...                       ...           ...   \n",
       "163                        18.40                      89.0  40161.968378   \n",
       "70                         17.50                      95.0  41368.777281   \n",
       "49                         19.00                      95.0  47360.095363   \n",
       "177                        20.40                      92.0  69156.398364   \n",
       "96                         19.08                      94.0  73458.518118   \n",
       "\n",
       "               1  \n",
       "237     4.500856  \n",
       "236    11.846509  \n",
       "240     8.738842  \n",
       "241    19.549747  \n",
       "238    15.090577  \n",
       "..           ...  \n",
       "163  6619.674831  \n",
       "70   -160.099972  \n",
       "49   -829.381131  \n",
       "177 -1244.995606  \n",
       "96  -1120.404506  \n",
       "\n",
       "[242 rows x 15 columns]"
      ]
     },
     "execution_count": 91,
     "metadata": {},
     "output_type": "execute_result"
    }
   ],
   "source": [
    "df_.sort_values(0)"
   ]
  },
  {
   "cell_type": "code",
   "execution_count": null,
   "id": "24a8f1e0-b44e-48e0-806a-45db870fdd44",
   "metadata": {},
   "outputs": [],
   "source": []
  }
 ],
 "metadata": {
  "kernelspec": {
   "display_name": "Python 3 (ipykernel)",
   "language": "python",
   "name": "python3"
  },
  "language_info": {
   "codemirror_mode": {
    "name": "ipython",
    "version": 3
   },
   "file_extension": ".py",
   "mimetype": "text/x-python",
   "name": "python",
   "nbconvert_exporter": "python",
   "pygments_lexer": "ipython3",
   "version": "3.7.13"
  }
 },
 "nbformat": 4,
 "nbformat_minor": 5
}
